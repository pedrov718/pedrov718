{
 "cells": [
  {
   "cell_type": "markdown",
   "metadata": {
    "id": "C81OCKpNvQGF",
    "narrative": true
   },
   "source": [
    "# INFO 2950 Homework 1"
   ]
  },
  {
   "cell_type": "markdown",
   "metadata": {
    "id": "6i9ep1-4vQGH",
    "narrative": true
   },
   "source": [
    "This week, our goal is to (re-)familiarize ourselves with the basics of Python, and start getting to know the `pandas` package, which helps us work with data frames. We will also discuss cleaning data. "
   ]
  },
  {
   "cell_type": "markdown",
   "metadata": {
    "id": "xBaAhrHlvQGI",
    "narrative": true
   },
   "source": [
    "## Part 1: Discussion Question\n",
    "\n",
    "As a data scientist, you'll be asked to build various tools and systems all the time. While you might be *capable* of performing these tasks, it's always worth asking yourself: should you?\n",
    "\n",
    "Below is a list of scenarios. In each case, answer the discussion question: **If you were to build this system, how might its use affect people (be it positively or negatively)?**\n",
    "\n",
    "### Scenarios\n",
    "1. You work for an e-commerce site that wants to direct customers to items they would likely be interested in and avoiding serving them irrelevant ads. You've been asked to build an advertisement system that recommends products to customers based on a variety of attributes, including their age, income level, locale, gender, etc.\n",
    "1. You work for a news site that lives or dies from ad revenue. Advertisers don't want their ads next to \"controversial\" news items. You've been asked to build a classifier for \"touchy subjects\".\n",
    "1. You work for a public health agency that wants to identify people exposed to a disease for testing. You've been asked to build a system that will trace phone locations and estimate proximity between individuals to infer exposure.\n",
    "1. You work for a university that wants to identify students having difficulties with stress and mental health. You've been asked to build a system that will identify students who aren't going to class.\n"
   ]
  },
  {
   "cell_type": "markdown",
   "metadata": {
    "id": "HSuFJgyYvQGJ",
    "problem": 1
   },
   "source": [
    "---\n",
    "\n",
    "### Problem 1 (6 pts)\n",
    "*Remember not to move or modify problem header cells, like this one; we use it for automated homework analysis.* \n",
    "\n",
    "Choose **two** of the above scenarios, and in each case, answer the discussion question in approximately 1 paragraph (100 words).\n",
    "\n",
    "---"
   ]
  },
  {
   "cell_type": "markdown",
   "metadata": {
    "id": "b1hnh3_HvQGK"
   },
   "source": [
    "(insert answer for one scenario here)"
   ]
  },
  {
   "cell_type": "markdown",
   "metadata": {
    "id": "KILph09IvQGK"
   },
   "source": [
    "(insert answer for the other scenario here)"
   ]
  },
  {
   "cell_type": "markdown",
   "metadata": {
    "id": "abTi2y4ovQGL",
    "narrative": true,
    "tags": []
   },
   "source": [
    "---\n",
    "\n",
    "## Part 2: Python Basics\n",
    "\n",
    "Twitter is full of controversies, but a recent one over whether or not 2 + 2 = 5 sparked a lot of discussion in the math and stats world. Here's [a great thread](https://twitter.com/kareem_carr/status/1289724475609501697) on this issue.\n",
    "\n",
    "A key point from this thread: \n",
    "\n",
    "_\"Our numbers, our quantitative measures, are abstractions of real underlying things in the universe and it's important to keep track of this when we use numbers to model the real world.\"_\n",
    "\n",
    "So what does this Twitter controversy have to do with Python...? Let's try to compute 2 + 2 in a few ways and see what happens.\n"
   ]
  },
  {
   "cell_type": "code",
   "execution_count": 1,
   "metadata": {
    "colab": {
     "base_uri": "https://localhost:8080/"
    },
    "executionInfo": {
     "elapsed": 283,
     "status": "ok",
     "timestamp": 1614451372558,
     "user": {
      "displayName": "Emma Condie",
      "photoUrl": "https://lh3.googleusercontent.com/a-/AOh14Giwd5FNgFuzubVzegsYNVvEpYr48IDQMD9ot0oxjA=s64",
      "userId": "14468625617956346410"
     },
     "user_tz": 300
    },
    "id": "IPVcFbysvQGM",
    "narrative": true,
    "outputId": "ae531ee1-a84b-486a-8eee-d72e782907f1"
   },
   "outputs": [
    {
     "name": "stdout",
     "output_type": "stream",
     "text": [
      "2 + 2 = 4\n",
      "2 + 2 = 4.0\n",
      "2 + 2 = 22\n"
     ]
    }
   ],
   "source": [
    "## example 1\n",
    "x = 2\n",
    "print(\"2 + 2 =\", x + x)\n",
    "\n",
    "## example 2\n",
    "y = 2.0\n",
    "print(\"2 + 2 =\", y + y)\n",
    "\n",
    "## example 3\n",
    "z = \"2\"\n",
    "print(\"2 + 2 =\", z + z)"
   ]
  },
  {
   "cell_type": "markdown",
   "metadata": {
    "id": "gtWzjzEevQGO",
    "narrative": true
   },
   "source": [
    "2 + 2 = ... 22? What's going on here?"
   ]
  },
  {
   "cell_type": "markdown",
   "metadata": {
    "id": "CyGIkcbUvQGO",
    "problem": 2
   },
   "source": [
    "---\n",
    "\n",
    "### Problem 2 (4 pts)\n",
    "\n",
    "What is the difference between each of the three examples of arithmetic above? In particular, explain why example 3 produced \"2 + 2 = 22\". \n",
    "\n",
    "---"
   ]
  },
  {
   "cell_type": "markdown",
   "metadata": {
    "id": "De-UFkPCvQGQ",
    "problem": 3
   },
   "source": [
    "---\n",
    "\n",
    "We can perform any number of simple arithmetic operations with Python, but its power lies in our ability automate simple tasks with a few lines of code. In doing so, for loops are often very useful.\n",
    "\n",
    "---\n",
    "\n",
    "### Problem 3 (6 pts)\n",
    "\n",
    "Start with the list of integers from 10 to 20 (inclusive). **Write a `for` loop** that iterates through this list to create a new list, where each entry of the list multiplied by 5 and then increased by 4. Print the final list.\n",
    "\n",
    "*(**Hint:** use the [`range`](https://python-reference.readthedocs.io/en/latest/docs/functions/range.html?highlight=range) function to iterate over in your for loop.)*\n",
    "\n",
    "*(**Confidence check:** your code should print `[54, 59, 64, 69, 74, 79, 84, 89, 94, 99, 104]`.)* \n",
    "\n",
    "---"
   ]
  },
  {
   "cell_type": "code",
   "execution_count": 2,
   "metadata": {
    "id": "PlCx6qhJvQGQ"
   },
   "outputs": [],
   "source": [
    "## insert answer here"
   ]
  },
  {
   "cell_type": "markdown",
   "metadata": {
    "id": "gsxkA4TZvQGS",
    "narrative": true
   },
   "source": [
    "---\n",
    "\n",
    "For loops are very literal, which makes them straightforward to understand and write. However, they can get a little verbose and they are not always the most computationally efficient.\n",
    "\n",
    "List comprehensions are a sleek alternative that you will (hopefully) come to love in this course. Their syntax is designed to be simple. It looks like this:\n",
    "\n",
    "`[`expression `for` item `in` list`]`\n",
    "\n",
    "For instance, the for loop you wrote in problem 3 can be written succinctly with a list comprehension:"
   ]
  },
  {
   "cell_type": "code",
   "execution_count": 7,
   "metadata": {
    "colab": {
     "base_uri": "https://localhost:8080/"
    },
    "executionInfo": {
     "elapsed": 265,
     "status": "ok",
     "timestamp": 1614451379271,
     "user": {
      "displayName": "Emma Condie",
      "photoUrl": "https://lh3.googleusercontent.com/a-/AOh14Giwd5FNgFuzubVzegsYNVvEpYr48IDQMD9ot0oxjA=s64",
      "userId": "14468625617956346410"
     },
     "user_tz": 300
    },
    "id": "C9rJrzVxvQGS",
    "narrative": true,
    "outputId": "1cda701a-fb7f-4d59-9b00-7896129d5050"
   },
   "outputs": [
    {
     "name": "stdout",
     "output_type": "stream",
     "text": [
      "[54, 59, 64, 69, 74, 79, 84, 89, 94, 99, 104]\n"
     ]
    }
   ],
   "source": [
    "new_list_of_ints = [i*5+4 for i in range(10,21)]\n",
    "print(new_list_of_ints)"
   ]
  },
  {
   "cell_type": "markdown",
   "metadata": {
    "id": "y93h_LcKvQGT",
    "narrative": true
   },
   "source": [
    "You can also include `if` conditions on the original list in the list comprehension..."
   ]
  },
  {
   "cell_type": "markdown",
   "metadata": {
    "id": "UJnDB1-5vQGT",
    "problem": 4
   },
   "source": [
    "---\n",
    "\n",
    "### Problem 4 (4 pts)\n",
    "\n",
    "Copy the above list comprehension and add an if statement (within the list comprehension) after `range(10,21)` so that the list it creates includes only integers that leave a remainder of 3 when divided by 4. The `i*5+4 for i in range(10,21)` part of the list comprehension should remain completely unmodified in your solution.   \n",
    "\n",
    "*(**Hint:** You may want to make use the [modulus](https://python-reference.readthedocs.io/en/latest/docs/operators/modulus.html) operator)*\n",
    "\n",
    "*(**Confidence check:** your code should print `[59, 79, 99]`.)* \n",
    "\n",
    "---"
   ]
  },
  {
   "cell_type": "code",
   "execution_count": 1,
   "metadata": {
    "id": "SSlgOh9avQGU"
   },
   "outputs": [
    {
     "name": "stdout",
     "output_type": "stream",
     "text": [
      "[59, 79, 99]\n"
     ]
    }
   ],
   "source": [
    "new_list_of_ints = [i*5+4 for i in range(10,21) if i%4 == 3]\n",
    "print(new_list_of_ints)"
   ]
  },
  {
   "cell_type": "markdown",
   "metadata": {
    "id": "CLMaYd6-vQGV",
    "narrative": true
   },
   "source": [
    "---\n",
    "\n",
    "## Part 3: `pandas` and Data Cleaning\n",
    "\n",
    "The [`pandas`](https://pandas.pydata.org/) package is used to perform data analysis. It is essentially a package for working with data frames (i.e. tables of data)."
   ]
  },
  {
   "cell_type": "code",
   "execution_count": 2,
   "metadata": {
    "id": "A_c6t1nuvQGW",
    "narrative": true
   },
   "outputs": [],
   "source": [
    "import pandas as pd"
   ]
  },
  {
   "cell_type": "markdown",
   "metadata": {
    "id": "9pd_f5pHvQGX",
    "narrative": true
   },
   "source": [
    "We could simply write `import pandas`, but then every time we want to refer to a function in the `pandas` package (e.g. one called `my_function`), we would have to always write `pandas.my_function` to refer to it, and this gets cumbersome. A common way to abbreviate \"pandas\" is \"pd\", which is why we imported it the way we did above. This way, we can refer to functions in the `pandas` package like `pd.my_function` instead.\n",
    "\n",
    "Real world data is often messy and needs a bit of pre-processing or \"cleaning\" before it can by used (easily) for analysis. There is no well-defined list of steps to go through when cleaning data, because it depends on what your raw data looks like to begin with.\n",
    "\n",
    "The data we'll work with now is a set of makeup reviews from the Sephora online store. The original data can be found [here](https://github.com/everestpipkin/datagardens/tree/master/students/khanniie/5_newDataSet), though we've manually altered the data to help illustrate some data cleaning principles.\n",
    "\n",
    "### Data cleaning plan\n",
    "\n",
    "Before we roll up our sleeves and get to cleaning the data, we need to devise a plan:\n",
    "\n",
    "**Step 1:** *Figure out the start point* - what does our (raw) data look like now?\n",
    "\n",
    "**Step 2:** *Set analysis goals* - what kind of analyses might we want to run based on the available data?\n",
    "\n",
    "**Step 3:** *Define the end point* - what form do we want the data in for analysis?\n",
    "\n",
    "**Step 4:** *Make a task list* - what do we need to do to get our data from the start to the end point?\n",
    "\n",
    "Repeat these steps as you come up with more analysis ideas! It won't necessarily happen linearly.\n",
    "\n",
    "Whenever I'm cleaning data, I like to have the `pandas` [cheat sheet](https://pandas.pydata.org/Pandas_Cheat_Sheet.pdf) open, because I need to reference it embarassingly often :)"
   ]
  },
  {
   "cell_type": "markdown",
   "metadata": {
    "id": "aIJnQegrvQGZ",
    "problem": 5
   },
   "source": [
    "---\n",
    "\n",
    "### Problem 5 (4 pts)\n",
    "\n",
    "Perform step 1 in the data cleaning plan by loading the data file (`all_reviews.csv`) using `panda`'s `read_csv` function. Save the data to a variable called `raw_reviews` and display the first few rows of the of the data using the [`.head()`](https://pandas.pydata.org/pandas-docs/stable/reference/api/pandas.DataFrame.head.html) data frame method.\n",
    "\n",
    "(*Remember:* The syntax for object-specific methods looks like `variable_name.method_name()`.)\n",
    "\n",
    "---"
   ]
  },
  {
   "cell_type": "code",
   "execution_count": 25,
   "metadata": {
    "id": "SSlgOh9avQGU"
   },
   "outputs": [
    {
     "data": {
      "text/plain": [
       "Index(['Brand', 'Product Name', 'Product Type', 'Review Body', 'Review Date',\n",
       "       'Review Stars', 'Review Title', 'URL', 'User ID'],\n",
       "      dtype='object')"
      ]
     },
     "execution_count": 25,
     "metadata": {},
     "output_type": "execute_result"
    }
   ],
   "source": [
    "raw_reviews = pd.read_csv(\"all_reviews.csv\")\n",
    "raw_reviews.head()\n",
    "raw_reviews.columns"
   ]
  },
  {
   "cell_type": "markdown",
   "metadata": {
    "id": "ZymTe3kRvQGb",
    "narrative": true
   },
   "source": [
    "---\n",
    "\n",
    "(This data is already a lot cleaner than you might see in practice, we want to start slow!)\n",
    "\n",
    "**Step 2:** Based on the data that's available, here are some concrete analysis goals (to start!) for this data set:\n",
    "\n",
    "1. compare ratings for products of the same type\n",
    "1. look at the trend in ratings over time for a specific product\n",
    "\n",
    "**Step 3:** So what do we need the clean data to look like for the above analysis? Let's sketch the header for our dream table:\n",
    "\n",
    "|product_type|brand|product_name|review_stars|review_date|\n",
    "|------------|-----|------------|------------|-----------|\n",
    "|str|str|str|int|date|\n",
    "\n",
    "You'll notice we've written our desired column names as lowercase strings with underscores instead of spaces. Lowercase is easier to type when programming, and spaces in column names prevent us from using some syntax to quickly refer to columns. \n",
    "\n",
    "**Step 4:** Now how do we get from the raw data to clean data? It helps to split the tasks into two parts: cleaning column names and cleaning entries.\n",
    "\n",
    "Let's first clean up the column names and then take a look at the entries to see what needs to be done there. \n",
    "\n",
    "### Task List 1: Column  names\n",
    "1. convert column names to lowercase and replace spaces with underscores\n",
    "1. drop unnecessary columns"
   ]
  },
  {
   "cell_type": "markdown",
   "metadata": {
    "id": "FRkgRZfovQGc",
    "problem": 6
   },
   "source": [
    "---\n",
    "\n",
    "### Problem 6 (4 pts)\n",
    "\n",
    "Use a list comprehension to create a list called `new_colnames` that takes the old column names (stored in `raw_reviews.columns`) and converts them to lowercase. Print `new_colnames`.\n",
    "\n",
    "*(**Hint:** You may find the string method [`.lower()`](https://www.w3schools.com/python/ref_string_lower.asp) helpful here)*\n",
    "\n",
    "---"
   ]
  },
  {
   "cell_type": "code",
   "execution_count": 16,
   "metadata": {
    "id": "SSlgOh9avQGU"
   },
   "outputs": [
    {
     "name": "stdout",
     "output_type": "stream",
     "text": [
      "['brand', 'product name', 'product type', 'review body', 'review date', 'review stars', 'review title', 'url', 'user id']\n"
     ]
    }
   ],
   "source": [
    "new_colname = [column_name.lower() for column_name in raw_reviews.columns]\n",
    "print(new_colname)"
   ]
  },
  {
   "cell_type": "markdown",
   "metadata": {
    "id": "Tg_p5W6kvQGe",
    "problem": 7
   },
   "source": [
    "---\n",
    "\n",
    "### Problem 7 (8 pts)\n",
    "\n",
    "Use another list comprehension update the `new_colnames` list, replacing all spaces in the list entries with underscores. Print the updated `new_colnames` list.\n",
    "\n",
    "Copy `raw_reviews` to a new variable called `reviews` using the [`.copy()`](https://pandas.pydata.org/pandas-docs/stable/reference/api/pandas.DataFrame.copy.html) data frame method. Update the column names for the `reviews` data frame using your cleaned column names stored in `new_colnames`. Show the last few rows of `reviews`.\n",
    "\n",
    "*(**Hint:** you may find the string method [`.replace()`](https://www.w3schools.com/python/ref_string_replace.asp) helpful here)*\n",
    "\n",
    "#### Task List 2: Column  names cont.\n",
    "1. convert spaces in column names to '_' and print the updated `new_colnames` list\n",
    "1. copy the contents of `raw_reviews` to a new data frame called `reviews`\n",
    "1. display the last few rows of `reviews`\n",
    "---"
   ]
  },
  {
   "cell_type": "code",
   "execution_count": 41,
   "metadata": {
    "id": "SSlgOh9avQGU"
   },
   "outputs": [
    {
     "data": {
      "text/html": [
       "<div>\n",
       "<style scoped>\n",
       "    .dataframe tbody tr th:only-of-type {\n",
       "        vertical-align: middle;\n",
       "    }\n",
       "\n",
       "    .dataframe tbody tr th {\n",
       "        vertical-align: top;\n",
       "    }\n",
       "\n",
       "    .dataframe thead th {\n",
       "        text-align: right;\n",
       "    }\n",
       "</style>\n",
       "<table border=\"1\" class=\"dataframe\">\n",
       "  <thead>\n",
       "    <tr style=\"text-align: right;\">\n",
       "      <th></th>\n",
       "      <th>brand</th>\n",
       "      <th>product_name</th>\n",
       "      <th>product_type</th>\n",
       "      <th>review_body</th>\n",
       "      <th>review_date</th>\n",
       "      <th>review_stars</th>\n",
       "      <th>review_title</th>\n",
       "      <th>url</th>\n",
       "      <th>user_id</th>\n",
       "    </tr>\n",
       "  </thead>\n",
       "  <tbody>\n",
       "    <tr>\n",
       "      <th>3961</th>\n",
       "      <td>Urban Decay</td>\n",
       "      <td>Eyeshadow Primer Potion - Original</td>\n",
       "      <td>Eye Primer</td>\n",
       "      <td>I have gone to bed many of nights after drinki...</td>\n",
       "      <td>31 12 2015</td>\n",
       "      <td>5 stars</td>\n",
       "      <td>Holy Grail</td>\n",
       "      <td>https://www.sephora.com/product/eyeshadow-prim...</td>\n",
       "      <td>-8.830000e+18</td>\n",
       "    </tr>\n",
       "    <tr>\n",
       "      <th>3962</th>\n",
       "      <td>Urban Decay</td>\n",
       "      <td>All Nighter Long-Lasting Makeup Setting Spray</td>\n",
       "      <td>Setting Spray</td>\n",
       "      <td>At first, I thought makeup setting sprays were...</td>\n",
       "      <td>31 12 2015</td>\n",
       "      <td>5 stars</td>\n",
       "      <td>skeptical at first, but it made me a believer</td>\n",
       "      <td>https://www.sephora.com/product/all-nighter-lo...</td>\n",
       "      <td>-1.160000e+18</td>\n",
       "    </tr>\n",
       "    <tr>\n",
       "      <th>3963</th>\n",
       "      <td>Urban Decay</td>\n",
       "      <td>All Nighter Long-Lasting Makeup Setting Spray</td>\n",
       "      <td>Setting Spray</td>\n",
       "      <td>This product is great at keeping makeup on for...</td>\n",
       "      <td>31 12 2015</td>\n",
       "      <td>5 stars</td>\n",
       "      <td>I always repurchase</td>\n",
       "      <td>https://www.sephora.com/product/all-nighter-lo...</td>\n",
       "      <td>6.990000e+18</td>\n",
       "    </tr>\n",
       "    <tr>\n",
       "      <th>3964</th>\n",
       "      <td>FENTY BEAUTY BY RIHANNA</td>\n",
       "      <td>Flyliner Longwear Liquid Eyeliner</td>\n",
       "      <td>Liquid Eyeliner</td>\n",
       "      <td>I really wanted to love this liner. So many re...</td>\n",
       "      <td>31 12 2018</td>\n",
       "      <td>2 stars</td>\n",
       "      <td>&lt;img src=\"https://www.sephora.com/productimage...</td>\n",
       "      <td>https://www.sephora.com/product/flyliner-longw...</td>\n",
       "      <td>-3.430000e+18</td>\n",
       "    </tr>\n",
       "    <tr>\n",
       "      <th>3965</th>\n",
       "      <td>FENTY BEAUTY BY RIHANNA</td>\n",
       "      <td>Flyliner Longwear Liquid Eyeliner</td>\n",
       "      <td>Liquid Eyeliner</td>\n",
       "      <td>Too much transfer onto eyelid</td>\n",
       "      <td>31 12 2018</td>\n",
       "      <td>3 stars</td>\n",
       "      <td>&lt;img src=\"https://www.sephora.com/productimage...</td>\n",
       "      <td>https://www.sephora.com/product/flyliner-longw...</td>\n",
       "      <td>-3.850000e+18</td>\n",
       "    </tr>\n",
       "  </tbody>\n",
       "</table>\n",
       "</div>"
      ],
      "text/plain": [
       "                        brand                                   product_name  \\\n",
       "3961              Urban Decay             Eyeshadow Primer Potion - Original   \n",
       "3962              Urban Decay  All Nighter Long-Lasting Makeup Setting Spray   \n",
       "3963              Urban Decay  All Nighter Long-Lasting Makeup Setting Spray   \n",
       "3964  FENTY BEAUTY BY RIHANNA              Flyliner Longwear Liquid Eyeliner   \n",
       "3965  FENTY BEAUTY BY RIHANNA              Flyliner Longwear Liquid Eyeliner   \n",
       "\n",
       "         product_type                                        review_body  \\\n",
       "3961       Eye Primer  I have gone to bed many of nights after drinki...   \n",
       "3962    Setting Spray  At first, I thought makeup setting sprays were...   \n",
       "3963    Setting Spray  This product is great at keeping makeup on for...   \n",
       "3964  Liquid Eyeliner  I really wanted to love this liner. So many re...   \n",
       "3965  Liquid Eyeliner                      Too much transfer onto eyelid   \n",
       "\n",
       "     review_date review_stars  \\\n",
       "3961  31 12 2015      5 stars   \n",
       "3962  31 12 2015      5 stars   \n",
       "3963  31 12 2015      5 stars   \n",
       "3964  31 12 2018      2 stars   \n",
       "3965  31 12 2018      3 stars   \n",
       "\n",
       "                                           review_title  \\\n",
       "3961                                         Holy Grail   \n",
       "3962      skeptical at first, but it made me a believer   \n",
       "3963                                I always repurchase   \n",
       "3964  <img src=\"https://www.sephora.com/productimage...   \n",
       "3965  <img src=\"https://www.sephora.com/productimage...   \n",
       "\n",
       "                                                    url       user_id  \n",
       "3961  https://www.sephora.com/product/eyeshadow-prim... -8.830000e+18  \n",
       "3962  https://www.sephora.com/product/all-nighter-lo... -1.160000e+18  \n",
       "3963  https://www.sephora.com/product/all-nighter-lo...  6.990000e+18  \n",
       "3964  https://www.sephora.com/product/flyliner-longw... -3.430000e+18  \n",
       "3965  https://www.sephora.com/product/flyliner-longw... -3.850000e+18  "
      ]
     },
     "execution_count": 41,
     "metadata": {},
     "output_type": "execute_result"
    }
   ],
   "source": [
    "new_colname = [col.replace(\" \", \"_\") for col in new_colname]\n",
    "reviews = raw_reviews.copy()\n",
    "reviews.columns =  new_colname\n",
    "\n",
    "reviews.tail()"
   ]
  },
  {
   "cell_type": "markdown",
   "metadata": {
    "id": "sX4umclmvQGg",
    "problem": 8
   },
   "source": [
    "---\n",
    "\n",
    "### Problem 8 (4 pts)\n",
    "\n",
    "Update the `reviews` data frame, keeping only the following columns:\n",
    "\n",
    "```\n",
    " brand, product_type, review_stars, review_date\n",
    "```\n",
    "in this specified order. \n",
    "\n",
    "Show the first 3 rows of the updated `reviews` data frame.\n",
    "\n",
    "---"
   ]
  },
  {
   "cell_type": "code",
   "execution_count": 44,
   "metadata": {
    "id": "SSlgOh9avQGU"
   },
   "outputs": [
    {
     "data": {
      "text/html": [
       "<div>\n",
       "<style scoped>\n",
       "    .dataframe tbody tr th:only-of-type {\n",
       "        vertical-align: middle;\n",
       "    }\n",
       "\n",
       "    .dataframe tbody tr th {\n",
       "        vertical-align: top;\n",
       "    }\n",
       "\n",
       "    .dataframe thead th {\n",
       "        text-align: right;\n",
       "    }\n",
       "</style>\n",
       "<table border=\"1\" class=\"dataframe\">\n",
       "  <thead>\n",
       "    <tr style=\"text-align: right;\">\n",
       "      <th></th>\n",
       "      <th>brand</th>\n",
       "      <th>product_type</th>\n",
       "      <th>review_stars</th>\n",
       "      <th>review_date</th>\n",
       "    </tr>\n",
       "  </thead>\n",
       "  <tbody>\n",
       "    <tr>\n",
       "      <th>0</th>\n",
       "      <td>Dior</td>\n",
       "      <td>Mascara</td>\n",
       "      <td>5 stars</td>\n",
       "      <td>01 01 2011</td>\n",
       "    </tr>\n",
       "    <tr>\n",
       "      <th>1</th>\n",
       "      <td>Kat Von D</td>\n",
       "      <td>Liquid Eyeliner</td>\n",
       "      <td>5 stars</td>\n",
       "      <td>01 01 2011</td>\n",
       "    </tr>\n",
       "    <tr>\n",
       "      <th>2</th>\n",
       "      <td>Urban Decay</td>\n",
       "      <td>Mascara</td>\n",
       "      <td>1 star</td>\n",
       "      <td>01 01 2012</td>\n",
       "    </tr>\n",
       "  </tbody>\n",
       "</table>\n",
       "</div>"
      ],
      "text/plain": [
       "         brand     product_type review_stars review_date\n",
       "0         Dior          Mascara      5 stars  01 01 2011\n",
       "1    Kat Von D  Liquid Eyeliner      5 stars  01 01 2011\n",
       "2  Urban Decay          Mascara       1 star  01 01 2012"
      ]
     },
     "execution_count": 44,
     "metadata": {},
     "output_type": "execute_result"
    }
   ],
   "source": [
    "reviews = reviews[[\"brand\", \"product_type\", \"review_stars\", \"review_date\"]]\n",
    "reviews.head(3)"
   ]
  },
  {
   "cell_type": "markdown",
   "metadata": {
    "id": "WhLwFq0gvQGh",
    "narrative": true
   },
   "source": [
    "---\n",
    "\n",
    "Now that our column names are in order, let's look at what kind of cleaning our entries need."
   ]
  },
  {
   "cell_type": "markdown",
   "metadata": {
    "id": "VWSErbvNvQGh",
    "problem": 9
   },
   "source": [
    "---\n",
    "### Problem 9 (6 pts)\n",
    "\n",
    "Write a for loop that will, for the columns `brand`, `product_type`, `review_stars` in `reviews`,\n",
    "1. print the column name.\n",
    "1. print the count of observations for the type with the most entries in the given column in ascending order.\n",
    "1. print the 5th entry in the column of the original data (not the aggregated list of value counts).\n",
    "1. print an empty line break (`\"\\n\"`) to make the results produced by the for loop more readible.\n",
    "\n",
    "*(**Hint:** For step 2 in the for loop, you may find the `pandas` column method [`.value_counts()`](https://pandas.pydata.org/pandas-docs/stable/reference/api/pandas.Series.value_counts.html?highlight=value_counts#pandas.Series.value_counts) helpful.)*\n",
    "\n",
    "---"
   ]
  },
  {
   "cell_type": "code",
   "execution_count": 71,
   "metadata": {
    "id": "SSlgOh9avQGU"
   },
   "outputs": [
    {
     "name": "stdout",
     "output_type": "stream",
     "text": [
      "brand\n"
     ]
    },
    {
     "ename": "AttributeError",
     "evalue": "'str' object has no attribute 'value_counts'",
     "output_type": "error",
     "traceback": [
      "\u001b[1;31m---------------------------------------------------------------------------\u001b[0m",
      "\u001b[1;31mAttributeError\u001b[0m                            Traceback (most recent call last)",
      "\u001b[1;32m<ipython-input-71-fd19d4a2e822>\u001b[0m in \u001b[0;36m<module>\u001b[1;34m\u001b[0m\n\u001b[0;32m      1\u001b[0m \u001b[1;32mfor\u001b[0m \u001b[0mreviews\u001b[0m\u001b[1;33m.\u001b[0m\u001b[0mcol\u001b[0m \u001b[1;32min\u001b[0m \u001b[0mreviews\u001b[0m\u001b[1;33m.\u001b[0m\u001b[0mcolumns\u001b[0m\u001b[1;33m:\u001b[0m\u001b[1;33m\u001b[0m\u001b[1;33m\u001b[0m\u001b[0m\n\u001b[0;32m      2\u001b[0m     \u001b[0mprint\u001b[0m\u001b[1;33m(\u001b[0m\u001b[0mreviews\u001b[0m\u001b[1;33m.\u001b[0m\u001b[0mcol\u001b[0m\u001b[1;33m)\u001b[0m\u001b[1;33m\u001b[0m\u001b[1;33m\u001b[0m\u001b[0m\n\u001b[1;32m----> 3\u001b[1;33m     \u001b[0mprint\u001b[0m\u001b[1;33m(\u001b[0m\u001b[0mreviews\u001b[0m\u001b[1;33m.\u001b[0m\u001b[0mcol\u001b[0m\u001b[1;33m.\u001b[0m\u001b[0mvalue_counts\u001b[0m\u001b[1;33m(\u001b[0m\u001b[1;33m)\u001b[0m\u001b[1;33m)\u001b[0m\u001b[1;33m\u001b[0m\u001b[1;33m\u001b[0m\u001b[0m\n\u001b[0m\u001b[0;32m      4\u001b[0m     \u001b[0mprint\u001b[0m\u001b[1;33m(\u001b[0m\u001b[0mreviews\u001b[0m\u001b[1;33m.\u001b[0m\u001b[0mcol\u001b[0m\u001b[1;33m[\u001b[0m\u001b[1;33m:\u001b[0m\u001b[1;33m,\u001b[0m\u001b[1;36m5\u001b[0m\u001b[1;33m]\u001b[0m\u001b[1;33m)\u001b[0m\u001b[1;33m\u001b[0m\u001b[1;33m\u001b[0m\u001b[0m\n",
      "\u001b[1;31mAttributeError\u001b[0m: 'str' object has no attribute 'value_counts'"
     ]
    }
   ],
   "source": [
    "for reviews.col in reviews.columns:\n",
    "    print(reviews.col)\n",
    "    print(reviews.col.value_counts())\n",
    "    print(reviews.col[:,5])"
   ]
  },
  {
   "cell_type": "markdown",
   "metadata": {
    "id": "c04CF1rlvQGi",
    "problem": 10
   },
   "source": [
    "---\n",
    "\n",
    "### Problem 10 (4 pts)\n",
    "\n",
    "Look at the results from the previous exercise for the `review_stars` column. What do you notice about some of the entries that might be a problem for data analysis? Give a way that we could fix this issue. \n",
    "\n",
    "---"
   ]
  },
  {
   "cell_type": "markdown",
   "metadata": {
    "id": "SSlgOh9avQGU"
   },
   "source": [
    "## insert answer here"
   ]
  },
  {
   "cell_type": "markdown",
   "metadata": {
    "id": "uagmIhdIvQGj",
    "narrative": true
   },
   "source": [
    "---\n",
    "\n",
    "Inspecting the entries, we should notice a few things that may be a problem for our analysis plan:\n",
    "* some entries in the `product_type` column are inconsistent (e.g. `Mascara` and `MASCARA`)\n",
    "* there appear to be some observations with missing values in the `review_stars` column (some observations have `???` in this column)\n",
    "* the dates don't really look like dates and may not be parsed correctly\n",
    "    \n",
    "Using these observations, we can write our second task list for cleaning the table entries.\n",
    "\n",
    "#### Task List 2: Entries\n",
    "1. convert entries in the `product_type` column to a similar format, to get rid of duplicate categories arrising from case differences\n",
    "1. remove observations with missing values in the `review_stars` column\n",
    "1. convert the `review_dates` column to an actual `pandas` date object"
   ]
  },
  {
   "cell_type": "markdown",
   "metadata": {
    "id": "J-436IOgvQGj",
    "problem": 11
   },
   "source": [
    "---\n",
    "\n",
    "### Problem 11 (4 pts)\n",
    "\n",
    "Update `reviews` by converting the `product_type` column to only have entries where the first letter of each entry is capitalized. Display the first few rows of the updated `reviews`.\n",
    "\n",
    "When updating a subset of a `pandas` dataframe, be sure to use the [`.loc[]`](https://pandas.pydata.org/pandas-docs/stable/reference/api/pandas.DataFrame.loc.html?highlight=loc#pandas.DataFrame.loc) data frame method on the left-hand side of the assignment statement. You should **not** get a warning labelled `SettingWithCopyWarning` if you've done this correctly.\n",
    "\n",
    "---"
   ]
  },
  {
   "cell_type": "code",
   "execution_count": 5,
   "metadata": {
    "id": "SSlgOh9avQGU"
   },
   "outputs": [],
   "source": [
    "## insert answer here"
   ]
  },
  {
   "cell_type": "markdown",
   "metadata": {
    "id": "6_G3bPr2vQGk",
    "problem": 12
   },
   "source": [
    "---\n",
    "\n",
    "### Problem 12 (6 pts)\n",
    "\n",
    "Print the rows of `reviews` where the `review_stars` column has the entry '???'.\n",
    "\n",
    "Then, update reviews by removing any rows where the review_stars entry is ???. Display the first few rows of the updated reviews.\n",
    "\n",
    "*(**Confidence check:** Your output should contain 2 rows of the `reviews` dataframe. The new dataframe should also include 3964 entries.*\n",
    "\n",
    "---"
   ]
  },
  {
   "cell_type": "code",
   "execution_count": 85,
   "metadata": {
    "id": "SSlgOh9avQGU"
   },
   "outputs": [
    {
     "data": {
      "text/plain": [
       "pandas.core.frame.DataFrame"
      ]
     },
     "execution_count": 85,
     "metadata": {},
     "output_type": "execute_result"
    }
   ],
   "source": [
    "rows_to_drop = reviews.loc[reviews.review_stars == \"???\"]\n",
    "rows_to_drop[0]\n",
    "#reviews.drop(index = [458, 3400])"
   ]
  },
  {
   "cell_type": "markdown",
   "metadata": {
    "id": "BWownm-AvQGm",
    "narrative": true
   },
   "source": [
    "---\n",
    "\n",
    "Note that often missing values will appear as null values (as opposed to something like `???`). Null values depend on the underlying data type: `NaN` in numeric arrays, `None` or `NaN` in object arrays, `NaT` in datetime arrays. The functions [`isnull()`](https://pandas.pydata.org/pandas-docs/stable/reference/api/pandas.isnull.html) and [`notnull()`](https://pandas.pydata.org/pandas-docs/stable/reference/api/pandas.DataFrame.notnull.html?highlight=notnull#pandas.DataFrame.notnull) are helpful for filtering in these cases.  You should **not** use logical operators like `==` or `!=` to check for null values, as such expressions often have [unintended consequences](https://towardsdatascience.com/navigating-the-hell-of-nans-in-python-71b12558895b).\n",
    "\n",
    "That said, it is worth asking yourself why you're removing rows with missing values and if it might affect some downstream analysis. For example, if we were interested in the *number* of reviews per product, removing products with missing ratings would artificially reduce these sample sizes.\n",
    "\n",
    "Now, we just have to tackle the dates and we will have accomplished all of our data cleaning tasks!\n",
    "\n",
    "Let's take a closer look at the dates, as they currently appear in `reviews`:"
   ]
  },
  {
   "cell_type": "code",
   "execution_count": 15,
   "metadata": {
    "id": "QGoFV6XLvQGm",
    "narrative": true,
    "outputId": "cfccecd6-e4d6-45d1-8ebb-4c834af43e79"
   },
   "outputs": [
    {
     "data": {
      "text/plain": [
       "str"
      ]
     },
     "execution_count": 15,
     "metadata": {},
     "output_type": "execute_result"
    }
   ],
   "source": [
    "type(reviews.review_date[0])"
   ]
  },
  {
   "cell_type": "markdown",
   "metadata": {
    "id": "JmEhwVC4vQGm",
    "narrative": true
   },
   "source": [
    "The review dates are currently stored as strings in `reviews`. Python does not inately know a special date string from any other string (functionally, it thinks of \"2020-09-07\" and \"hello\" as the same type of data). Information about how dates should be read, ordered, and how to perform calculations with dates is not encoded when a date is stored as a string.\n",
    "\n",
    "Instead, we must represent dates as specific \"date\" types in Python. To do this, we have to tell Python how to parse the date string to create a special date object. "
   ]
  },
  {
   "cell_type": "markdown",
   "metadata": {
    "id": "JU9dP8IDvQGn",
    "problem": 13
   },
   "source": [
    "---\n",
    "\n",
    "### Problem 13 (6 pts)\n",
    "\n",
    "Update `reviews` by overwriting the exisiting string entries in the `review_dates` column with correctly parsed date entries where the day is written first. Use the `pandas` [`to_datetime()`](https://pandas.pydata.org/pandas-docs/stable/reference/api/pandas.to_datetime.html) function to convert the dates in the existing `review_date` column to ones that are correctly parsed using the `format` argument.\n",
    "\n",
    "Display the first 6 rows of the updated `reviews`. Print the data type of the 1st entry of the updated `review_date` column.\n",
    "\n",
    "*(**Hint:** The original dates in the `review_date` column are of the form `dd mm yyyy`. In writing the `format` string that parses this formatting, you may find it helpful to consult [this chart](https://docs.python.org/3/library/datetime.html#strftime-and-strptime-format-codes) of date and time codes recognized by `format`. For example, `format = \"%b %d, %y\"` would capture dates like `Jul 15, 91`.)*\n",
    "\n",
    "#### Task List\n",
    "1. convert the `review_date` column to correctly parsed date entries where the day is written first. \n",
    "1. display the first 6 rows of the updated `reviews`\n",
    "1. print the data type of the 1st entry of the updated `review_date` column.\n",
    "---"
   ]
  },
  {
   "cell_type": "code",
   "execution_count": 5,
   "metadata": {
    "id": "SSlgOh9avQGU"
   },
   "outputs": [],
   "source": [
    "## insert answer here"
   ]
  },
  {
   "cell_type": "markdown",
   "metadata": {
    "id": "WOHJbQ-ZvQGo",
    "narrative": true
   },
   "source": [
    "---\n",
    "\n",
    "That's it! We've accomplished our data cleaning task list. Of course, as you begin to work with your data, you may notice other idiosyncrasies that require further cleaning.\n",
    "\n",
    "For instance, the entries in the `review_stars` column are still strings, but in order to perform certain kinds of analyses (e.g. get the mean star rating per item), we really want this data to be stored as a numeric type... How might one use Python to extract the numeric value of the rating? More on this later, when we start learning about [regular expressions](https://www.programiz.com/python-programming/regex)... "
   ]
  }
 ],
 "metadata": {
  "colab": {
   "name": "hw1soln.ipynb",
   "provenance": []
  },
  "kernelspec": {
   "display_name": "Python 3",
   "language": "python",
   "name": "python3"
  },
  "language_info": {
   "codemirror_mode": {
    "name": "ipython",
    "version": 3
   },
   "file_extension": ".py",
   "mimetype": "text/x-python",
   "name": "python",
   "nbconvert_exporter": "python",
   "pygments_lexer": "ipython3",
   "version": "3.8.5"
  }
 },
 "nbformat": 4,
 "nbformat_minor": 4
}
