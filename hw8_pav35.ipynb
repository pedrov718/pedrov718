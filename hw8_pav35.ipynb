{
 "cells": [
  {
   "cell_type": "code",
   "execution_count": 277,
   "metadata": {},
   "outputs": [],
   "source": [
    "from collections import defaultdict, Counter\n",
    "import re\n",
    "\n",
    "import pandas as pd\n",
    "from sklearn.feature_extraction.text import TfidfVectorizer\n",
    "from sklearn.linear_model import LogisticRegression\n",
    "from sklearn.naive_bayes import GaussianNB\n",
    "from sklearn.metrics import classification_report\n",
    "from sklearn.model_selection import train_test_split\n",
    "import umap as up\n",
    "import numpy as np\n",
    "\n",
    "%matplotlib inline\n",
    "import matplotlib.pyplot as plt\n",
    "import seaborn as sns\n",
    "sns.set(style='ticks', font_scale=1.2)\n",
    "np.set_printoptions(precision=3)"
   ]
  },
  {
   "cell_type": "markdown",
   "metadata": {
    "tags": []
   },
   "source": [
    "# Homework 8: Text as data\n",
    "\n",
    "## Preamble\n",
    "\n",
    "This is an ordinary homework, worth neither more nor less than usual. But it's a little different, in that it's meant to explore some of the everyday tasks of a working data scientist. To that end, you may encounter packages, visualizations, and techniques that are (a little bit) new to you. You may need to figure things out by thinking about the nature of the task and by consulting the documentation. Rest assured that we haven't asked you to do anything for which the course hasn't prepared you. There are simply fewer guardrails in this case.\n",
    "\n",
    "Have fun!"
   ]
  },
  {
   "cell_type": "markdown",
   "metadata": {
    "problem": 1,
    "tags": []
   },
   "source": [
    "<br><br><br><br>\n",
    "\n",
    "# Problem 1 (10 points)\n",
    "\n",
    "In this homework, we'll be working with a dataset from Kaggle, a popular machine learning website that hosts datasets and competitions. This dataset contains ~200,000 headlines of HuffingtonPost articles.\n",
    "\n",
    "You can read more about the dataset here: [https://www.kaggle.com/rmisra/news-category-dataset](https://www.kaggle.com/rmisra/news-category-dataset). A copy of the data file is available on CMS alongside this homework.\n",
    "\n",
    "To get started, load the dataset into a Pandas dataframe called `data_df`, print the total number of rows, and display five random rows. Here, and throughout the homework, be sure to print your outputs with informative context and round decimals to a reasonable number of significant figures."
   ]
  },
  {
   "cell_type": "code",
   "execution_count": 278,
   "metadata": {},
   "outputs": [
    {
     "name": "stdout",
     "output_type": "stream",
     "text": [
      "2751\n"
     ]
    },
    {
     "data": {
      "text/html": [
       "<div>\n",
       "<style scoped>\n",
       "    .dataframe tbody tr th:only-of-type {\n",
       "        vertical-align: middle;\n",
       "    }\n",
       "\n",
       "    .dataframe tbody tr th {\n",
       "        vertical-align: top;\n",
       "    }\n",
       "\n",
       "    .dataframe thead th {\n",
       "        text-align: right;\n",
       "    }\n",
       "</style>\n",
       "<table border=\"1\" class=\"dataframe\">\n",
       "  <thead>\n",
       "    <tr style=\"text-align: right;\">\n",
       "      <th></th>\n",
       "      <th>category</th>\n",
       "      <th>headline</th>\n",
       "      <th>authors</th>\n",
       "      <th>link</th>\n",
       "      <th>short_description</th>\n",
       "      <th>date</th>\n",
       "    </tr>\n",
       "  </thead>\n",
       "  <tbody>\n",
       "    <tr>\n",
       "      <th>12259</th>\n",
       "      <td>HEALTHY LIVING</td>\n",
       "      <td>What Happens When You Put 500,000 People's DNA...</td>\n",
       "      <td>The Atlantic, ContributorExploring the America...</td>\n",
       "      <td>https://www.huffingtonpost.com/entry/what-happ...</td>\n",
       "      <td>Never had genetics research moved so fast.</td>\n",
       "      <td>2017-11-08</td>\n",
       "    </tr>\n",
       "    <tr>\n",
       "      <th>36969</th>\n",
       "      <td>POLITICS</td>\n",
       "      <td>The Media Sucks, But It Still Should Stay In T...</td>\n",
       "      <td>Howard Fineman</td>\n",
       "      <td>https://www.huffingtonpost.com/entry/media-suc...</td>\n",
       "      <td>In Washington, symbolism – and proximity – are...</td>\n",
       "      <td>2017-01-17</td>\n",
       "    </tr>\n",
       "    <tr>\n",
       "      <th>24044</th>\n",
       "      <td>POLITICS</td>\n",
       "      <td>Jeff Sessions Says 'Nothing Wrong' With The FB...</td>\n",
       "      <td>Ryan J. Reilly</td>\n",
       "      <td>https://www.huffingtonpost.com/entry/jeff-sess...</td>\n",
       "      <td>The attorney general disputed the testimony of...</td>\n",
       "      <td>2017-06-13</td>\n",
       "    </tr>\n",
       "    <tr>\n",
       "      <th>13600</th>\n",
       "      <td>POLITICS</td>\n",
       "      <td>Eric Holder: Harvey Weinstein Revelations Must...</td>\n",
       "      <td>Daniel Marans</td>\n",
       "      <td>https://www.huffingtonpost.com/entry/eric-hold...</td>\n",
       "      <td>Law enforcement alone won’t solve the problem,...</td>\n",
       "      <td>2017-10-21</td>\n",
       "    </tr>\n",
       "    <tr>\n",
       "      <th>152762</th>\n",
       "      <td>FOOD &amp; DRINK</td>\n",
       "      <td>Green Garlic Recipes: What It Is And How To Co...</td>\n",
       "      <td>Rebecca Orchant</td>\n",
       "      <td>https://www.huffingtonpost.com/entry/green-gar...</td>\n",
       "      <td>This late spring farmer's market arrival will ...</td>\n",
       "      <td>2013-06-26</td>\n",
       "    </tr>\n",
       "  </tbody>\n",
       "</table>\n",
       "</div>"
      ],
      "text/plain": [
       "              category                                           headline  \\\n",
       "12259   HEALTHY LIVING  What Happens When You Put 500,000 People's DNA...   \n",
       "36969         POLITICS  The Media Sucks, But It Still Should Stay In T...   \n",
       "24044         POLITICS  Jeff Sessions Says 'Nothing Wrong' With The FB...   \n",
       "13600         POLITICS  Eric Holder: Harvey Weinstein Revelations Must...   \n",
       "152762    FOOD & DRINK  Green Garlic Recipes: What It Is And How To Co...   \n",
       "\n",
       "                                                  authors  \\\n",
       "12259   The Atlantic, ContributorExploring the America...   \n",
       "36969                                      Howard Fineman   \n",
       "24044                                      Ryan J. Reilly   \n",
       "13600                                       Daniel Marans   \n",
       "152762                                    Rebecca Orchant   \n",
       "\n",
       "                                                     link  \\\n",
       "12259   https://www.huffingtonpost.com/entry/what-happ...   \n",
       "36969   https://www.huffingtonpost.com/entry/media-suc...   \n",
       "24044   https://www.huffingtonpost.com/entry/jeff-sess...   \n",
       "13600   https://www.huffingtonpost.com/entry/eric-hold...   \n",
       "152762  https://www.huffingtonpost.com/entry/green-gar...   \n",
       "\n",
       "                                        short_description       date  \n",
       "12259          Never had genetics research moved so fast. 2017-11-08  \n",
       "36969   In Washington, symbolism – and proximity – are... 2017-01-17  \n",
       "24044   The attorney general disputed the testimony of... 2017-06-13  \n",
       "13600   Law enforcement alone won’t solve the problem,... 2017-10-21  \n",
       "152762  This late spring farmer's market arrival will ... 2013-06-26  "
      ]
     },
     "execution_count": 278,
     "metadata": {},
     "output_type": "execute_result"
    }
   ],
   "source": [
    "data_df = pd.read_json(r\"News_Category_Dataset_v2.json\", lines=True)\n",
    "\n",
    "print(len(f\"Row count: {data_df}\"))\n",
    "data_df.sample(5)"
   ]
  },
  {
   "cell_type": "markdown",
   "metadata": {
    "problem": 2,
    "tags": []
   },
   "source": [
    "<br><br><br><br>\n",
    "\n",
    "# Problem 2 (20 points)\n",
    "\n",
    "Before we can use this data for visualizations or models, we need to process the data.\n",
    "\n",
    "(a) Create a new column called `headline_processed` that contains a processed version of the `headline` column. The text in the new column should be lowercased, all punctuation should be removed (that is, we should remove anything that isn't a letter or a number), all numbers should be replaced with a single token \"NUM\", and extra spaces (more than one space in a row) should be removed. Use the provided function for the punctuation removel and number token replacement.\n",
    "\n",
    "**Confidence check:** The processed version of the headline at index position 35880 should be exactly:\n",
    "```\n",
    "filmmaker ava duvernay s oscar nominated documentary NUMth is a wake up call\n",
    "```\n",
    "\n",
    "(b) Create a new column called `author_processed` that contains a processed version of the `author` column. The new column should contain the full name of the first author listed in the original column (you should split the original column on commas and retain only the first element in the resulting list). Lowercase this column.\n",
    "\n",
    "(c) Display the first five rows of the dataframe."
   ]
  },
  {
   "cell_type": "code",
   "execution_count": 279,
   "metadata": {},
   "outputs": [],
   "source": [
    "# Use this function to remove punctuation and replace numbers.\n",
    "\n",
    "def remove_punctuation_and_replace_numbers(text):\n",
    "    text = re.sub(r'[^\\sA-Za-z0-9]', ' ', text)\n",
    "    return re.sub('[0-9]+', 'NUM', text)"
   ]
  },
  {
   "cell_type": "code",
   "execution_count": 281,
   "metadata": {},
   "outputs": [
    {
     "data": {
      "text/plain": [
       "'filmmaker ava duvernay s oscar nominated documentary  NUMth   is a wake up call'"
      ]
     },
     "execution_count": 281,
     "metadata": {},
     "output_type": "execute_result"
    }
   ],
   "source": [
    "data_df[\"headline_processed\"] = data_df['headline'].str.strip().str.lower().apply(remove_punctuation_and_replace_numbers)\n",
    "\n",
    "data_df[\"headline_processed\"][35880]"
   ]
  },
  {
   "cell_type": "code",
   "execution_count": 82,
   "metadata": {},
   "outputs": [
    {
     "data": {
      "text/html": [
       "<div>\n",
       "<style scoped>\n",
       "    .dataframe tbody tr th:only-of-type {\n",
       "        vertical-align: middle;\n",
       "    }\n",
       "\n",
       "    .dataframe tbody tr th {\n",
       "        vertical-align: top;\n",
       "    }\n",
       "\n",
       "    .dataframe thead th {\n",
       "        text-align: right;\n",
       "    }\n",
       "</style>\n",
       "<table border=\"1\" class=\"dataframe\">\n",
       "  <thead>\n",
       "    <tr style=\"text-align: right;\">\n",
       "      <th></th>\n",
       "      <th>category</th>\n",
       "      <th>headline</th>\n",
       "      <th>authors</th>\n",
       "      <th>link</th>\n",
       "      <th>short_description</th>\n",
       "      <th>date</th>\n",
       "      <th>headline_processed</th>\n",
       "      <th>author_processed</th>\n",
       "    </tr>\n",
       "  </thead>\n",
       "  <tbody>\n",
       "    <tr>\n",
       "      <th>0</th>\n",
       "      <td>CRIME</td>\n",
       "      <td>There Were 2 Mass Shootings In Texas Last Week...</td>\n",
       "      <td>Melissa Jeltsen</td>\n",
       "      <td>https://www.huffingtonpost.com/entry/texas-ama...</td>\n",
       "      <td>She left her husband. He killed their children...</td>\n",
       "      <td>2018-05-26</td>\n",
       "      <td>there were NUM mass shootings in texas last we...</td>\n",
       "      <td>melissa jeltsen</td>\n",
       "    </tr>\n",
       "    <tr>\n",
       "      <th>1</th>\n",
       "      <td>ENTERTAINMENT</td>\n",
       "      <td>Will Smith Joins Diplo And Nicky Jam For The 2...</td>\n",
       "      <td>Andy McDonald</td>\n",
       "      <td>https://www.huffingtonpost.com/entry/will-smit...</td>\n",
       "      <td>Of course it has a song.</td>\n",
       "      <td>2018-05-26</td>\n",
       "      <td>will smith joins diplo and nicky jam for the N...</td>\n",
       "      <td>andy mcdonald</td>\n",
       "    </tr>\n",
       "    <tr>\n",
       "      <th>2</th>\n",
       "      <td>ENTERTAINMENT</td>\n",
       "      <td>Hugh Grant Marries For The First Time At Age 57</td>\n",
       "      <td>Ron Dicker</td>\n",
       "      <td>https://www.huffingtonpost.com/entry/hugh-gran...</td>\n",
       "      <td>The actor and his longtime girlfriend Anna Ebe...</td>\n",
       "      <td>2018-05-26</td>\n",
       "      <td>hugh grant marries for the first time at age NUM</td>\n",
       "      <td>ron dicker</td>\n",
       "    </tr>\n",
       "    <tr>\n",
       "      <th>3</th>\n",
       "      <td>ENTERTAINMENT</td>\n",
       "      <td>Jim Carrey Blasts 'Castrato' Adam Schiff And D...</td>\n",
       "      <td>Ron Dicker</td>\n",
       "      <td>https://www.huffingtonpost.com/entry/jim-carre...</td>\n",
       "      <td>The actor gives Dems an ass-kicking for not fi...</td>\n",
       "      <td>2018-05-26</td>\n",
       "      <td>jim carrey blasts  castrato  adam schiff and d...</td>\n",
       "      <td>ron dicker</td>\n",
       "    </tr>\n",
       "    <tr>\n",
       "      <th>4</th>\n",
       "      <td>ENTERTAINMENT</td>\n",
       "      <td>Julianna Margulies Uses Donald Trump Poop Bags...</td>\n",
       "      <td>Ron Dicker</td>\n",
       "      <td>https://www.huffingtonpost.com/entry/julianna-...</td>\n",
       "      <td>The \"Dietland\" actress said using the bags is ...</td>\n",
       "      <td>2018-05-26</td>\n",
       "      <td>julianna margulies uses donald trump poop bags...</td>\n",
       "      <td>ron dicker</td>\n",
       "    </tr>\n",
       "    <tr>\n",
       "      <th>...</th>\n",
       "      <td>...</td>\n",
       "      <td>...</td>\n",
       "      <td>...</td>\n",
       "      <td>...</td>\n",
       "      <td>...</td>\n",
       "      <td>...</td>\n",
       "      <td>...</td>\n",
       "      <td>...</td>\n",
       "    </tr>\n",
       "    <tr>\n",
       "      <th>200848</th>\n",
       "      <td>TECH</td>\n",
       "      <td>RIM CEO Thorsten Heins' 'Significant' Plans Fo...</td>\n",
       "      <td>Reuters, Reuters</td>\n",
       "      <td>https://www.huffingtonpost.com/entry/rim-ceo-t...</td>\n",
       "      <td>Verizon Wireless and AT&amp;T are already promotin...</td>\n",
       "      <td>2012-01-28</td>\n",
       "      <td>rim ceo thorsten heins   significant  plans fo...</td>\n",
       "      <td>reuters</td>\n",
       "    </tr>\n",
       "    <tr>\n",
       "      <th>200849</th>\n",
       "      <td>SPORTS</td>\n",
       "      <td>Maria Sharapova Stunned By Victoria Azarenka I...</td>\n",
       "      <td></td>\n",
       "      <td>https://www.huffingtonpost.com/entry/maria-sha...</td>\n",
       "      <td>Afterward, Azarenka, more effusive with the pr...</td>\n",
       "      <td>2012-01-28</td>\n",
       "      <td>maria sharapova stunned by victoria azarenka i...</td>\n",
       "      <td></td>\n",
       "    </tr>\n",
       "    <tr>\n",
       "      <th>200850</th>\n",
       "      <td>SPORTS</td>\n",
       "      <td>Giants Over Patriots, Jets Over Colts Among  M...</td>\n",
       "      <td></td>\n",
       "      <td>https://www.huffingtonpost.com/entry/super-bow...</td>\n",
       "      <td>Leading up to Super Bowl XLVI, the most talked...</td>\n",
       "      <td>2012-01-28</td>\n",
       "      <td>giants over patriots  jets over colts among  m...</td>\n",
       "      <td></td>\n",
       "    </tr>\n",
       "    <tr>\n",
       "      <th>200851</th>\n",
       "      <td>SPORTS</td>\n",
       "      <td>Aldon Smith Arrested: 49ers Linebacker Busted ...</td>\n",
       "      <td></td>\n",
       "      <td>https://www.huffingtonpost.com/entry/aldon-smi...</td>\n",
       "      <td>CORRECTION: An earlier version of this story i...</td>\n",
       "      <td>2012-01-28</td>\n",
       "      <td>aldon smith arrested  NUMers linebacker busted...</td>\n",
       "      <td></td>\n",
       "    </tr>\n",
       "    <tr>\n",
       "      <th>200852</th>\n",
       "      <td>SPORTS</td>\n",
       "      <td>Dwight Howard Rips Teammates After Magic Loss ...</td>\n",
       "      <td></td>\n",
       "      <td>https://www.huffingtonpost.com/entry/dwight-ho...</td>\n",
       "      <td>The five-time all-star center tore into his te...</td>\n",
       "      <td>2012-01-28</td>\n",
       "      <td>dwight howard rips teammates after magic loss ...</td>\n",
       "      <td></td>\n",
       "    </tr>\n",
       "  </tbody>\n",
       "</table>\n",
       "<p>200853 rows × 8 columns</p>\n",
       "</div>"
      ],
      "text/plain": [
       "             category                                           headline  \\\n",
       "0               CRIME  There Were 2 Mass Shootings In Texas Last Week...   \n",
       "1       ENTERTAINMENT  Will Smith Joins Diplo And Nicky Jam For The 2...   \n",
       "2       ENTERTAINMENT    Hugh Grant Marries For The First Time At Age 57   \n",
       "3       ENTERTAINMENT  Jim Carrey Blasts 'Castrato' Adam Schiff And D...   \n",
       "4       ENTERTAINMENT  Julianna Margulies Uses Donald Trump Poop Bags...   \n",
       "...               ...                                                ...   \n",
       "200848           TECH  RIM CEO Thorsten Heins' 'Significant' Plans Fo...   \n",
       "200849         SPORTS  Maria Sharapova Stunned By Victoria Azarenka I...   \n",
       "200850         SPORTS  Giants Over Patriots, Jets Over Colts Among  M...   \n",
       "200851         SPORTS  Aldon Smith Arrested: 49ers Linebacker Busted ...   \n",
       "200852         SPORTS  Dwight Howard Rips Teammates After Magic Loss ...   \n",
       "\n",
       "                 authors                                               link  \\\n",
       "0        Melissa Jeltsen  https://www.huffingtonpost.com/entry/texas-ama...   \n",
       "1          Andy McDonald  https://www.huffingtonpost.com/entry/will-smit...   \n",
       "2             Ron Dicker  https://www.huffingtonpost.com/entry/hugh-gran...   \n",
       "3             Ron Dicker  https://www.huffingtonpost.com/entry/jim-carre...   \n",
       "4             Ron Dicker  https://www.huffingtonpost.com/entry/julianna-...   \n",
       "...                  ...                                                ...   \n",
       "200848  Reuters, Reuters  https://www.huffingtonpost.com/entry/rim-ceo-t...   \n",
       "200849                    https://www.huffingtonpost.com/entry/maria-sha...   \n",
       "200850                    https://www.huffingtonpost.com/entry/super-bow...   \n",
       "200851                    https://www.huffingtonpost.com/entry/aldon-smi...   \n",
       "200852                    https://www.huffingtonpost.com/entry/dwight-ho...   \n",
       "\n",
       "                                        short_description       date  \\\n",
       "0       She left her husband. He killed their children... 2018-05-26   \n",
       "1                                Of course it has a song. 2018-05-26   \n",
       "2       The actor and his longtime girlfriend Anna Ebe... 2018-05-26   \n",
       "3       The actor gives Dems an ass-kicking for not fi... 2018-05-26   \n",
       "4       The \"Dietland\" actress said using the bags is ... 2018-05-26   \n",
       "...                                                   ...        ...   \n",
       "200848  Verizon Wireless and AT&T are already promotin... 2012-01-28   \n",
       "200849  Afterward, Azarenka, more effusive with the pr... 2012-01-28   \n",
       "200850  Leading up to Super Bowl XLVI, the most talked... 2012-01-28   \n",
       "200851  CORRECTION: An earlier version of this story i... 2012-01-28   \n",
       "200852  The five-time all-star center tore into his te... 2012-01-28   \n",
       "\n",
       "                                       headline_processed author_processed  \n",
       "0       there were NUM mass shootings in texas last we...  melissa jeltsen  \n",
       "1       will smith joins diplo and nicky jam for the N...    andy mcdonald  \n",
       "2        hugh grant marries for the first time at age NUM       ron dicker  \n",
       "3       jim carrey blasts  castrato  adam schiff and d...       ron dicker  \n",
       "4       julianna margulies uses donald trump poop bags...       ron dicker  \n",
       "...                                                   ...              ...  \n",
       "200848  rim ceo thorsten heins   significant  plans fo...          reuters  \n",
       "200849  maria sharapova stunned by victoria azarenka i...                   \n",
       "200850  giants over patriots  jets over colts among  m...                   \n",
       "200851  aldon smith arrested  NUMers linebacker busted...                   \n",
       "200852  dwight howard rips teammates after magic loss ...                   \n",
       "\n",
       "[200853 rows x 8 columns]"
      ]
     },
     "execution_count": 82,
     "metadata": {},
     "output_type": "execute_result"
    }
   ],
   "source": [
    "data_df[\"author_processed\"] = data_df['authors'].str.split(',', n=1, expand=True)[0].str.lower()\n"
   ]
  },
  {
   "cell_type": "code",
   "execution_count": 282,
   "metadata": {},
   "outputs": [
    {
     "data": {
      "text/html": [
       "<div>\n",
       "<style scoped>\n",
       "    .dataframe tbody tr th:only-of-type {\n",
       "        vertical-align: middle;\n",
       "    }\n",
       "\n",
       "    .dataframe tbody tr th {\n",
       "        vertical-align: top;\n",
       "    }\n",
       "\n",
       "    .dataframe thead th {\n",
       "        text-align: right;\n",
       "    }\n",
       "</style>\n",
       "<table border=\"1\" class=\"dataframe\">\n",
       "  <thead>\n",
       "    <tr style=\"text-align: right;\">\n",
       "      <th></th>\n",
       "      <th>category</th>\n",
       "      <th>headline</th>\n",
       "      <th>authors</th>\n",
       "      <th>link</th>\n",
       "      <th>short_description</th>\n",
       "      <th>date</th>\n",
       "      <th>headline_processed</th>\n",
       "    </tr>\n",
       "  </thead>\n",
       "  <tbody>\n",
       "    <tr>\n",
       "      <th>0</th>\n",
       "      <td>CRIME</td>\n",
       "      <td>There Were 2 Mass Shootings In Texas Last Week...</td>\n",
       "      <td>Melissa Jeltsen</td>\n",
       "      <td>https://www.huffingtonpost.com/entry/texas-ama...</td>\n",
       "      <td>She left her husband. He killed their children...</td>\n",
       "      <td>2018-05-26</td>\n",
       "      <td>there were NUM mass shootings in texas last we...</td>\n",
       "    </tr>\n",
       "    <tr>\n",
       "      <th>1</th>\n",
       "      <td>ENTERTAINMENT</td>\n",
       "      <td>Will Smith Joins Diplo And Nicky Jam For The 2...</td>\n",
       "      <td>Andy McDonald</td>\n",
       "      <td>https://www.huffingtonpost.com/entry/will-smit...</td>\n",
       "      <td>Of course it has a song.</td>\n",
       "      <td>2018-05-26</td>\n",
       "      <td>will smith joins diplo and nicky jam for the N...</td>\n",
       "    </tr>\n",
       "    <tr>\n",
       "      <th>2</th>\n",
       "      <td>ENTERTAINMENT</td>\n",
       "      <td>Hugh Grant Marries For The First Time At Age 57</td>\n",
       "      <td>Ron Dicker</td>\n",
       "      <td>https://www.huffingtonpost.com/entry/hugh-gran...</td>\n",
       "      <td>The actor and his longtime girlfriend Anna Ebe...</td>\n",
       "      <td>2018-05-26</td>\n",
       "      <td>hugh grant marries for the first time at age NUM</td>\n",
       "    </tr>\n",
       "    <tr>\n",
       "      <th>3</th>\n",
       "      <td>ENTERTAINMENT</td>\n",
       "      <td>Jim Carrey Blasts 'Castrato' Adam Schiff And D...</td>\n",
       "      <td>Ron Dicker</td>\n",
       "      <td>https://www.huffingtonpost.com/entry/jim-carre...</td>\n",
       "      <td>The actor gives Dems an ass-kicking for not fi...</td>\n",
       "      <td>2018-05-26</td>\n",
       "      <td>jim carrey blasts  castrato  adam schiff and d...</td>\n",
       "    </tr>\n",
       "    <tr>\n",
       "      <th>4</th>\n",
       "      <td>ENTERTAINMENT</td>\n",
       "      <td>Julianna Margulies Uses Donald Trump Poop Bags...</td>\n",
       "      <td>Ron Dicker</td>\n",
       "      <td>https://www.huffingtonpost.com/entry/julianna-...</td>\n",
       "      <td>The \"Dietland\" actress said using the bags is ...</td>\n",
       "      <td>2018-05-26</td>\n",
       "      <td>julianna margulies uses donald trump poop bags...</td>\n",
       "    </tr>\n",
       "  </tbody>\n",
       "</table>\n",
       "</div>"
      ],
      "text/plain": [
       "        category                                           headline  \\\n",
       "0          CRIME  There Were 2 Mass Shootings In Texas Last Week...   \n",
       "1  ENTERTAINMENT  Will Smith Joins Diplo And Nicky Jam For The 2...   \n",
       "2  ENTERTAINMENT    Hugh Grant Marries For The First Time At Age 57   \n",
       "3  ENTERTAINMENT  Jim Carrey Blasts 'Castrato' Adam Schiff And D...   \n",
       "4  ENTERTAINMENT  Julianna Margulies Uses Donald Trump Poop Bags...   \n",
       "\n",
       "           authors                                               link  \\\n",
       "0  Melissa Jeltsen  https://www.huffingtonpost.com/entry/texas-ama...   \n",
       "1    Andy McDonald  https://www.huffingtonpost.com/entry/will-smit...   \n",
       "2       Ron Dicker  https://www.huffingtonpost.com/entry/hugh-gran...   \n",
       "3       Ron Dicker  https://www.huffingtonpost.com/entry/jim-carre...   \n",
       "4       Ron Dicker  https://www.huffingtonpost.com/entry/julianna-...   \n",
       "\n",
       "                                   short_description       date  \\\n",
       "0  She left her husband. He killed their children... 2018-05-26   \n",
       "1                           Of course it has a song. 2018-05-26   \n",
       "2  The actor and his longtime girlfriend Anna Ebe... 2018-05-26   \n",
       "3  The actor gives Dems an ass-kicking for not fi... 2018-05-26   \n",
       "4  The \"Dietland\" actress said using the bags is ... 2018-05-26   \n",
       "\n",
       "                                  headline_processed  \n",
       "0  there were NUM mass shootings in texas last we...  \n",
       "1  will smith joins diplo and nicky jam for the N...  \n",
       "2   hugh grant marries for the first time at age NUM  \n",
       "3  jim carrey blasts  castrato  adam schiff and d...  \n",
       "4  julianna margulies uses donald trump poop bags...  "
      ]
     },
     "execution_count": 282,
     "metadata": {},
     "output_type": "execute_result"
    }
   ],
   "source": [
    "data_df.head(5)"
   ]
  },
  {
   "cell_type": "markdown",
   "metadata": {
    "problem": 3,
    "tags": []
   },
   "source": [
    "<br><br><br><br>\n",
    "\n",
    "# Problem 3 (30 points)\n",
    "\n",
    "In this section, we'll be using an algorithm called UMAP (Uniform Manifold Approximation and Projection) to reduce the dimensions of our data so that we can visualize it in a 2-dimensional plot. UMAP is similar to PCA, t-SNE, and SVD in that we can use UMAP to reduce our data to fewer dimensions, but UMAP relies on manifold learning techniques from topological data analysis. You can read more about how UMAP works here: [https://umap-learn.readthedocs.io/en/latest/how_umap_works.html](https://umap-learn.readthedocs.io/en/latest/how_umap_works.html)\n",
    "\n",
    "For this problem, you'll need to install the `umap-learn` package. For example, you can install this package with one of the following commands (use the one appropriate to your environment): \n",
    "- `pip3 install umap-learn`\n",
    "- `conda install -c conda-forge umap-learn`\n",
    "\n",
    "(a) Make a horizontal barplot where the **y-axis** shows each of the 10 most frequent categories in the dataset and the **x-axis** shows the number of headlines for that category.\n",
    "\n",
    "(b) Create a new dataframe, called `sampled_df`, that is sampled from the original dataframe, `data_df`. The new dataframe should contain the first 1000 rows for each of the 10 most frequent categories. (Use your answer from 3a to determine the 10 most frequent categories.) Use `.value_counts()` to display the number of rows for each category contained in `sampled_df`.\n",
    "\n",
    "(c) Working with `sampled_df`, use scikit-learn's `TfidfVectorizer` class with its default settings to extract vectors from the `headline_processed` column. Print the size of the resulting feature matrix (you can call `.shape` on the object containing the vectors).\n",
    "\n",
    "(d) Using the vectors from the previous step, use UMAP's `fit_transform()` function to reduce the dimensionality of the vectors to two. Make sure to set `n_neighbors=30` and `random_state=42`. Find the new x (dimension 1) and y (dimension 2) coordinates for each vector (each headline). Plot these dimension-reduced headlines in a scatterplot, and color the points by their category. Plot the first dimension on the x-axis and the second dimension on the y-axis. **Note:** Running UMAP is slow, but should finish in a few minutes."
   ]
  },
  {
   "cell_type": "code",
   "execution_count": 283,
   "metadata": {},
   "outputs": [
    {
     "data": {
      "text/plain": [
       "<AxesSubplot:ylabel='category'>"
      ]
     },
     "execution_count": 283,
     "metadata": {},
     "output_type": "execute_result"
    },
    {
     "data": {
      "image/png": "[encoded data removed]",
      "text/plain": [
       "<Figure size 432x288 with 1 Axes>"
      ]
     },
     "metadata": {},
     "output_type": "display_data"
    }
   ],
   "source": [
    "category_group = data_df.groupby(\"category\")\n",
    "y = category_group.category.count().sort_values(ascending = False)[0:10]\n",
    "y.plot.barh()"
   ]
  },
  {
   "cell_type": "code",
   "execution_count": 310,
   "metadata": {},
   "outputs": [
    {
     "data": {
      "text/plain": [
       "ENTERTAINMENT     1000\n",
       "POLITICS          1000\n",
       "QUEER VOICES      1000\n",
       "BUSINESS          1000\n",
       "TRAVEL            1000\n",
       "HEALTHY LIVING    1000\n",
       "WELLNESS          1000\n",
       "PARENTING         1000\n",
       "STYLE & BEAUTY    1000\n",
       "FOOD & DRINK      1000\n",
       "Name: category, dtype: int64"
      ]
     },
     "execution_count": 310,
     "metadata": {},
     "output_type": "execute_result"
    }
   ],
   "source": [
    "top_10 = y.index.values.tolist()\n",
    "sample_df = data_df.loc[data_df['category'].isin(top_10)]\n",
    "sample_df = sample_df.groupby('category').head(1000).reset_index(drop = True)\n",
    "sample_df.category.value_counts()\n"
   ]
  },
  {
   "cell_type": "code",
   "execution_count": 311,
   "metadata": {},
   "outputs": [
    {
     "data": {
      "text/plain": [
       "0        ENTERTAINMENT\n",
       "1        ENTERTAINMENT\n",
       "2        ENTERTAINMENT\n",
       "3        ENTERTAINMENT\n",
       "4        ENTERTAINMENT\n",
       "             ...      \n",
       "9995      FOOD & DRINK\n",
       "9996    STYLE & BEAUTY\n",
       "9997    STYLE & BEAUTY\n",
       "9998      FOOD & DRINK\n",
       "9999    STYLE & BEAUTY\n",
       "Name: category, Length: 10000, dtype: object"
      ]
     },
     "execution_count": 311,
     "metadata": {},
     "output_type": "execute_result"
    }
   ],
   "source": [
    "sample_df.category"
   ]
  },
  {
   "cell_type": "code",
   "execution_count": 285,
   "metadata": {},
   "outputs": [
    {
     "name": "stdout",
     "output_type": "stream",
     "text": [
      "(10000, 13223)\n"
     ]
    }
   ],
   "source": [
    "vectorizer = TfidfVectorizer()\n",
    "X = vectorizer.fit_transform(sample_df[\"headline_processed\"])\n",
    "vectorizer.get_feature_names_out()\n",
    "print(X.shape)"
   ]
  },
  {
   "cell_type": "code",
   "execution_count": 291,
   "metadata": {},
   "outputs": [
    {
     "name": "stdout",
     "output_type": "stream",
     "text": [
      "The new x dimension is [ -8.721  -9.168  -5.747 ...  -7.322 -11.336  -9.701] and the new y dimension is [3.581 4.539 3.854 ... 3.089 3.9   3.056]\n"
     ]
    }
   ],
   "source": [
    "reducer = up.UMAP(n_neighbors=30, random_state=42)\n",
    "embedding = reducer.fit_transform(X)\n",
    "print(f\"The new x dimension is {embedding[:, 0]} and the new y dimension is {embedding[:, 1]}\")"
   ]
  },
  {
   "cell_type": "code",
   "execution_count": 295,
   "metadata": {},
   "outputs": [
    {
     "data": {
      "image/png": "[encoded data removed]",
      "text/plain": [
       "<Figure size 432x288 with 1 Axes>"
      ]
     },
     "metadata": {},
     "output_type": "display_data"
    }
   ],
   "source": [
    "plt.scatter(embedding[:, 0], embedding[:, 1], s= 5, cmap='category')\n",
    "plt.title('Embedding of the training set by UMAP', fontsize=24);"
   ]
  },
  {
   "cell_type": "markdown",
   "metadata": {
    "problem": 4,
    "tags": []
   },
   "source": [
    "<br><br><br><br>\n",
    "\n",
    "# Problem 4 (40 points)\n",
    "\n",
    "(a) Split the data from the sampled dataframe (`sampled_df`) into training and test sets using scikit-learn's `train_test_split` function, where `test_size=0.33` and `random_state=42`. Use scikit-learn's `TfidfVectorizer` to vectorize `headline_processed` as before, but this time, be careful to only fit the vectorizer on the training data. Print the shapes and lengths of the resulting training and testing vectors and labels. **Confidence Check:** The number of training labels should match the first dimension of the training vectors, and likewise for the test labels and vectors.\n",
    "\n",
    "(b) Train a logistic regression classifier using scikit-learn's `LogisticRegression` class and the training vectors and labels. Get the set of predictions for the test set, and print the model's performance using scikit-learn's `classification_report()` function (make sure to call `print()` on this function, so that the output displays correctly).\n",
    "\n",
    "(c) Repeat (b) but with scikit-learn's `GaussianNB` classifier instead of `LogisticRegression`. Again, print the classification report. What do you observe in comparison to (b)?\n",
    "\n",
    "(d) Using seaborn's `FacetGrid` class, create a series of barplots that show the number of misclassifications for each pair of categories. The FacetGrid columns should correspond to the true categories. The y-axes of the barplots should correspond to the predicted categories, while the size of the bars should correspond to the number of times that the true category was mislabeled with the predicted category. Do not include counts of true categories that were correctly predicted (these should appear as zero in the barplot). In the end, you should have a single row of ten plots, one for each of our sampled categories. (You may also use the `col_wrap` parameter to modify the output to 2 x 5 or 3 x 4 for better legibility.)\n",
    "\n",
    "**Hint:** To make the plots easier to read, you might want to change their size using `height=4, aspect=0.7` when you instantiate `FacetGrid`. \n",
    "\n",
    "**Hint:** Conceptually, this is the same as creating a confusion matrix, but we're asking you to visualize that data a bit differently.\n",
    "\n",
    "(e) Compare your output from (d) to your UMAP visualization from earlier in the assignment. Do you notice any similar patterns? Any surprises?"
   ]
  },
  {
   "cell_type": "code",
   "execution_count": 331,
   "metadata": {
    "tags": []
   },
   "outputs": [
    {
     "name": "stdout",
     "output_type": "stream",
     "text": [
      " The labels are ['aaron' 'abandoned' 'abandoning' ... 'zucchini' 'zuckerberg' 'zulily']\n",
      "The shape of the vectors are (6700, 10822)\n"
     ]
    }
   ],
   "source": [
    "# train-test split (70%/30%)\n",
    "X_test = train_test_split(sample_df, test_size= 0.33, random_state=42)\n",
    "vectorizer = TfidfVectorizer()\n",
    "X = vectorizer.fit_transform(X_train[\"headline_processed\"])\n",
    "print(f\" The labels are {vectorizer.get_feature_names_out()}\")\n",
    "print(f\"The shape of the vectors are {X.shape}\")"
   ]
  },
  {
   "cell_type": "code",
   "execution_count": 358,
   "metadata": {},
   "outputs": [
    {
     "ename": "KeyError",
     "evalue": "\"None of [Index(['cronut creator dominique ansel debuts  chocolate chip cookie milk shots ',\\n       'traveler or tourist  why you should be both ',\\n       'NUM things never to say to a special needs parent',\\n       'how to stay professional in the  always on  business world',\\n       'sleep your way to creativity and NUM more sure fire methods for more ideas',\\n       'how to explore singapore on a budget', 'up your  gram game',\\n       'armie hammer shares his mug shot from a NUM arrest for weed',\\n       'exxon goes after climate ngos  warns them not to destroy communications',\\n       'dads  age linked with kids  mental health problems  study ',\\n       ...\\n       'ramen  the ultimate broke food and how to make it at home',\\n       'bayer offers to buy monsanto for  NUM billion',\\n       'one drink per day may raise your breast cancer risk',\\n       'trump promises to help chinese company that violated u s  sanctions on iran',\\n       'tessa john connor  blogger  on how she  tames  her afro',\\n       'yes  we have sloths  but no pink dolphins  animal planet on the looney front  part NUM',\\n       'universal patents a wand and spells ride that sounds perfect for a new harry potter attraction',\\n       'NUM travel booking secrets that will help you score cheaper flights',\\n       'NUM places prince harry and meghan markle might honeymoon',\\n       'how to construct the perfect green smoothie'],\\n      dtype='object', length=6700)] are in the [columns]\"",
     "output_type": "error",
     "traceback": [
      "\u001b[1;31m---------------------------------------------------------------------------\u001b[0m",
      "\u001b[1;31mKeyError\u001b[0m                                  Traceback (most recent call last)",
      "\u001b[1;32m~\\AppData\\Local\\Temp/ipykernel_21396/1977690879.py\u001b[0m in \u001b[0;36m<module>\u001b[1;34m\u001b[0m\n\u001b[0;32m      1\u001b[0m \u001b[0mlabels\u001b[0m \u001b[1;33m=\u001b[0m \u001b[0mvectorizer\u001b[0m\u001b[1;33m.\u001b[0m\u001b[0mget_feature_names_out\u001b[0m\u001b[1;33m(\u001b[0m\u001b[1;33m)\u001b[0m\u001b[1;33m\u001b[0m\u001b[1;33m\u001b[0m\u001b[0m\n\u001b[1;32m----> 2\u001b[1;33m \u001b[0mtesting_model\u001b[0m \u001b[1;33m=\u001b[0m \u001b[0mLogisticRegression\u001b[0m\u001b[1;33m(\u001b[0m\u001b[1;33m)\u001b[0m\u001b[1;33m.\u001b[0m\u001b[0mfit\u001b[0m\u001b[1;33m(\u001b[0m\u001b[0mX_train\u001b[0m\u001b[1;33m[\u001b[0m\u001b[0mX_train\u001b[0m\u001b[1;33m[\u001b[0m\u001b[1;34m\"headline_processed\"\u001b[0m\u001b[1;33m]\u001b[0m\u001b[1;33m]\u001b[0m\u001b[1;33m,\u001b[0m \u001b[0mlabels\u001b[0m\u001b[1;33m)\u001b[0m\u001b[1;33m\u001b[0m\u001b[1;33m\u001b[0m\u001b[0m\n\u001b[0m\u001b[0;32m      3\u001b[0m \u001b[0mtesting_model\u001b[0m\u001b[1;33m.\u001b[0m\u001b[0mscore\u001b[0m\u001b[1;33m(\u001b[0m\u001b[0mX\u001b[0m\u001b[1;33m.\u001b[0m\u001b[0mtoarray\u001b[0m\u001b[1;33m(\u001b[0m\u001b[1;33m)\u001b[0m\u001b[1;33m,\u001b[0m \u001b[0mvectorizer\u001b[0m\u001b[1;33m.\u001b[0m\u001b[0mget_feature_names_out\u001b[0m\u001b[1;33m(\u001b[0m\u001b[1;33m)\u001b[0m\u001b[1;33m)\u001b[0m\u001b[1;33m\u001b[0m\u001b[1;33m\u001b[0m\u001b[0m\n\u001b[0;32m      4\u001b[0m \u001b[0mclassification_report\u001b[0m\u001b[1;33m(\u001b[0m\u001b[0mtesting_model\u001b[0m\u001b[1;33m)\u001b[0m\u001b[1;33m\u001b[0m\u001b[1;33m\u001b[0m\u001b[0m\n",
      "\u001b[1;32m~\\anaconda3\\lib\\site-packages\\pandas\\core\\frame.py\u001b[0m in \u001b[0;36m__getitem__\u001b[1;34m(self, key)\u001b[0m\n\u001b[0;32m   3462\u001b[0m             \u001b[1;32mif\u001b[0m \u001b[0mis_iterator\u001b[0m\u001b[1;33m(\u001b[0m\u001b[0mkey\u001b[0m\u001b[1;33m)\u001b[0m\u001b[1;33m:\u001b[0m\u001b[1;33m\u001b[0m\u001b[1;33m\u001b[0m\u001b[0m\n\u001b[0;32m   3463\u001b[0m                 \u001b[0mkey\u001b[0m \u001b[1;33m=\u001b[0m \u001b[0mlist\u001b[0m\u001b[1;33m(\u001b[0m\u001b[0mkey\u001b[0m\u001b[1;33m)\u001b[0m\u001b[1;33m\u001b[0m\u001b[1;33m\u001b[0m\u001b[0m\n\u001b[1;32m-> 3464\u001b[1;33m             \u001b[0mindexer\u001b[0m \u001b[1;33m=\u001b[0m \u001b[0mself\u001b[0m\u001b[1;33m.\u001b[0m\u001b[0mloc\u001b[0m\u001b[1;33m.\u001b[0m\u001b[0m_get_listlike_indexer\u001b[0m\u001b[1;33m(\u001b[0m\u001b[0mkey\u001b[0m\u001b[1;33m,\u001b[0m \u001b[0maxis\u001b[0m\u001b[1;33m=\u001b[0m\u001b[1;36m1\u001b[0m\u001b[1;33m)\u001b[0m\u001b[1;33m[\u001b[0m\u001b[1;36m1\u001b[0m\u001b[1;33m]\u001b[0m\u001b[1;33m\u001b[0m\u001b[1;33m\u001b[0m\u001b[0m\n\u001b[0m\u001b[0;32m   3465\u001b[0m \u001b[1;33m\u001b[0m\u001b[0m\n\u001b[0;32m   3466\u001b[0m         \u001b[1;31m# take() does not accept boolean indexers\u001b[0m\u001b[1;33m\u001b[0m\u001b[1;33m\u001b[0m\u001b[1;33m\u001b[0m\u001b[0m\n",
      "\u001b[1;32m~\\anaconda3\\lib\\site-packages\\pandas\\core\\indexing.py\u001b[0m in \u001b[0;36m_get_listlike_indexer\u001b[1;34m(self, key, axis)\u001b[0m\n\u001b[0;32m   1312\u001b[0m             \u001b[0mkeyarr\u001b[0m\u001b[1;33m,\u001b[0m \u001b[0mindexer\u001b[0m\u001b[1;33m,\u001b[0m \u001b[0mnew_indexer\u001b[0m \u001b[1;33m=\u001b[0m \u001b[0max\u001b[0m\u001b[1;33m.\u001b[0m\u001b[0m_reindex_non_unique\u001b[0m\u001b[1;33m(\u001b[0m\u001b[0mkeyarr\u001b[0m\u001b[1;33m)\u001b[0m\u001b[1;33m\u001b[0m\u001b[1;33m\u001b[0m\u001b[0m\n\u001b[0;32m   1313\u001b[0m \u001b[1;33m\u001b[0m\u001b[0m\n\u001b[1;32m-> 1314\u001b[1;33m         \u001b[0mself\u001b[0m\u001b[1;33m.\u001b[0m\u001b[0m_validate_read_indexer\u001b[0m\u001b[1;33m(\u001b[0m\u001b[0mkeyarr\u001b[0m\u001b[1;33m,\u001b[0m \u001b[0mindexer\u001b[0m\u001b[1;33m,\u001b[0m \u001b[0maxis\u001b[0m\u001b[1;33m)\u001b[0m\u001b[1;33m\u001b[0m\u001b[1;33m\u001b[0m\u001b[0m\n\u001b[0m\u001b[0;32m   1315\u001b[0m \u001b[1;33m\u001b[0m\u001b[0m\n\u001b[0;32m   1316\u001b[0m         if needs_i8_conversion(ax.dtype) or isinstance(\n",
      "\u001b[1;32m~\\anaconda3\\lib\\site-packages\\pandas\\core\\indexing.py\u001b[0m in \u001b[0;36m_validate_read_indexer\u001b[1;34m(self, key, indexer, axis)\u001b[0m\n\u001b[0;32m   1372\u001b[0m                 \u001b[1;32mif\u001b[0m \u001b[0muse_interval_msg\u001b[0m\u001b[1;33m:\u001b[0m\u001b[1;33m\u001b[0m\u001b[1;33m\u001b[0m\u001b[0m\n\u001b[0;32m   1373\u001b[0m                     \u001b[0mkey\u001b[0m \u001b[1;33m=\u001b[0m \u001b[0mlist\u001b[0m\u001b[1;33m(\u001b[0m\u001b[0mkey\u001b[0m\u001b[1;33m)\u001b[0m\u001b[1;33m\u001b[0m\u001b[1;33m\u001b[0m\u001b[0m\n\u001b[1;32m-> 1374\u001b[1;33m                 \u001b[1;32mraise\u001b[0m \u001b[0mKeyError\u001b[0m\u001b[1;33m(\u001b[0m\u001b[1;34mf\"None of [{key}] are in the [{axis_name}]\"\u001b[0m\u001b[1;33m)\u001b[0m\u001b[1;33m\u001b[0m\u001b[1;33m\u001b[0m\u001b[0m\n\u001b[0m\u001b[0;32m   1375\u001b[0m \u001b[1;33m\u001b[0m\u001b[0m\n\u001b[0;32m   1376\u001b[0m             \u001b[0mnot_found\u001b[0m \u001b[1;33m=\u001b[0m \u001b[0mlist\u001b[0m\u001b[1;33m(\u001b[0m\u001b[0mensure_index\u001b[0m\u001b[1;33m(\u001b[0m\u001b[0mkey\u001b[0m\u001b[1;33m)\u001b[0m\u001b[1;33m[\u001b[0m\u001b[0mmissing_mask\u001b[0m\u001b[1;33m.\u001b[0m\u001b[0mnonzero\u001b[0m\u001b[1;33m(\u001b[0m\u001b[1;33m)\u001b[0m\u001b[1;33m[\u001b[0m\u001b[1;36m0\u001b[0m\u001b[1;33m]\u001b[0m\u001b[1;33m]\u001b[0m\u001b[1;33m.\u001b[0m\u001b[0munique\u001b[0m\u001b[1;33m(\u001b[0m\u001b[1;33m)\u001b[0m\u001b[1;33m)\u001b[0m\u001b[1;33m\u001b[0m\u001b[1;33m\u001b[0m\u001b[0m\n",
      "\u001b[1;31mKeyError\u001b[0m: \"None of [Index(['cronut creator dominique ansel debuts  chocolate chip cookie milk shots ',\\n       'traveler or tourist  why you should be both ',\\n       'NUM things never to say to a special needs parent',\\n       'how to stay professional in the  always on  business world',\\n       'sleep your way to creativity and NUM more sure fire methods for more ideas',\\n       'how to explore singapore on a budget', 'up your  gram game',\\n       'armie hammer shares his mug shot from a NUM arrest for weed',\\n       'exxon goes after climate ngos  warns them not to destroy communications',\\n       'dads  age linked with kids  mental health problems  study ',\\n       ...\\n       'ramen  the ultimate broke food and how to make it at home',\\n       'bayer offers to buy monsanto for  NUM billion',\\n       'one drink per day may raise your breast cancer risk',\\n       'trump promises to help chinese company that violated u s  sanctions on iran',\\n       'tessa john connor  blogger  on how she  tames  her afro',\\n       'yes  we have sloths  but no pink dolphins  animal planet on the looney front  part NUM',\\n       'universal patents a wand and spells ride that sounds perfect for a new harry potter attraction',\\n       'NUM travel booking secrets that will help you score cheaper flights',\\n       'NUM places prince harry and meghan markle might honeymoon',\\n       'how to construct the perfect green smoothie'],\\n      dtype='object', length=6700)] are in the [columns]\""
     ]
    }
   ],
   "source": [
    "labels = vectorizer.get_feature_names_out()\n",
    "testing_model = LogisticRegression().fit(X_train[X_train[\"headline_processed\"]], labels)\n",
    "testing_model.score(X.toarray(), vectorizer.get_feature_names_out())\n",
    "classification_report(testing_model)"
   ]
  },
  {
   "cell_type": "code",
   "execution_count": 351,
   "metadata": {},
   "outputs": [
    {
     "ename": "ValueError",
     "evalue": "Found input variables with inconsistent numbers of samples: [6700, 10822]",
     "output_type": "error",
     "traceback": [
      "\u001b[1;31m---------------------------------------------------------------------------\u001b[0m",
      "\u001b[1;31mValueError\u001b[0m                                Traceback (most recent call last)",
      "\u001b[1;32m~\\AppData\\Local\\Temp/ipykernel_21396/3117400017.py\u001b[0m in \u001b[0;36m<module>\u001b[1;34m\u001b[0m\n\u001b[0;32m      1\u001b[0m \u001b[0mgaussian\u001b[0m \u001b[1;33m=\u001b[0m \u001b[0mGaussianNB\u001b[0m\u001b[1;33m(\u001b[0m\u001b[1;33m)\u001b[0m\u001b[1;33m\u001b[0m\u001b[1;33m\u001b[0m\u001b[0m\n\u001b[1;32m----> 2\u001b[1;33m \u001b[0mgaussian\u001b[0m\u001b[1;33m.\u001b[0m\u001b[0mfit\u001b[0m\u001b[1;33m(\u001b[0m\u001b[0mX\u001b[0m\u001b[1;33m.\u001b[0m\u001b[0mtoarray\u001b[0m\u001b[1;33m(\u001b[0m\u001b[1;33m)\u001b[0m\u001b[1;33m,\u001b[0m \u001b[0mlabels\u001b[0m\u001b[1;33m)\u001b[0m\u001b[1;33m\u001b[0m\u001b[1;33m\u001b[0m\u001b[0m\n\u001b[0m",
      "\u001b[1;32m~\\anaconda3\\lib\\site-packages\\sklearn\\naive_bayes.py\u001b[0m in \u001b[0;36mfit\u001b[1;34m(self, X, y, sample_weight)\u001b[0m\n\u001b[0;32m    243\u001b[0m         \"\"\"\n\u001b[0;32m    244\u001b[0m         \u001b[0my\u001b[0m \u001b[1;33m=\u001b[0m \u001b[0mself\u001b[0m\u001b[1;33m.\u001b[0m\u001b[0m_validate_data\u001b[0m\u001b[1;33m(\u001b[0m\u001b[0my\u001b[0m\u001b[1;33m=\u001b[0m\u001b[0my\u001b[0m\u001b[1;33m)\u001b[0m\u001b[1;33m\u001b[0m\u001b[1;33m\u001b[0m\u001b[0m\n\u001b[1;32m--> 245\u001b[1;33m         return self._partial_fit(\n\u001b[0m\u001b[0;32m    246\u001b[0m             \u001b[0mX\u001b[0m\u001b[1;33m,\u001b[0m \u001b[0my\u001b[0m\u001b[1;33m,\u001b[0m \u001b[0mnp\u001b[0m\u001b[1;33m.\u001b[0m\u001b[0munique\u001b[0m\u001b[1;33m(\u001b[0m\u001b[0my\u001b[0m\u001b[1;33m)\u001b[0m\u001b[1;33m,\u001b[0m \u001b[0m_refit\u001b[0m\u001b[1;33m=\u001b[0m\u001b[1;32mTrue\u001b[0m\u001b[1;33m,\u001b[0m \u001b[0msample_weight\u001b[0m\u001b[1;33m=\u001b[0m\u001b[0msample_weight\u001b[0m\u001b[1;33m\u001b[0m\u001b[1;33m\u001b[0m\u001b[0m\n\u001b[0;32m    247\u001b[0m         )\n",
      "\u001b[1;32m~\\anaconda3\\lib\\site-packages\\sklearn\\naive_bayes.py\u001b[0m in \u001b[0;36m_partial_fit\u001b[1;34m(self, X, y, classes, _refit, sample_weight)\u001b[0m\n\u001b[0;32m    400\u001b[0m \u001b[1;33m\u001b[0m\u001b[0m\n\u001b[0;32m    401\u001b[0m         \u001b[0mfirst_call\u001b[0m \u001b[1;33m=\u001b[0m \u001b[0m_check_partial_fit_first_call\u001b[0m\u001b[1;33m(\u001b[0m\u001b[0mself\u001b[0m\u001b[1;33m,\u001b[0m \u001b[0mclasses\u001b[0m\u001b[1;33m)\u001b[0m\u001b[1;33m\u001b[0m\u001b[1;33m\u001b[0m\u001b[0m\n\u001b[1;32m--> 402\u001b[1;33m         \u001b[0mX\u001b[0m\u001b[1;33m,\u001b[0m \u001b[0my\u001b[0m \u001b[1;33m=\u001b[0m \u001b[0mself\u001b[0m\u001b[1;33m.\u001b[0m\u001b[0m_validate_data\u001b[0m\u001b[1;33m(\u001b[0m\u001b[0mX\u001b[0m\u001b[1;33m,\u001b[0m \u001b[0my\u001b[0m\u001b[1;33m,\u001b[0m \u001b[0mreset\u001b[0m\u001b[1;33m=\u001b[0m\u001b[0mfirst_call\u001b[0m\u001b[1;33m)\u001b[0m\u001b[1;33m\u001b[0m\u001b[1;33m\u001b[0m\u001b[0m\n\u001b[0m\u001b[0;32m    403\u001b[0m         \u001b[1;32mif\u001b[0m \u001b[0msample_weight\u001b[0m \u001b[1;32mis\u001b[0m \u001b[1;32mnot\u001b[0m \u001b[1;32mNone\u001b[0m\u001b[1;33m:\u001b[0m\u001b[1;33m\u001b[0m\u001b[1;33m\u001b[0m\u001b[0m\n\u001b[0;32m    404\u001b[0m             \u001b[0msample_weight\u001b[0m \u001b[1;33m=\u001b[0m \u001b[0m_check_sample_weight\u001b[0m\u001b[1;33m(\u001b[0m\u001b[0msample_weight\u001b[0m\u001b[1;33m,\u001b[0m \u001b[0mX\u001b[0m\u001b[1;33m)\u001b[0m\u001b[1;33m\u001b[0m\u001b[1;33m\u001b[0m\u001b[0m\n",
      "\u001b[1;32m~\\anaconda3\\lib\\site-packages\\sklearn\\base.py\u001b[0m in \u001b[0;36m_validate_data\u001b[1;34m(self, X, y, reset, validate_separately, **check_params)\u001b[0m\n\u001b[0;32m    574\u001b[0m                 \u001b[0my\u001b[0m \u001b[1;33m=\u001b[0m \u001b[0mcheck_array\u001b[0m\u001b[1;33m(\u001b[0m\u001b[0my\u001b[0m\u001b[1;33m,\u001b[0m \u001b[1;33m**\u001b[0m\u001b[0mcheck_y_params\u001b[0m\u001b[1;33m)\u001b[0m\u001b[1;33m\u001b[0m\u001b[1;33m\u001b[0m\u001b[0m\n\u001b[0;32m    575\u001b[0m             \u001b[1;32melse\u001b[0m\u001b[1;33m:\u001b[0m\u001b[1;33m\u001b[0m\u001b[1;33m\u001b[0m\u001b[0m\n\u001b[1;32m--> 576\u001b[1;33m                 \u001b[0mX\u001b[0m\u001b[1;33m,\u001b[0m \u001b[0my\u001b[0m \u001b[1;33m=\u001b[0m \u001b[0mcheck_X_y\u001b[0m\u001b[1;33m(\u001b[0m\u001b[0mX\u001b[0m\u001b[1;33m,\u001b[0m \u001b[0my\u001b[0m\u001b[1;33m,\u001b[0m \u001b[1;33m**\u001b[0m\u001b[0mcheck_params\u001b[0m\u001b[1;33m)\u001b[0m\u001b[1;33m\u001b[0m\u001b[1;33m\u001b[0m\u001b[0m\n\u001b[0m\u001b[0;32m    577\u001b[0m             \u001b[0mout\u001b[0m \u001b[1;33m=\u001b[0m \u001b[0mX\u001b[0m\u001b[1;33m,\u001b[0m \u001b[0my\u001b[0m\u001b[1;33m\u001b[0m\u001b[1;33m\u001b[0m\u001b[0m\n\u001b[0;32m    578\u001b[0m \u001b[1;33m\u001b[0m\u001b[0m\n",
      "\u001b[1;32m~\\anaconda3\\lib\\site-packages\\sklearn\\utils\\validation.py\u001b[0m in \u001b[0;36mcheck_X_y\u001b[1;34m(X, y, accept_sparse, accept_large_sparse, dtype, order, copy, force_all_finite, ensure_2d, allow_nd, multi_output, ensure_min_samples, ensure_min_features, y_numeric, estimator)\u001b[0m\n\u001b[0;32m    971\u001b[0m     \u001b[0my\u001b[0m \u001b[1;33m=\u001b[0m \u001b[0m_check_y\u001b[0m\u001b[1;33m(\u001b[0m\u001b[0my\u001b[0m\u001b[1;33m,\u001b[0m \u001b[0mmulti_output\u001b[0m\u001b[1;33m=\u001b[0m\u001b[0mmulti_output\u001b[0m\u001b[1;33m,\u001b[0m \u001b[0my_numeric\u001b[0m\u001b[1;33m=\u001b[0m\u001b[0my_numeric\u001b[0m\u001b[1;33m)\u001b[0m\u001b[1;33m\u001b[0m\u001b[1;33m\u001b[0m\u001b[0m\n\u001b[0;32m    972\u001b[0m \u001b[1;33m\u001b[0m\u001b[0m\n\u001b[1;32m--> 973\u001b[1;33m     \u001b[0mcheck_consistent_length\u001b[0m\u001b[1;33m(\u001b[0m\u001b[0mX\u001b[0m\u001b[1;33m,\u001b[0m \u001b[0my\u001b[0m\u001b[1;33m)\u001b[0m\u001b[1;33m\u001b[0m\u001b[1;33m\u001b[0m\u001b[0m\n\u001b[0m\u001b[0;32m    974\u001b[0m \u001b[1;33m\u001b[0m\u001b[0m\n\u001b[0;32m    975\u001b[0m     \u001b[1;32mreturn\u001b[0m \u001b[0mX\u001b[0m\u001b[1;33m,\u001b[0m \u001b[0my\u001b[0m\u001b[1;33m\u001b[0m\u001b[1;33m\u001b[0m\u001b[0m\n",
      "\u001b[1;32m~\\anaconda3\\lib\\site-packages\\sklearn\\utils\\validation.py\u001b[0m in \u001b[0;36mcheck_consistent_length\u001b[1;34m(*arrays)\u001b[0m\n\u001b[0;32m    329\u001b[0m     \u001b[0muniques\u001b[0m \u001b[1;33m=\u001b[0m \u001b[0mnp\u001b[0m\u001b[1;33m.\u001b[0m\u001b[0munique\u001b[0m\u001b[1;33m(\u001b[0m\u001b[0mlengths\u001b[0m\u001b[1;33m)\u001b[0m\u001b[1;33m\u001b[0m\u001b[1;33m\u001b[0m\u001b[0m\n\u001b[0;32m    330\u001b[0m     \u001b[1;32mif\u001b[0m \u001b[0mlen\u001b[0m\u001b[1;33m(\u001b[0m\u001b[0muniques\u001b[0m\u001b[1;33m)\u001b[0m \u001b[1;33m>\u001b[0m \u001b[1;36m1\u001b[0m\u001b[1;33m:\u001b[0m\u001b[1;33m\u001b[0m\u001b[1;33m\u001b[0m\u001b[0m\n\u001b[1;32m--> 331\u001b[1;33m         raise ValueError(\n\u001b[0m\u001b[0;32m    332\u001b[0m             \u001b[1;34m\"Found input variables with inconsistent numbers of samples: %r\"\u001b[0m\u001b[1;33m\u001b[0m\u001b[1;33m\u001b[0m\u001b[0m\n\u001b[0;32m    333\u001b[0m             \u001b[1;33m%\u001b[0m \u001b[1;33m[\u001b[0m\u001b[0mint\u001b[0m\u001b[1;33m(\u001b[0m\u001b[0ml\u001b[0m\u001b[1;33m)\u001b[0m \u001b[1;32mfor\u001b[0m \u001b[0ml\u001b[0m \u001b[1;32min\u001b[0m \u001b[0mlengths\u001b[0m\u001b[1;33m]\u001b[0m\u001b[1;33m\u001b[0m\u001b[1;33m\u001b[0m\u001b[0m\n",
      "\u001b[1;31mValueError\u001b[0m: Found input variables with inconsistent numbers of samples: [6700, 10822]"
     ]
    }
   ],
   "source": [
    "gaussian = GaussianNB()\n",
    "gaussian.fit(X.toarray(), labels)"
   ]
  }
 ],
 "metadata": {
  "interpreter": {
   "hash": "88435282e7afd386f137f5bf71124f6ca50142be149f9ca18724b5a580de610c"
  },
  "kernelspec": {
   "display_name": "Python 3 (ipykernel)",
   "language": "python",
   "name": "python3"
  },
  "language_info": {
   "codemirror_mode": {
    "name": "ipython",
    "version": 3
   },
   "file_extension": ".py",
   "mimetype": "text/x-python",
   "name": "python",
   "nbconvert_exporter": "python",
   "pygments_lexer": "ipython3",
   "version": "3.8.12"
  }
 },
 "nbformat": 4,
 "nbformat_minor": 4
}
