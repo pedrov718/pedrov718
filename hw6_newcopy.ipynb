{
 "cells": [
  {
   "cell_type": "markdown",
   "id": "03480edc-5f16-49e9-bfe1-e7bcf6de5f84",
   "metadata": {},
   "source": [
    "# Homework 6"
   ]
  },
  {
   "cell_type": "code",
   "execution_count": 1,
   "id": "e2a5ec17",
   "metadata": {},
   "outputs": [],
   "source": [
    "%matplotlib inline\n",
    "\n",
    "import numpy as np\n",
    "import pandas as pd\n",
    "from matplotlib import pyplot as plt\n",
    "import seaborn as sns\n",
    "sns.set_style('white')\n",
    "from sklearn.linear_model import LinearRegression\n",
    "from scipy.optimize import curve_fit"
   ]
  },
  {
   "cell_type": "markdown",
   "id": "50e22382-f314-450e-8210-361118502566",
   "metadata": {},
   "source": [
    "**Note:** In **all** problems below, round all floats in your answers to **3** decimal places."
   ]
  },
  {
   "cell_type": "markdown",
   "id": "3ebfa1b6",
   "metadata": {
    "problem": 1,
    "tags": []
   },
   "source": [
    "## Part I: Abalone\n",
    "\n",
    "### Problem 1 (5 pts)\n",
    "\n",
    "We'll begin by exploring a set of data about [abalone](https://en.wikipedia.org/wiki/Abalone). This contains physical measurements\n",
    "of abalone, a type of marine snail. Information about each feature in the dataset can be found [here](https://archive.ics.uci.edu/ml/datasets/abalone) under **Attribute Information**.\n",
    "\n",
    "(a) Load `abalone_original.csv` using `pandas` into a variable called `abalone_df`. \n",
    "\n",
    "(b) Print out the statistics of the numeric variables in the dataset using `describe()`. Consider the summary statistics of the `height` variable. Does anything stick out to you?"
   ]
  },
  {
   "cell_type": "code",
   "execution_count": null,
   "id": "8eed0135-dc67-43d7-b589-84a133274ef2",
   "metadata": {},
   "outputs": [],
   "source": []
  },
  {
   "cell_type": "markdown",
   "id": "246690a9",
   "metadata": {
    "problem": 2,
    "tags": []
   },
   "source": [
    "### Problem 2 (3pts)\n",
    "\n",
    "Show the rows of the `abalone_df` dataset that cause the oddity in Problem 1.\n",
    "\n",
    "Modify `abalone_df` directly, removing these rows from the dataset. Print the numer of rows in the modified dataset. *Confidence check*: there should be 4175 rows in the resulting dataset."
   ]
  },
  {
   "cell_type": "code",
   "execution_count": null,
   "id": "1928f55e-2976-4375-8a60-128e8e8e3939",
   "metadata": {},
   "outputs": [],
   "source": []
  },
  {
   "cell_type": "markdown",
   "id": "5cce6524",
   "metadata": {
    "problem": 3,
    "tags": []
   },
   "source": [
    "### Problem 3 (10pts)\n",
    "\n",
    "Next, we'll explore the relationship between individual abalone dimensions and the creature's shucked weight.\n",
    "\n",
    "(a) Using the updated `abalone_df`, make three scatterplots to examine the relationships between:\n",
    "\n",
    "1. `x = length, y = shucked-weight`\n",
    "2. `x = diameter, y = shucked-weight`\n",
    "3. `x = height, y = sucked-weight`\n",
    "\n",
    "with the hue of each point representing the `sex` of the abalone.\n",
    "\n",
    "(b) For each of the pairs above, do you expect a linear model to fit the relationship well?\n",
    "\n",
    "(c) Do you notice any relationships between `sex` and the variables above? Why might these relationships make sense?"
   ]
  },
  {
   "cell_type": "code",
   "execution_count": null,
   "id": "11332035-93b2-4dfb-8d1d-11799fb6c173",
   "metadata": {},
   "outputs": [],
   "source": []
  },
  {
   "cell_type": "markdown",
   "id": "229b00a7",
   "metadata": {
    "problem": 4,
    "tags": []
   },
   "source": [
    "### Problem 4 (15pts)\n",
    "\n",
    "(a) Remove the two obvious `height` outliers in the dataset and assign the resulting dataframe to a new variable, `cleaned_df`.\n",
    "\n",
    "(b) For each of the three input variables above, use a variable transformation to fit an exponential model ($y = ce^{\\lambda x}$) as a linear relationship between the input variable and the appropriately transformed version of `shucked-weight`.\n",
    "\n",
    "(c) Print the intercept, coefficient, and $r^2$ (rounded to 3 decimal places) of each of your 3 models. Think: how should you calculate $r^2$ in this case?\n",
    "\n",
    "(d) For each input variable, create a plot showing the original data and the predictions of your model from part (b) over the `cleaned_df` data. How would you describe the fit? Would you expect the model to over- or under-predict the weight of the large-height outliers you removed in step (a)?"
   ]
  },
  {
   "cell_type": "code",
   "execution_count": null,
   "id": "24942dd3-fb16-458e-b205-c991638d2c00",
   "metadata": {},
   "outputs": [],
   "source": []
  },
  {
   "cell_type": "markdown",
   "id": "bb4f35f8",
   "metadata": {
    "problem": 5,
    "tags": []
   },
   "source": [
    "### Problem 5 (15pts)\n",
    "\n",
    "Here we will use [SciPy's `curve_fit`](https://docs.scipy.org/doc/scipy/reference/generated/scipy.optimize.curve_fit.html) to fit a different model for our abalone data.\n",
    "\n",
    "(a) Define a function, `cubic`, that takes parameters `X, a` and returns $aX^3$.\n",
    "\n",
    "(b) Use the `curve_fit` function to find the optimal parameters of a `cubic` model for each of  the same three pairs of variables as in problem 4, fitting on `cleaned_df`. Set the `bounds` parameter of `curve_fit` to force the coefficient `a` to be strictly positive.\n",
    "\n",
    "(c) Plot the result of your regressions from part (b).\n",
    "\n",
    "(d) Calculate the $r^2$ of each of the three models in the same way you did in problem 4. How do these compare to the $r^2$ of the exponential models from problem 4? Which model, exponential or cubic, is more appropriate to the underlying physical phenomenon (the relationship between organism size and weight)? Why?"
   ]
  },
  {
   "cell_type": "code",
   "execution_count": null,
   "id": "1a453110-6972-4b84-8e41-a499db38982b",
   "metadata": {},
   "outputs": [],
   "source": []
  },
  {
   "cell_type": "markdown",
   "id": "fd5ca867",
   "metadata": {
    "narrative": true,
    "tags": []
   },
   "source": [
    "## Part II: Cars\n",
    "\n",
    "For our next problems, we will use the `auto-mpg` dataset. This describes the features\n",
    "of several different car makes and models from the 1970s and early '80s. It's a classic data science example. \n",
    "\n",
    "First, we load the data:"
   ]
  },
  {
   "cell_type": "code",
   "execution_count": 2,
   "id": "d35bbc55",
   "metadata": {
    "narrative": true,
    "tags": []
   },
   "outputs": [
    {
     "data": {
      "text/html": [
       "<div>\n",
       "<style scoped>\n",
       "    .dataframe tbody tr th:only-of-type {\n",
       "        vertical-align: middle;\n",
       "    }\n",
       "\n",
       "    .dataframe tbody tr th {\n",
       "        vertical-align: top;\n",
       "    }\n",
       "\n",
       "    .dataframe thead th {\n",
       "        text-align: right;\n",
       "    }\n",
       "</style>\n",
       "<table border=\"1\" class=\"dataframe\">\n",
       "  <thead>\n",
       "    <tr style=\"text-align: right;\">\n",
       "      <th></th>\n",
       "      <th>mpg</th>\n",
       "      <th>cylinders</th>\n",
       "      <th>displacement</th>\n",
       "      <th>horsepower</th>\n",
       "      <th>weight</th>\n",
       "      <th>acceleration</th>\n",
       "      <th>model year</th>\n",
       "      <th>origin</th>\n",
       "      <th>car name</th>\n",
       "    </tr>\n",
       "  </thead>\n",
       "  <tbody>\n",
       "    <tr>\n",
       "      <th>0</th>\n",
       "      <td>18.0</td>\n",
       "      <td>8</td>\n",
       "      <td>307.0</td>\n",
       "      <td>130</td>\n",
       "      <td>3504</td>\n",
       "      <td>12.0</td>\n",
       "      <td>70</td>\n",
       "      <td>1</td>\n",
       "      <td>chevrolet chevelle malibu</td>\n",
       "    </tr>\n",
       "    <tr>\n",
       "      <th>1</th>\n",
       "      <td>15.0</td>\n",
       "      <td>8</td>\n",
       "      <td>350.0</td>\n",
       "      <td>165</td>\n",
       "      <td>3693</td>\n",
       "      <td>11.5</td>\n",
       "      <td>70</td>\n",
       "      <td>1</td>\n",
       "      <td>buick skylark 320</td>\n",
       "    </tr>\n",
       "    <tr>\n",
       "      <th>2</th>\n",
       "      <td>18.0</td>\n",
       "      <td>8</td>\n",
       "      <td>318.0</td>\n",
       "      <td>150</td>\n",
       "      <td>3436</td>\n",
       "      <td>11.0</td>\n",
       "      <td>70</td>\n",
       "      <td>1</td>\n",
       "      <td>plymouth satellite</td>\n",
       "    </tr>\n",
       "    <tr>\n",
       "      <th>3</th>\n",
       "      <td>16.0</td>\n",
       "      <td>8</td>\n",
       "      <td>304.0</td>\n",
       "      <td>150</td>\n",
       "      <td>3433</td>\n",
       "      <td>12.0</td>\n",
       "      <td>70</td>\n",
       "      <td>1</td>\n",
       "      <td>amc rebel sst</td>\n",
       "    </tr>\n",
       "    <tr>\n",
       "      <th>4</th>\n",
       "      <td>17.0</td>\n",
       "      <td>8</td>\n",
       "      <td>302.0</td>\n",
       "      <td>140</td>\n",
       "      <td>3449</td>\n",
       "      <td>10.5</td>\n",
       "      <td>70</td>\n",
       "      <td>1</td>\n",
       "      <td>ford torino</td>\n",
       "    </tr>\n",
       "  </tbody>\n",
       "</table>\n",
       "</div>"
      ],
      "text/plain": [
       "    mpg  cylinders  displacement horsepower  weight  acceleration  model year  \\\n",
       "0  18.0          8         307.0        130    3504          12.0          70   \n",
       "1  15.0          8         350.0        165    3693          11.5          70   \n",
       "2  18.0          8         318.0        150    3436          11.0          70   \n",
       "3  16.0          8         304.0        150    3433          12.0          70   \n",
       "4  17.0          8         302.0        140    3449          10.5          70   \n",
       "\n",
       "   origin                   car name  \n",
       "0       1  chevrolet chevelle malibu  \n",
       "1       1          buick skylark 320  \n",
       "2       1         plymouth satellite  \n",
       "3       1              amc rebel sst  \n",
       "4       1                ford torino  "
      ]
     },
     "execution_count": 2,
     "metadata": {},
     "output_type": "execute_result"
    }
   ],
   "source": [
    "auto_df = pd.read_csv('auto-mpg.csv')\n",
    "auto_df.head()"
   ]
  },
  {
   "cell_type": "code",
   "execution_count": 3,
   "id": "fe81d466",
   "metadata": {
    "narrative": true,
    "tags": []
   },
   "outputs": [
    {
     "data": {
      "text/plain": [
       "mpg             float64\n",
       "cylinders         int64\n",
       "displacement    float64\n",
       "horsepower       object\n",
       "weight            int64\n",
       "acceleration    float64\n",
       "model year        int64\n",
       "origin            int64\n",
       "car name         object\n",
       "dtype: object"
      ]
     },
     "execution_count": 3,
     "metadata": {},
     "output_type": "execute_result"
    }
   ],
   "source": [
    "auto_df.dtypes"
   ]
  },
  {
   "cell_type": "markdown",
   "id": "8f368357",
   "metadata": {
    "narrative": true,
    "tags": []
   },
   "source": [
    "The data type of `horsepower` is `object` (rather than something numeric). Let's fix that:"
   ]
  },
  {
   "cell_type": "code",
   "execution_count": 4,
   "id": "9feb6071-8d9a-433c-9686-17ff8b6f19d3",
   "metadata": {
    "narrative": true,
    "tags": []
   },
   "outputs": [
    {
     "data": {
      "text/html": [
       "<div>\n",
       "<style scoped>\n",
       "    .dataframe tbody tr th:only-of-type {\n",
       "        vertical-align: middle;\n",
       "    }\n",
       "\n",
       "    .dataframe tbody tr th {\n",
       "        vertical-align: top;\n",
       "    }\n",
       "\n",
       "    .dataframe thead th {\n",
       "        text-align: right;\n",
       "    }\n",
       "</style>\n",
       "<table border=\"1\" class=\"dataframe\">\n",
       "  <thead>\n",
       "    <tr style=\"text-align: right;\">\n",
       "      <th></th>\n",
       "      <th>mpg</th>\n",
       "      <th>cylinders</th>\n",
       "      <th>displacement</th>\n",
       "      <th>horsepower</th>\n",
       "      <th>weight</th>\n",
       "      <th>acceleration</th>\n",
       "      <th>model year</th>\n",
       "      <th>origin</th>\n",
       "      <th>car name</th>\n",
       "    </tr>\n",
       "  </thead>\n",
       "  <tbody>\n",
       "    <tr>\n",
       "      <th>32</th>\n",
       "      <td>25.0</td>\n",
       "      <td>4</td>\n",
       "      <td>98.0</td>\n",
       "      <td>?</td>\n",
       "      <td>2046</td>\n",
       "      <td>19.0</td>\n",
       "      <td>71</td>\n",
       "      <td>1</td>\n",
       "      <td>ford pinto</td>\n",
       "    </tr>\n",
       "    <tr>\n",
       "      <th>126</th>\n",
       "      <td>21.0</td>\n",
       "      <td>6</td>\n",
       "      <td>200.0</td>\n",
       "      <td>?</td>\n",
       "      <td>2875</td>\n",
       "      <td>17.0</td>\n",
       "      <td>74</td>\n",
       "      <td>1</td>\n",
       "      <td>ford maverick</td>\n",
       "    </tr>\n",
       "    <tr>\n",
       "      <th>330</th>\n",
       "      <td>40.9</td>\n",
       "      <td>4</td>\n",
       "      <td>85.0</td>\n",
       "      <td>?</td>\n",
       "      <td>1835</td>\n",
       "      <td>17.3</td>\n",
       "      <td>80</td>\n",
       "      <td>2</td>\n",
       "      <td>renault lecar deluxe</td>\n",
       "    </tr>\n",
       "    <tr>\n",
       "      <th>336</th>\n",
       "      <td>23.6</td>\n",
       "      <td>4</td>\n",
       "      <td>140.0</td>\n",
       "      <td>?</td>\n",
       "      <td>2905</td>\n",
       "      <td>14.3</td>\n",
       "      <td>80</td>\n",
       "      <td>1</td>\n",
       "      <td>ford mustang cobra</td>\n",
       "    </tr>\n",
       "    <tr>\n",
       "      <th>354</th>\n",
       "      <td>34.5</td>\n",
       "      <td>4</td>\n",
       "      <td>100.0</td>\n",
       "      <td>?</td>\n",
       "      <td>2320</td>\n",
       "      <td>15.8</td>\n",
       "      <td>81</td>\n",
       "      <td>2</td>\n",
       "      <td>renault 18i</td>\n",
       "    </tr>\n",
       "    <tr>\n",
       "      <th>374</th>\n",
       "      <td>23.0</td>\n",
       "      <td>4</td>\n",
       "      <td>151.0</td>\n",
       "      <td>?</td>\n",
       "      <td>3035</td>\n",
       "      <td>20.5</td>\n",
       "      <td>82</td>\n",
       "      <td>1</td>\n",
       "      <td>amc concord dl</td>\n",
       "    </tr>\n",
       "  </tbody>\n",
       "</table>\n",
       "</div>"
      ],
      "text/plain": [
       "      mpg  cylinders  displacement horsepower  weight  acceleration  \\\n",
       "32   25.0          4          98.0          ?    2046          19.0   \n",
       "126  21.0          6         200.0          ?    2875          17.0   \n",
       "330  40.9          4          85.0          ?    1835          17.3   \n",
       "336  23.6          4         140.0          ?    2905          14.3   \n",
       "354  34.5          4         100.0          ?    2320          15.8   \n",
       "374  23.0          4         151.0          ?    3035          20.5   \n",
       "\n",
       "     model year  origin              car name  \n",
       "32           71       1            ford pinto  \n",
       "126          74       1         ford maverick  \n",
       "330          80       2  renault lecar deluxe  \n",
       "336          80       1    ford mustang cobra  \n",
       "354          81       2           renault 18i  \n",
       "374          82       1        amc concord dl  "
      ]
     },
     "execution_count": 4,
     "metadata": {},
     "output_type": "execute_result"
    }
   ],
   "source": [
    "# identify non-numeric-like values for horsepower\n",
    "numeric_values = pd.DataFrame(auto_df.horsepower.str.isdigit())  \n",
    "auto_df[numeric_values['horsepower'] == False]"
   ]
  },
  {
   "cell_type": "code",
   "execution_count": 5,
   "id": "275027fe-64fd-4cfb-9757-37838eabf7ec",
   "metadata": {
    "narrative": true,
    "tags": []
   },
   "outputs": [],
   "source": [
    "# missing values are indicated by '?'; replace with nan and drop\n",
    "auto_df = auto_df.replace('?', np.nan)\n",
    "auto_df = auto_df.dropna()\n",
    "\n",
    "# cast horsepower to type float\n",
    "auto_df['horsepower'] = auto_df['horsepower'].astype('float64')"
   ]
  },
  {
   "cell_type": "markdown",
   "id": "28f1a093",
   "metadata": {
    "problem": 6,
    "tags": []
   },
   "source": [
    "### Problem 6 (2pts)\n",
    "\n",
    "Using the cleaned `auto_df`, create a scatterplot of`mpg` (y-axis) as a function of `horsepower` (x-axis). What relationship do you see? Is it linear?"
   ]
  },
  {
   "cell_type": "code",
   "execution_count": null,
   "id": "bfd6d390-17b6-4454-8bf0-433a68e959da",
   "metadata": {},
   "outputs": [],
   "source": []
  },
  {
   "cell_type": "markdown",
   "id": "d4462962",
   "metadata": {
    "problem": 7,
    "tags": []
   },
   "source": [
    "### Problem 7 (5pts)\n",
    "\n",
    "Using the `curve_fit` function, fit a quadratic (second order) polynomial function to the data from problem 6.\n",
    "\n",
    "Plot your regression line on top of the data and print the $r^2$ (rounded to 3 decimal places)."
   ]
  },
  {
   "cell_type": "code",
   "execution_count": null,
   "id": "c6b86fe3-8877-4ea1-988b-7cb06365da9e",
   "metadata": {},
   "outputs": [],
   "source": []
  },
  {
   "cell_type": "markdown",
   "id": "dbb41936",
   "metadata": {
    "narrative": true,
    "tags": []
   },
   "source": [
    "Next, we'll look at a more complex model on the same data."
   ]
  },
  {
   "cell_type": "code",
   "execution_count": 6,
   "id": "f04f7751-4263-40e9-ac7a-76c3836740b4",
   "metadata": {
    "narrative": true,
    "tags": []
   },
   "outputs": [
    {
     "data": {
      "image/png": "[encoded data removed]",
      "text/plain": [
       "<Figure size 432x288 with 1 Axes>"
      ]
     },
     "metadata": {},
     "output_type": "display_data"
    }
   ],
   "source": [
    "# polynomial model of degree 30 (yikes!)\n",
    "model = np.polynomial.Polynomial.fit(auto_df['horsepower'], auto_df['mpg'], 30)\n",
    "\n",
    "# plot output\n",
    "sns.scatterplot(data=auto_df, x='horsepower', y='mpg')\n",
    "horsepower_sorted = auto_df['horsepower'].sort_values()\n",
    "plt.plot(horsepower_sorted, model(horsepower_sorted), c='orange')\n",
    "plt.show()"
   ]
  },
  {
   "cell_type": "code",
   "execution_count": 7,
   "id": "14f346b2",
   "metadata": {
    "narrative": true,
    "tags": []
   },
   "outputs": [
    {
     "name": "stdout",
     "output_type": "stream",
     "text": [
      "r^2: 0.736\n"
     ]
    }
   ],
   "source": [
    "print(f'r^2: {np.corrcoef(model(auto_df[\"horsepower\"]), auto_df[\"mpg\"])[0, 1] ** 2:.3f}')"
   ]
  },
  {
   "cell_type": "markdown",
   "id": "779e9c0b",
   "metadata": {
    "problem": 8,
    "tags": []
   },
   "source": [
    "### Problem 8 (5pts)\n",
    "\n",
    "Above is a degree-30 polynomial fit of the same dataset. How does this fit compare to the quadratic polynomial model? Would you expect this to be a better or worse predictor of `mpg` values than the quadratic model? Are there any potential issues with the quadratic model?"
   ]
  },
  {
   "cell_type": "code",
   "execution_count": null,
   "id": "f7461dcf",
   "metadata": {},
   "outputs": [],
   "source": []
  }
 ],
 "metadata": {
  "kernelspec": {
   "display_name": "Python 3 (ipykernel)",
   "language": "python",
   "name": "python3"
  },
  "language_info": {
   "codemirror_mode": {
    "name": "ipython",
    "version": 3
   },
   "file_extension": ".py",
   "mimetype": "text/x-python",
   "name": "python",
   "nbconvert_exporter": "python",
   "pygments_lexer": "ipython3",
   "version": "3.9.6"
  }
 },
 "nbformat": 4,
 "nbformat_minor": 5
}
