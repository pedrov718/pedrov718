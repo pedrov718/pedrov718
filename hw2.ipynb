{
 "cells": [
  {
   "cell_type": "code",
   "execution_count": 284,
   "id": "2e801828-07b9-4eb6-951f-65fd0e3446ac",
   "metadata": {},
   "outputs": [],
   "source": [
    "import pandas as pd\n",
    "import math\n",
    "import matplotlib.pyplot as plt\n",
    "import statistics as stats"
   ]
  },
  {
   "cell_type": "markdown",
   "id": "cd96e6d7-41d7-489b-a762-f308524d1bee",
   "metadata": {},
   "source": [
    "***Question 1***\n",
    "The file quartet.csv contains four datasets of x and y values, side by side.\n",
    "\n",
    "(a) Compute the sample mean, sample median, and sample standard deviation for each column of\n",
    "the dataset.\n",
    "\n",
    "(b) Based solely upon the summary statistics you computed in part (a), how do the four datasets\n",
    "compare?\n",
    "\n",
    "(c) Construct scatterplots for each of the four datasets.\n",
    "\n",
    "(d) Based solely upon the plots you generated in part (c), how do the four datasets compare?\n",
    "\n",
    "(e) What’s the moral of the story?"
   ]
  },
  {
   "cell_type": "code",
   "execution_count": 285,
   "id": "8c536f8c-1481-454e-944b-105a794cf47b",
   "metadata": {},
   "outputs": [
    {
     "data": {
      "text/html": [
       "<div>\n",
       "<style scoped>\n",
       "    .dataframe tbody tr th:only-of-type {\n",
       "        vertical-align: middle;\n",
       "    }\n",
       "\n",
       "    .dataframe tbody tr th {\n",
       "        vertical-align: top;\n",
       "    }\n",
       "\n",
       "    .dataframe thead th {\n",
       "        text-align: right;\n",
       "    }\n",
       "</style>\n",
       "<table border=\"1\" class=\"dataframe\">\n",
       "  <thead>\n",
       "    <tr style=\"text-align: right;\">\n",
       "      <th></th>\n",
       "      <th>x1</th>\n",
       "      <th>y1</th>\n",
       "      <th>x2</th>\n",
       "      <th>y2</th>\n",
       "      <th>x3</th>\n",
       "      <th>y3</th>\n",
       "      <th>x4</th>\n",
       "      <th>y4</th>\n",
       "    </tr>\n",
       "  </thead>\n",
       "  <tbody>\n",
       "    <tr>\n",
       "      <th>0</th>\n",
       "      <td>10</td>\n",
       "      <td>8.04</td>\n",
       "      <td>10</td>\n",
       "      <td>9.14</td>\n",
       "      <td>10</td>\n",
       "      <td>7.46</td>\n",
       "      <td>8</td>\n",
       "      <td>6.58</td>\n",
       "    </tr>\n",
       "    <tr>\n",
       "      <th>1</th>\n",
       "      <td>8</td>\n",
       "      <td>6.95</td>\n",
       "      <td>8</td>\n",
       "      <td>8.14</td>\n",
       "      <td>8</td>\n",
       "      <td>6.77</td>\n",
       "      <td>8</td>\n",
       "      <td>5.76</td>\n",
       "    </tr>\n",
       "    <tr>\n",
       "      <th>2</th>\n",
       "      <td>13</td>\n",
       "      <td>7.58</td>\n",
       "      <td>13</td>\n",
       "      <td>8.74</td>\n",
       "      <td>13</td>\n",
       "      <td>12.74</td>\n",
       "      <td>8</td>\n",
       "      <td>7.71</td>\n",
       "    </tr>\n",
       "    <tr>\n",
       "      <th>3</th>\n",
       "      <td>9</td>\n",
       "      <td>8.81</td>\n",
       "      <td>9</td>\n",
       "      <td>8.77</td>\n",
       "      <td>9</td>\n",
       "      <td>7.11</td>\n",
       "      <td>8</td>\n",
       "      <td>8.84</td>\n",
       "    </tr>\n",
       "    <tr>\n",
       "      <th>4</th>\n",
       "      <td>11</td>\n",
       "      <td>8.33</td>\n",
       "      <td>11</td>\n",
       "      <td>9.26</td>\n",
       "      <td>11</td>\n",
       "      <td>7.81</td>\n",
       "      <td>8</td>\n",
       "      <td>8.47</td>\n",
       "    </tr>\n",
       "    <tr>\n",
       "      <th>5</th>\n",
       "      <td>14</td>\n",
       "      <td>9.96</td>\n",
       "      <td>14</td>\n",
       "      <td>8.10</td>\n",
       "      <td>14</td>\n",
       "      <td>8.84</td>\n",
       "      <td>8</td>\n",
       "      <td>7.04</td>\n",
       "    </tr>\n",
       "    <tr>\n",
       "      <th>6</th>\n",
       "      <td>6</td>\n",
       "      <td>7.24</td>\n",
       "      <td>6</td>\n",
       "      <td>6.13</td>\n",
       "      <td>6</td>\n",
       "      <td>6.08</td>\n",
       "      <td>8</td>\n",
       "      <td>5.25</td>\n",
       "    </tr>\n",
       "    <tr>\n",
       "      <th>7</th>\n",
       "      <td>4</td>\n",
       "      <td>4.26</td>\n",
       "      <td>4</td>\n",
       "      <td>3.10</td>\n",
       "      <td>4</td>\n",
       "      <td>5.39</td>\n",
       "      <td>19</td>\n",
       "      <td>12.50</td>\n",
       "    </tr>\n",
       "    <tr>\n",
       "      <th>8</th>\n",
       "      <td>12</td>\n",
       "      <td>10.84</td>\n",
       "      <td>12</td>\n",
       "      <td>9.13</td>\n",
       "      <td>12</td>\n",
       "      <td>8.15</td>\n",
       "      <td>8</td>\n",
       "      <td>5.56</td>\n",
       "    </tr>\n",
       "    <tr>\n",
       "      <th>9</th>\n",
       "      <td>7</td>\n",
       "      <td>4.82</td>\n",
       "      <td>7</td>\n",
       "      <td>7.26</td>\n",
       "      <td>7</td>\n",
       "      <td>6.42</td>\n",
       "      <td>8</td>\n",
       "      <td>7.91</td>\n",
       "    </tr>\n",
       "  </tbody>\n",
       "</table>\n",
       "</div>"
      ],
      "text/plain": [
       "   x1     y1  x2    y2  x3     y3  x4     y4\n",
       "0  10   8.04  10  9.14  10   7.46   8   6.58\n",
       "1   8   6.95   8  8.14   8   6.77   8   5.76\n",
       "2  13   7.58  13  8.74  13  12.74   8   7.71\n",
       "3   9   8.81   9  8.77   9   7.11   8   8.84\n",
       "4  11   8.33  11  9.26  11   7.81   8   8.47\n",
       "5  14   9.96  14  8.10  14   8.84   8   7.04\n",
       "6   6   7.24   6  6.13   6   6.08   8   5.25\n",
       "7   4   4.26   4  3.10   4   5.39  19  12.50\n",
       "8  12  10.84  12  9.13  12   8.15   8   5.56\n",
       "9   7   4.82   7  7.26   7   6.42   8   7.91"
      ]
     },
     "execution_count": 285,
     "metadata": {},
     "output_type": "execute_result"
    }
   ],
   "source": [
    "quartet = pd.read_csv(\"Quartet.csv\")\n",
    "quartet.head(10)"
   ]
  },
  {
   "cell_type": "code",
   "execution_count": 286,
   "id": "0ad30218-0842-43e7-80fb-ac6a3afe2ff4",
   "metadata": {},
   "outputs": [
    {
     "data": {
      "text/html": [
       "<div>\n",
       "<style scoped>\n",
       "    .dataframe tbody tr th:only-of-type {\n",
       "        vertical-align: middle;\n",
       "    }\n",
       "\n",
       "    .dataframe tbody tr th {\n",
       "        vertical-align: top;\n",
       "    }\n",
       "\n",
       "    .dataframe thead th {\n",
       "        text-align: right;\n",
       "    }\n",
       "</style>\n",
       "<table border=\"1\" class=\"dataframe\">\n",
       "  <thead>\n",
       "    <tr style=\"text-align: right;\">\n",
       "      <th></th>\n",
       "      <th>x1</th>\n",
       "      <th>y1</th>\n",
       "      <th>x2</th>\n",
       "      <th>y2</th>\n",
       "      <th>x3</th>\n",
       "      <th>y3</th>\n",
       "      <th>x4</th>\n",
       "      <th>y4</th>\n",
       "    </tr>\n",
       "  </thead>\n",
       "  <tbody>\n",
       "    <tr>\n",
       "      <th>count</th>\n",
       "      <td>11.000000</td>\n",
       "      <td>11.000000</td>\n",
       "      <td>11.000000</td>\n",
       "      <td>11.000000</td>\n",
       "      <td>11.000000</td>\n",
       "      <td>11.000000</td>\n",
       "      <td>11.000000</td>\n",
       "      <td>11.000000</td>\n",
       "    </tr>\n",
       "    <tr>\n",
       "      <th>mean</th>\n",
       "      <td>9.000000</td>\n",
       "      <td>7.500909</td>\n",
       "      <td>9.000000</td>\n",
       "      <td>7.500909</td>\n",
       "      <td>9.000000</td>\n",
       "      <td>7.500000</td>\n",
       "      <td>9.000000</td>\n",
       "      <td>7.500909</td>\n",
       "    </tr>\n",
       "    <tr>\n",
       "      <th>std</th>\n",
       "      <td>3.316625</td>\n",
       "      <td>2.031568</td>\n",
       "      <td>3.316625</td>\n",
       "      <td>2.031657</td>\n",
       "      <td>3.316625</td>\n",
       "      <td>2.030424</td>\n",
       "      <td>3.316625</td>\n",
       "      <td>2.030579</td>\n",
       "    </tr>\n",
       "    <tr>\n",
       "      <th>min</th>\n",
       "      <td>4.000000</td>\n",
       "      <td>4.260000</td>\n",
       "      <td>4.000000</td>\n",
       "      <td>3.100000</td>\n",
       "      <td>4.000000</td>\n",
       "      <td>5.390000</td>\n",
       "      <td>8.000000</td>\n",
       "      <td>5.250000</td>\n",
       "    </tr>\n",
       "    <tr>\n",
       "      <th>25%</th>\n",
       "      <td>6.500000</td>\n",
       "      <td>6.315000</td>\n",
       "      <td>6.500000</td>\n",
       "      <td>6.695000</td>\n",
       "      <td>6.500000</td>\n",
       "      <td>6.250000</td>\n",
       "      <td>8.000000</td>\n",
       "      <td>6.170000</td>\n",
       "    </tr>\n",
       "    <tr>\n",
       "      <th>50%</th>\n",
       "      <td>9.000000</td>\n",
       "      <td>7.580000</td>\n",
       "      <td>9.000000</td>\n",
       "      <td>8.140000</td>\n",
       "      <td>9.000000</td>\n",
       "      <td>7.110000</td>\n",
       "      <td>8.000000</td>\n",
       "      <td>7.040000</td>\n",
       "    </tr>\n",
       "    <tr>\n",
       "      <th>75%</th>\n",
       "      <td>11.500000</td>\n",
       "      <td>8.570000</td>\n",
       "      <td>11.500000</td>\n",
       "      <td>8.950000</td>\n",
       "      <td>11.500000</td>\n",
       "      <td>7.980000</td>\n",
       "      <td>8.000000</td>\n",
       "      <td>8.190000</td>\n",
       "    </tr>\n",
       "    <tr>\n",
       "      <th>max</th>\n",
       "      <td>14.000000</td>\n",
       "      <td>10.840000</td>\n",
       "      <td>14.000000</td>\n",
       "      <td>9.260000</td>\n",
       "      <td>14.000000</td>\n",
       "      <td>12.740000</td>\n",
       "      <td>19.000000</td>\n",
       "      <td>12.500000</td>\n",
       "    </tr>\n",
       "  </tbody>\n",
       "</table>\n",
       "</div>"
      ],
      "text/plain": [
       "              x1         y1         x2         y2         x3         y3  \\\n",
       "count  11.000000  11.000000  11.000000  11.000000  11.000000  11.000000   \n",
       "mean    9.000000   7.500909   9.000000   7.500909   9.000000   7.500000   \n",
       "std     3.316625   2.031568   3.316625   2.031657   3.316625   2.030424   \n",
       "min     4.000000   4.260000   4.000000   3.100000   4.000000   5.390000   \n",
       "25%     6.500000   6.315000   6.500000   6.695000   6.500000   6.250000   \n",
       "50%     9.000000   7.580000   9.000000   8.140000   9.000000   7.110000   \n",
       "75%    11.500000   8.570000  11.500000   8.950000  11.500000   7.980000   \n",
       "max    14.000000  10.840000  14.000000   9.260000  14.000000  12.740000   \n",
       "\n",
       "              x4         y4  \n",
       "count  11.000000  11.000000  \n",
       "mean    9.000000   7.500909  \n",
       "std     3.316625   2.030579  \n",
       "min     8.000000   5.250000  \n",
       "25%     8.000000   6.170000  \n",
       "50%     8.000000   7.040000  \n",
       "75%     8.000000   8.190000  \n",
       "max    19.000000  12.500000  "
      ]
     },
     "execution_count": 286,
     "metadata": {},
     "output_type": "execute_result"
    }
   ],
   "source": [
    "quartet.describe()"
   ]
  },
  {
   "cell_type": "markdown",
   "id": "85838321-de6f-4128-8df0-d17e3cdf144c",
   "metadata": {},
   "source": [
    "Without knowing the contents of the graph and only judging from the summary statistics I would wrongly assume that some of the columns actullay had the same data points. "
   ]
  },
  {
   "cell_type": "code",
   "execution_count": 287,
   "id": "82f19f83-0fa9-48ed-8ed9-ae4c13179566",
   "metadata": {},
   "outputs": [
    {
     "data": {
      "image/png": "[encoded data removed]",
      "text/plain": [
       "<Figure size 432x288 with 1 Axes>"
      ]
     },
     "metadata": {
      "needs_background": "light"
     },
     "output_type": "display_data"
    },
    {
     "data": {
      "image/png": "[encoded data removed]",
      "text/plain": [
       "<Figure size 432x288 with 1 Axes>"
      ]
     },
     "metadata": {
      "needs_background": "light"
     },
     "output_type": "display_data"
    },
    {
     "data": {
      "image/png": "[encoded data removed]",
      "text/plain": [
       "<Figure size 432x288 with 1 Axes>"
      ]
     },
     "metadata": {
      "needs_background": "light"
     },
     "output_type": "display_data"
    },
    {
     "data": {
      "image/png": "[encoded data removed]",
      "text/plain": [
       "<Figure size 432x288 with 1 Axes>"
      ]
     },
     "metadata": {
      "needs_background": "light"
     },
     "output_type": "display_data"
    }
   ],
   "source": [
    "x = quartet['x1']; y = quartet['y1']\n",
    "plt.scatter(x, y)\n",
    "plt.show()\n",
    "\n",
    "x = quartet['x2']; y = quartet['y2']\n",
    "plt.scatter(x, y)\n",
    "plt.show()\n",
    "\n",
    "x = quartet['x3']; y = quartet['y3']\n",
    "plt.scatter(x, y)\n",
    "\n",
    "plt.show()\n",
    "\n",
    "x = quartet['x4']; y = quartet['y4']\n",
    "plt.scatter(x, y)\n",
    "\n",
    "plt.show()"
   ]
  },
  {
   "cell_type": "markdown",
   "id": "d062db4a-e7b0-454c-8735-4fd3a878c297",
   "metadata": {},
   "source": [
    "Plots one, two, and three are all increasing over time. While plot 4 is an outlier case. It is clear from looking at these 4 graphs that they are all unique data sets"
   ]
  },
  {
   "cell_type": "markdown",
   "id": "d8b1cbca-8b0f-434a-85a6-48df2009e64b",
   "metadata": {},
   "source": [
    "Summary statistics are great but they don't give you the entire picture. For example x1 and x2 look identical according to the stats but are clearly different data sets. In short, summary statistics are great but you still need to visalize and know your data."
   ]
  },
  {
   "cell_type": "markdown",
   "id": "5d19d98a-3e69-41ba-ae86-c3a075bd830d",
   "metadata": {},
   "source": [
    "***Question 2***\n",
    "\n",
    "Answer the questions below about the dataset CountyData.csv from the U.S. Census Bureau, performing any data analysis you deem appropriate. The dataset consists of 3143 observations on 53\n",
    "variables, which are described in the file CountyData Info.pdf.\n",
    "\n",
    "(a) Provide a histogram of the per-county percentage of residents who speak a foreign language at\n",
    "home during 2006-2010.\n",
    "\n",
    "(b) What was the median per-county amount of federal spending in 2009?\n",
    "\n",
    "(c) Create a scatter plot of the percentage of residents below the poverty level (y-axis) versus the\n",
    "percentage of the population with a bachelors degree. Comment on what you see.\n",
    "\n",
    "(d) What fraction of counties have a population whose percentage under the age of 18 is above 30%?"
   ]
  },
  {
   "cell_type": "code",
   "execution_count": 288,
   "id": "c565e3dc-612f-4828-bcdb-2a81f36a8fec",
   "metadata": {},
   "outputs": [
    {
     "data": {
      "text/html": [
       "<div>\n",
       "<style scoped>\n",
       "    .dataframe tbody tr th:only-of-type {\n",
       "        vertical-align: middle;\n",
       "    }\n",
       "\n",
       "    .dataframe tbody tr th {\n",
       "        vertical-align: top;\n",
       "    }\n",
       "\n",
       "    .dataframe thead th {\n",
       "        text-align: right;\n",
       "    }\n",
       "</style>\n",
       "<table border=\"1\" class=\"dataframe\">\n",
       "  <thead>\n",
       "    <tr style=\"text-align: right;\">\n",
       "      <th></th>\n",
       "      <th>state</th>\n",
       "      <th>name</th>\n",
       "      <th>FIPS</th>\n",
       "      <th>pop2010</th>\n",
       "      <th>pop2000</th>\n",
       "      <th>age_under_5</th>\n",
       "      <th>age_under_18</th>\n",
       "      <th>age_over_65</th>\n",
       "      <th>female</th>\n",
       "      <th>white</th>\n",
       "      <th>...</th>\n",
       "      <th>women_owned_firms</th>\n",
       "      <th>manufacturer_shipments_2007</th>\n",
       "      <th>mercent_whole_sales_2007</th>\n",
       "      <th>sales</th>\n",
       "      <th>sales_per_capita</th>\n",
       "      <th>accommodation_food_service</th>\n",
       "      <th>building_permits</th>\n",
       "      <th>fed_spending</th>\n",
       "      <th>area</th>\n",
       "      <th>density</th>\n",
       "    </tr>\n",
       "  </thead>\n",
       "  <tbody>\n",
       "    <tr>\n",
       "      <th>0</th>\n",
       "      <td>Alabama</td>\n",
       "      <td>Autauga County</td>\n",
       "      <td>1001</td>\n",
       "      <td>54571</td>\n",
       "      <td>43671.0</td>\n",
       "      <td>6.6</td>\n",
       "      <td>26.8</td>\n",
       "      <td>12.0</td>\n",
       "      <td>51.3</td>\n",
       "      <td>78.5</td>\n",
       "      <td>...</td>\n",
       "      <td>31.7</td>\n",
       "      <td>NaN</td>\n",
       "      <td>NaN</td>\n",
       "      <td>598175.0</td>\n",
       "      <td>12003.0</td>\n",
       "      <td>88157.0</td>\n",
       "      <td>191</td>\n",
       "      <td>331142.0</td>\n",
       "      <td>594.44</td>\n",
       "      <td>91.8</td>\n",
       "    </tr>\n",
       "    <tr>\n",
       "      <th>1</th>\n",
       "      <td>Alabama</td>\n",
       "      <td>Baldwin County</td>\n",
       "      <td>1003</td>\n",
       "      <td>182265</td>\n",
       "      <td>140415.0</td>\n",
       "      <td>6.1</td>\n",
       "      <td>23.0</td>\n",
       "      <td>16.8</td>\n",
       "      <td>51.1</td>\n",
       "      <td>85.7</td>\n",
       "      <td>...</td>\n",
       "      <td>27.3</td>\n",
       "      <td>1410273.0</td>\n",
       "      <td>NaN</td>\n",
       "      <td>2966489.0</td>\n",
       "      <td>17166.0</td>\n",
       "      <td>436955.0</td>\n",
       "      <td>696</td>\n",
       "      <td>1119082.0</td>\n",
       "      <td>1589.78</td>\n",
       "      <td>114.6</td>\n",
       "    </tr>\n",
       "    <tr>\n",
       "      <th>2</th>\n",
       "      <td>Alabama</td>\n",
       "      <td>Barbour County</td>\n",
       "      <td>1005</td>\n",
       "      <td>27457</td>\n",
       "      <td>29038.0</td>\n",
       "      <td>6.2</td>\n",
       "      <td>21.9</td>\n",
       "      <td>14.2</td>\n",
       "      <td>46.9</td>\n",
       "      <td>48.0</td>\n",
       "      <td>...</td>\n",
       "      <td>27.0</td>\n",
       "      <td>NaN</td>\n",
       "      <td>NaN</td>\n",
       "      <td>188337.0</td>\n",
       "      <td>6334.0</td>\n",
       "      <td>NaN</td>\n",
       "      <td>10</td>\n",
       "      <td>240308.0</td>\n",
       "      <td>884.88</td>\n",
       "      <td>31.0</td>\n",
       "    </tr>\n",
       "    <tr>\n",
       "      <th>3</th>\n",
       "      <td>Alabama</td>\n",
       "      <td>Bibb County</td>\n",
       "      <td>1007</td>\n",
       "      <td>22915</td>\n",
       "      <td>20826.0</td>\n",
       "      <td>6.0</td>\n",
       "      <td>22.7</td>\n",
       "      <td>12.7</td>\n",
       "      <td>46.3</td>\n",
       "      <td>75.8</td>\n",
       "      <td>...</td>\n",
       "      <td>NaN</td>\n",
       "      <td>0.0</td>\n",
       "      <td>NaN</td>\n",
       "      <td>124707.0</td>\n",
       "      <td>5804.0</td>\n",
       "      <td>10757.0</td>\n",
       "      <td>8</td>\n",
       "      <td>163201.0</td>\n",
       "      <td>622.58</td>\n",
       "      <td>36.8</td>\n",
       "    </tr>\n",
       "    <tr>\n",
       "      <th>4</th>\n",
       "      <td>Alabama</td>\n",
       "      <td>Blount County</td>\n",
       "      <td>1009</td>\n",
       "      <td>57322</td>\n",
       "      <td>51024.0</td>\n",
       "      <td>6.3</td>\n",
       "      <td>24.6</td>\n",
       "      <td>14.7</td>\n",
       "      <td>50.5</td>\n",
       "      <td>92.6</td>\n",
       "      <td>...</td>\n",
       "      <td>23.2</td>\n",
       "      <td>341544.0</td>\n",
       "      <td>NaN</td>\n",
       "      <td>319700.0</td>\n",
       "      <td>5622.0</td>\n",
       "      <td>20941.0</td>\n",
       "      <td>18</td>\n",
       "      <td>294114.0</td>\n",
       "      <td>644.78</td>\n",
       "      <td>88.9</td>\n",
       "    </tr>\n",
       "  </tbody>\n",
       "</table>\n",
       "<p>5 rows × 53 columns</p>\n",
       "</div>"
      ],
      "text/plain": [
       "     state            name  FIPS  pop2010   pop2000  age_under_5  \\\n",
       "0  Alabama  Autauga County  1001    54571   43671.0          6.6   \n",
       "1  Alabama  Baldwin County  1003   182265  140415.0          6.1   \n",
       "2  Alabama  Barbour County  1005    27457   29038.0          6.2   \n",
       "3  Alabama     Bibb County  1007    22915   20826.0          6.0   \n",
       "4  Alabama   Blount County  1009    57322   51024.0          6.3   \n",
       "\n",
       "   age_under_18  age_over_65  female  white  ...  women_owned_firms  \\\n",
       "0          26.8         12.0    51.3   78.5  ...               31.7   \n",
       "1          23.0         16.8    51.1   85.7  ...               27.3   \n",
       "2          21.9         14.2    46.9   48.0  ...               27.0   \n",
       "3          22.7         12.7    46.3   75.8  ...                NaN   \n",
       "4          24.6         14.7    50.5   92.6  ...               23.2   \n",
       "\n",
       "   manufacturer_shipments_2007  mercent_whole_sales_2007      sales  \\\n",
       "0                          NaN                       NaN   598175.0   \n",
       "1                    1410273.0                       NaN  2966489.0   \n",
       "2                          NaN                       NaN   188337.0   \n",
       "3                          0.0                       NaN   124707.0   \n",
       "4                     341544.0                       NaN   319700.0   \n",
       "\n",
       "   sales_per_capita  accommodation_food_service  building_permits  \\\n",
       "0           12003.0                     88157.0               191   \n",
       "1           17166.0                    436955.0               696   \n",
       "2            6334.0                         NaN                10   \n",
       "3            5804.0                     10757.0                 8   \n",
       "4            5622.0                     20941.0                18   \n",
       "\n",
       "   fed_spending     area  density  \n",
       "0      331142.0   594.44     91.8  \n",
       "1     1119082.0  1589.78    114.6  \n",
       "2      240308.0   884.88     31.0  \n",
       "3      163201.0   622.58     36.8  \n",
       "4      294114.0   644.78     88.9  \n",
       "\n",
       "[5 rows x 53 columns]"
      ]
     },
     "execution_count": 288,
     "metadata": {},
     "output_type": "execute_result"
    }
   ],
   "source": [
    "county = pd.read_csv(\"CountyData.csv\")\n",
    "county.head()"
   ]
  },
  {
   "cell_type": "code",
   "execution_count": 289,
   "id": "fb56653b-16a7-4fc7-a5fd-b35786de80d1",
   "metadata": {},
   "outputs": [
    {
     "data": {
      "text/plain": [
       "(array([2322.,  457.,  159.,   87.,   56.,   31.,   11.,   10.,    6.,\n",
       "           4.]),\n",
       " array([ 0. ,  9.6, 19.2, 28.8, 38.4, 48. , 57.6, 67.2, 76.8, 86.4, 96. ]),\n",
       " <BarContainer object of 10 artists>)"
      ]
     },
     "execution_count": 289,
     "metadata": {},
     "output_type": "execute_result"
    },
    {
     "data": {
      "image/png": "[encoded data removed]",
      "text/plain": [
       "<Figure size 432x288 with 1 Axes>"
      ]
     },
     "metadata": {
      "needs_background": "light"
     },
     "output_type": "display_data"
    }
   ],
   "source": [
    "plt.hist(x = county[\"foreign_spoken_at_home\"])"
   ]
  },
  {
   "cell_type": "code",
   "execution_count": 290,
   "id": "8f5b14ca-3cbf-4763-866b-17703c67029e",
   "metadata": {},
   "outputs": [
    {
     "name": "stdout",
     "output_type": "stream",
     "text": [
      "The median per-county federal spending in 2009 is: 214994.0\n"
     ]
    }
   ],
   "source": [
    "#What was the median per-county amount of federal spending in 2009?\n",
    "\n",
    "print(f\"The median per-county federal spending in 2009 is: {county.fed_spending.median()}\")\n"
   ]
  },
  {
   "cell_type": "code",
   "execution_count": 291,
   "id": "f2243819-06cf-415f-aa39-9bc2e032a1a5",
   "metadata": {},
   "outputs": [
    {
     "data": {
      "image/png": "[encoded data removed]",
      "text/plain": [
       "<Figure size 432x288 with 1 Axes>"
      ]
     },
     "metadata": {
      "needs_background": "light"
     },
     "output_type": "display_data"
    },
    {
     "data": {
      "text/plain": [
       "'The percent of resident below the poverty line for any given county has an inverse realtionship with the percent of the popullation with a bachelors degree'"
      ]
     },
     "execution_count": 291,
     "metadata": {},
     "output_type": "execute_result"
    }
   ],
   "source": [
    "# Create a scatter plot of the percentage of residents below the poverty level (y-axis) versus the\n",
    "# percentage of the population with a bachelors degree. Comment on what you see.\n",
    "\n",
    "# plt.title(\"Poverty versus bachelors degree\")\n",
    "# plt.xlabel(\"Percent with Bachelors\")\n",
    "# plt.ylabel = (\"Percent under poverty line\")\n",
    "plt.scatter(x = county.bachelors , y=county.poverty )\n",
    "plt.show()\n",
    "\n",
    "'The percent of resident below the poverty line for any given county has an inverse realtionship with the percent of the popullation with a bachelors degree'"
   ]
  },
  {
   "cell_type": "code",
   "execution_count": 292,
   "id": "02b498bc-b6c1-4bf8-991e-ce4a07909f01",
   "metadata": {},
   "outputs": [
    {
     "name": "stdout",
     "output_type": "stream",
     "text": [
      "The percentange of counties with poppulation of under 18 year olds greater than 30% is 3.627108%.\n"
     ]
    }
   ],
   "source": [
    "#(d) What fraction of counties have a population whose percentage under the age of 18 is above 30%?\n",
    "over_18 =len(county.loc[county[\"age_under_18\"]>30])/len(county[\"age_under_18\"])\n",
    "\n",
    "print(f\"The percentange of counties with poppulation of under 18 year olds greater than 30% is {over_18*100:2f}%.\")"
   ]
  },
  {
   "cell_type": "markdown",
   "id": "665178e2-7685-4963-923c-12fddb04f04d",
   "metadata": {},
   "source": [
    "**Question 3** \n",
    "You are real estate investor Bernard S. Garrett Sr. and you own a subdivision of 24 houses that\n",
    "has a mean price of 500,000, a median of 440,000, and a standard deviation of 30,000. A new house\n",
    "is then built in the subdivision that has a price of 700,000.\n",
    "\n",
    "(a) What is the new mean house price?\n",
    "\n",
    "(b) What is the new standard deviation?\n",
    "\n",
    "(c) Does the median increase, decrease, or stay the same after the new house is built? Or can no\n",
    "conclusion be made? Explain.\n",
    "\n",
    "(d) Does the mid-range increase, decrease, or stay the same after the new house is built? Or can no\n",
    "conclusion be made? Explain.\n",
    "\n",
    "Why I am assigning this question: This question is assigned to reinforce your knowledge of the\n",
    "locations of data part we discussed in class."
   ]
  },
  {
   "cell_type": "code",
   "execution_count": 293,
   "id": "932830a1-3cca-495e-8fc9-84cc77ec0d6b",
   "metadata": {},
   "outputs": [
    {
     "name": "stdout",
     "output_type": "stream",
     "text": [
      " a) The new mean is:  529167.67\n",
      " b) The new standard devaition is: 45590.43.\n"
     ]
    }
   ],
   "source": [
    "n = 24 \n",
    "mean = 500000\n",
    "median = 440000\n",
    "std = 30000\n",
    "old_variance = std**2\n",
    "\n",
    "new_house = 700000\n",
    "sum_total = mean*n\n",
    "\n",
    "new_mean = (sum_total + new_house) / n+1\n",
    "\n",
    "print(f\" a) The new mean is: {new_mean: .2f}\")\n",
    "\n",
    "\n",
    "#old_variance= (sum((x_i-mean)^2)/n-1)\n",
    "old_sum_squared = old_variance * 23 \n",
    "\n",
    "new_sum_squared = old_sum_squared + (new_house - new_mean)**2\n",
    "new_std = (new_sum_squared/n)**.5\n",
    "print(f\" b) The new standard devaition is: {new_std:.2f}.\")\n"
   ]
  },
  {
   "cell_type": "markdown",
   "id": "3e74e4c5-ba75-482b-8753-cc1b614f1062",
   "metadata": {},
   "source": [
    "c)\n",
    "Before there were 24 properties, so the median was evaluated by taking the average of the middle two properties. So, properety number 12 and \n",
    "and property number 13 were averaged together. Since there is an even number of properties now only property number 13 will count as the median price. \n",
    "Due to the nature of calculating median values we must order the numbers in ascending order. By doing some quick logic we know that \n",
    "porperty_12 < property_13 and due to the nature of arithmatic (property_12 + property_13)/2 will always be less than property_13 if and only if \n",
    "porperty_12 does not equal property_13. In general it increases but this is not certain."
   ]
  },
  {
   "cell_type": "markdown",
   "id": "6400d8a7-53ca-4ad2-9959-33e75f9b4fae",
   "metadata": {},
   "source": [
    "d) \n",
    "mid_range = (max(value) + min(value))/ 2\n",
    "\n",
    "After looking at the equation for midrange, I believe that the exact nature or value of the midrange can not be determined with the information given. On one hand we know that the new house is much more expansive than the mean value of the houses and much greater than the median vlaue, but this information is not sufficent to derive the midrange nor its properyies pertaining to this set of data.\n",
    "\n"
   ]
  },
  {
   "cell_type": "markdown",
   "id": "176d5d78-e7d9-4f10-9620-079c786d6840",
   "metadata": {},
   "source": [
    "***Question 4***: The new sample mean and sample variance will be the following: \n",
    "\n",
    "The mean will increase proportionally with the constants. \n",
    "Original mean is defined as: $$ mean1  = (x_1) + (x_2) + (x_3)... + (x_n)/ n$$\n",
    "$$ mean2 = (x_1 + c) + (x_2 + c) + (x_3 + c)... + (x_n + c)/ n $$\n",
    "\n",
    "$$ (x_1) + (x_2) + (x_3)... + (x_n) + (n * c) / n $$\n",
    "\n",
    "$$mean1 * n = (x_1) + (x_2) + (x_3)... + (x_n) $$\n",
    "\n",
    "$$mean2 = (mean1 * n) + (n *c) / n $$\n",
    "\n",
    "$$ mean3 = k(x_1 + c) + k(x_2 + c) + k(x_3 +c)... + k(x_n+c)/ n$$\n",
    "\n",
    "$$ mean3 = k * mean2$$\n",
    "\n",
    "$$mean3 = k [ (mean1 * n) + (n *c)] / n $$\n",
    "\n",
    "$$mean3 = k (mean1 + c) $$\n",
    "\n",
    "So the new mean is: $$Z_{mean} = k*(X_{mean}+c)$$\n"
   ]
  },
  {
   "cell_type": "markdown",
   "id": "f5d4d667-b131-493d-93af-5802c2d4c677",
   "metadata": {},
   "source": [
    "The above forumulas show my reasoning for my answer that the new mean will simply be the old mean plus the constant c and then mulitplied by the constant k. "
   ]
  },
  {
   "cell_type": "markdown",
   "id": "3770f8a2-7deb-42b8-8812-e6a81f8807d0",
   "metadata": {},
   "source": [
    "The variance is defined as $$ \\Sigma(x_1 - x_{mean})^2/( n-1) $$\n",
    "\n",
    "So, $$Z_{i} = X_i - X_{mean}/ S_x$$ So, $$ Z_{mean} = \\Sigma_{i=1}^{k}(Z_i)/n$$ So, $$(1/n) * [(X_1 - X_{mean})/S_x + (X_2 - X_{mean})/S_x + (X_3 - X_{mean})/S_x...+(X_k - X_{mean})/S_x]$$ We can now factor out the S_x term. So, $$(1/(S_x * n)) * [(X_1 - X_{mean})/S_x + (X_2 - X_{mean})/S_x + (X_3 - X_{mean})/S_x...+(X_k - X_{mean})/S_x]$$\n",
    "\n",
    "The new mean $$Z_{mean} = ((n*X_{mean}-X_{mean})/ S_x *n)$$\n",
    "\n",
    "\"Note to grader, I am unsure if I am understanding this question correctly. I am trying to derive a formula for the the mean of the Z data in terms of X but the arithmatic is unruly and bit complex. Perhaps I am overlooking something or simply going about this wrong?\""
   ]
  },
  {
   "cell_type": "markdown",
   "id": "823db11d-5112-4371-acdc-eab1b55d0e7a",
   "metadata": {
    "tags": []
   },
   "source": [
    "***Question 5***\n",
    "\n",
    "You are a recent Cornell graduate and love candles. Unfortunately, all the jobs at Diptyque are taken.\n",
    "Luckily, you recall your conversation with Professor Pender in office hours and remember that he told\n",
    "you about Teri Johnson. Teri hires you as a delivery driver for the Harlem Candle Company. It turns\n",
    "out some luck has found you and all of your packages need to be delivered on one street call Claudette\n",
    "Colvin St. Each of the k houses’ coordinates are labeled x1, x2, . . . , xk (assume k is odd). Let p be\n",
    "the coordinate of the place that you decide to park your vehicle. Due to company policy, you must\n",
    "only deliver each package one by one to avoid confusion. Where do you decide to park your truck\n",
    "to minimize the cost of walking where the cost is given by the following functions. Please give some\n",
    "evidence of why your answer is correct. No partial credit.\n",
    "\n",
    "\n"
   ]
  },
  {
   "cell_type": "markdown",
   "id": "823829f6-d54c-4dcc-90e0-5066feb19dd2",
   "metadata": {},
   "source": [
    "In order to optamize the cost function for this particular case a few things must be noted first. Let us assume that  Colvin St. can be modeled as a straight road. This allows us to make our analysis in 1-dimension. Hence only requiring us to use the 1-dim distance formula.$$ distance = | (x_i - p) |$$ Now if we want the total distance covered by a delivery driver we must sum these distances i.e $$ \\Sigma_{i =1}^{k}| (x_i - p) |$$. \n",
    "\n",
    "(a) If the cost function is given by this formula then the ideal place to park would be in the middle of the kth house and the first house. Because there is an odd number of houses the parking location can be derived by this formula: $$(x_{k-1}/2) +1$$. \n",
    "\n",
    "(b) If the cost fucntion were given by this equation then the ideal parking location would be: at the begining of the street where p =0. Here the equation $$ \\Sigma_{i =1}^{k}| (x_i - p)^2 |$$ Here the equation is optamized where p =0. \n",
    "\n",
    "(c) If I am understanding equation correctly then this is simply taking the absoule vlaue of $$|x_i - p|$$ the max value of x will naturally be the house at the end of Colvin St. or $$X_k$$ Then we need to take the minimum of the value of  $$|x_i - p|$$ Here the minimum would be the largest value of p, so the delivery driver would have to park at the last house on Colvin St. "
   ]
  },
  {
   "cell_type": "markdown",
   "id": "02585b15-5b29-45ec-a2a7-a61d789f943e",
   "metadata": {},
   "source": [
    "***Question 6***\n",
    "\n",
    "\n",
    "Use the following information to answer the following questions. The midterm grades on an ORIE\n",
    "4130 exam, graded on a scale of 0 to 100, were: 62, 64, 65, 65, 68, 70, 72, 72, 74, 75, 75, 75, 76,78, 78,\n",
    "81, 83, 83, 84, 85, 87, 88, 92, 95, 98, 98, 100, 100, 740\n",
    "\n",
    "(a) Do you see any outliers in this data? If so, how would you address the situation?\n",
    "\n",
    "(b) Construct a stem and leaf plot for this data, using only the values in the range 0–100.\n",
    "\n",
    "(c) Describe the distribution of exam scores."
   ]
  },
  {
   "cell_type": "markdown",
   "id": "dd637c9f-9188-4ee6-a2b0-39b52b2e389f",
   "metadata": {},
   "source": [
    "a) I see one huge outlier in the data, honestly if i had scored a 740 on my ORIE 4310 midterm I'd be happy but in this case it should be dropped. "
   ]
  },
  {
   "cell_type": "code",
   "execution_count": 294,
   "id": "9c7319fd-0dc4-4c92-8d24-3b949086cc7a",
   "metadata": {},
   "outputs": [
    {
     "name": "stdout",
     "output_type": "stream",
     "text": [
      "[62, 64, 65, 65, 68, 70, 72, 72, 74, 75, 75, 75, 76, 78, 78, 81, 83, 83, 84, 85, 87, 88, 92, 95, 98, 98, 100, 100]\n"
     ]
    },
    {
     "data": {
      "text/plain": [
       "<StemContainer object of 3 artists>"
      ]
     },
     "execution_count": 294,
     "metadata": {},
     "output_type": "execute_result"
    },
    {
     "data": {
      "image/png": "[encoded data removed]",
      "text/plain": [
       "<Figure size 432x288 with 1 Axes>"
      ]
     },
     "metadata": {
      "needs_background": "light"
     },
     "output_type": "display_data"
    }
   ],
   "source": [
    "midterm_grades = [62, 64, 65, 65, 68, 70, 72, 72, 74, 75, 75, 75, 76,78, 78, 81, 83, 83, 84, 85, 87, 88, 92, 95, 98, 98, 100, 100, 740]\n",
    "for grade in midterm_grades:\n",
    "    if grade > 100:\n",
    "        midterm_grades.remove(grade)\n",
    "print(midterm_grades)\n",
    "\n",
    "stems = [x for x in range(28)]\n",
    "  \n",
    "plt.stem(stems, midterm_grades)   # required plot"
   ]
  },
  {
   "cell_type": "code",
   "execution_count": 295,
   "id": "72afff99-88c9-4ee1-be62-d0b563b24541",
   "metadata": {},
   "outputs": [
    {
     "data": {
      "text/plain": [
       "{'whiskers': [<matplotlib.lines.Line2D at 0x1fbb30c3550>,\n",
       "  <matplotlib.lines.Line2D at 0x1fbb30c3af0>],\n",
       " 'caps': [<matplotlib.lines.Line2D at 0x1fbb30c34c0>,\n",
       "  <matplotlib.lines.Line2D at 0x1fbb3098220>],\n",
       " 'boxes': [<matplotlib.lines.Line2D at 0x1fbb30c3a90>],\n",
       " 'medians': [<matplotlib.lines.Line2D at 0x1fbb30983d0>],\n",
       " 'fliers': [<matplotlib.lines.Line2D at 0x1fbb3098ac0>],\n",
       " 'means': []}"
      ]
     },
     "execution_count": 295,
     "metadata": {},
     "output_type": "execute_result"
    },
    {
     "data": {
      "image/png": "[encoded data removed]",
      "text/plain": [
       "<Figure size 432x288 with 1 Axes>"
      ]
     },
     "metadata": {
      "needs_background": "light"
     },
     "output_type": "display_data"
    }
   ],
   "source": [
    "# (B)\n",
    "\n",
    "plt.boxplot(midterm_grades)"
   ]
  },
  {
   "cell_type": "markdown",
   "id": "f56ab82b-8249-402f-b5d0-aa0e0b9c7eff",
   "metadata": {},
   "source": [
    "The average exam score is somewhere between 75 and 80. The firat quartile is at around 72 and the third quartile is arounf 87. While the outliers are 100 and about 63. "
   ]
  },
  {
   "cell_type": "markdown",
   "id": "403fcda8-0dc2-49a0-a18d-4857819a552a",
   "metadata": {},
   "source": [
    "***Question 7***\n",
    "In a statistics class of 30 students at MIT, the mean score on the midterm was 72. In another class of\n",
    "40 students at Cornell, the mean score was 79. What is the mean score for the two classes combined?"
   ]
  },
  {
   "cell_type": "code",
   "execution_count": 296,
   "id": "a7c21dad-06e8-4c9a-b28a-97822fffbdbb",
   "metadata": {},
   "outputs": [
    {
     "name": "stdout",
     "output_type": "stream",
     "text": [
      "The mean for both classes is 76.0\n"
     ]
    }
   ],
   "source": [
    "mit_mean = 72 \n",
    "mit_class = 30\n",
    "mit_sum = mit_mean * mit_class\n",
    "\n",
    "cor_mean = 79\n",
    "cor_class = 40\n",
    "cor_sum = cor_mean * cor_class\n",
    "\n",
    "\n",
    "mix_mean = (mit_sum + cor_sum)/ (mit_class +  cor_class)\n",
    "\n",
    "print(f\"The mean for both classes is {mix_mean}\")"
   ]
  },
  {
   "cell_type": "markdown",
   "id": "6c6cfbc8-a620-401b-9cf0-e1058baeac14",
   "metadata": {},
   "source": [
    "***Question 8***\n",
    "Gladys West owns 23 types of crypto coins. The number of coins of each crypto-currency are as\n",
    "follows: (2099, 528, 2030, 1350, 1018, 384, 1499, 1265, 375, 424, 789, 810, 522, 513, 488, 200, 215, 486,\n",
    "257, 557, 260, 461, 500).\n",
    "\n",
    "(a) Find the mean.\n",
    "\n",
    "(b) Find the standard deviation.\n",
    "\n",
    "(c) Find the median.\n",
    "\n",
    "(d) Find the mid-range and range.\n",
    "\n",
    "(e) Construct a dot-plot.\n",
    "\n",
    "(f) Construct a box-plot.\n",
    "\n",
    "(g) Which points if any are outliers?\n",
    "\n",
    "(h) If a histogram were made of this data, would it be symmetric, left skewed, or right skewed?\n",
    "\n",
    "(i) Who is Gladys West and why should you know her?"
   ]
  },
  {
   "cell_type": "code",
   "execution_count": 297,
   "id": "c8002db4-0497-46ec-9370-d218fc4e338c",
   "metadata": {},
   "outputs": [
    {
     "name": "stdout",
     "output_type": "stream",
     "text": [
      "The mean value of his crypot is 740.43\n",
      "The standard deviation is 549.84\n",
      "The median is 513.00\n",
      "The mid-range is 949.50\n",
      "The range is 1899.00\n"
     ]
    }
   ],
   "source": [
    "coins = [2099, 528, 2030, 1350, 1018, 384, 1499, 1265, 375, 424, 789, 810, 522, 513,\\\n",
    "         488, 200, 215, 486, 257, 557, 260, 461, 500]\n",
    "print(f\"The mean value of his crypot is {sum(coins)/len(coins):.2f}\")\n",
    "print(f\"The standard deviation is {stats.stdev(coins):.2f}\")\n",
    "print(f\"The median is {stats.median(coins):.2f}\")\n",
    "print(f\"The mid-range is {(max(coins)-min(coins))/2:.2f}\")\n",
    "print(f\"The range is {(max(coins)-min(coins)):.2f}\")"
   ]
  },
  {
   "cell_type": "code",
   "execution_count": 298,
   "id": "3bd6523e-258f-41aa-a900-08900b1c8e1c",
   "metadata": {},
   "outputs": [
    {
     "data": {
      "image/png": "[encoded data removed]",
      "text/plain": [
       "<Figure size 432x288 with 1 Axes>"
      ]
     },
     "metadata": {
      "needs_background": "light"
     },
     "output_type": "display_data"
    }
   ],
   "source": [
    "plt.scatter(x = coins, y = [2099, 528, 2030, 1350, 1018, 384, 1499, 1265, 375, 424, 789, 810, 522, 513,\\\n",
    "         488, 200, 215, 486, 257, 557, 260, 461, 500])\n",
    "plt.show()"
   ]
  },
  {
   "cell_type": "code",
   "execution_count": 299,
   "id": "4f07c128-12a2-4ff7-b4d0-5ba9a88184b0",
   "metadata": {},
   "outputs": [
    {
     "data": {
      "text/plain": [
       "{'whiskers': [<matplotlib.lines.Line2D at 0x1fbb2ed7100>,\n",
       "  <matplotlib.lines.Line2D at 0x1fbb2ed73a0>],\n",
       " 'caps': [<matplotlib.lines.Line2D at 0x1fbb2ed7a90>,\n",
       "  <matplotlib.lines.Line2D at 0x1fbb2ed7760>],\n",
       " 'boxes': [<matplotlib.lines.Line2D at 0x1fbb2ed7f40>],\n",
       " 'medians': [<matplotlib.lines.Line2D at 0x1fbad7aeeb0>],\n",
       " 'fliers': [<matplotlib.lines.Line2D at 0x1fbb2ec27c0>],\n",
       " 'means': []}"
      ]
     },
     "execution_count": 299,
     "metadata": {},
     "output_type": "execute_result"
    },
    {
     "data": {
      "image/png": "[encoded data removed]",
      "text/plain": [
       "<Figure size 432x288 with 1 Axes>"
      ]
     },
     "metadata": {
      "needs_background": "light"
     },
     "output_type": "display_data"
    }
   ],
   "source": [
    "plt.boxplot(coins)"
   ]
  },
  {
   "cell_type": "code",
   "execution_count": 300,
   "id": "34d73ae7-d29a-4fb9-86fd-66262d1c451e",
   "metadata": {},
   "outputs": [
    {
     "data": {
      "text/plain": [
       "(array([6., 9., 0., 2., 1., 1., 2., 0., 0., 2.]),\n",
       " array([ 200. ,  389.9,  579.8,  769.7,  959.6, 1149.5, 1339.4, 1529.3,\n",
       "        1719.2, 1909.1, 2099. ]),\n",
       " <BarContainer object of 10 artists>)"
      ]
     },
     "execution_count": 300,
     "metadata": {},
     "output_type": "execute_result"
    },
    {
     "data": {
      "image/png": "[encoded data removed]",
      "text/plain": [
       "<Figure size 432x288 with 1 Axes>"
      ]
     },
     "metadata": {
      "needs_background": "light"
     },
     "output_type": "display_data"
    }
   ],
   "source": [
    "plt.hist(x = coins)"
   ]
  },
  {
   "cell_type": "markdown",
   "id": "c1cfdfeb-fc0a-42f8-a0cf-c5d3da7628df",
   "metadata": {},
   "source": [
    "g) Although in this data set the outliers are much less egregious, points 2099 and 1499 are much higher than the other data points.\n",
    "\n",
    "h) After creating a quick histogram of the provided data, one can make an arguement that the data is left skewed. At a glance this can be explained by the number of crypto currenices which are on the lower end of the price list. \n",
    "\n",
    "i) Gladys West a mathematician and scholar. Her contribution to her field helped contribute to the invention of the GPS."
   ]
  },
  {
   "cell_type": "markdown",
   "id": "54436bae-963a-468c-a172-01b4d963629a",
   "metadata": {},
   "source": [
    "***Question 9*** Who is John Wilder Tukey? Why did he choose 1.5 for the interquartile range for outliers? What\n",
    "other important contributions did he make?"
   ]
  },
  {
   "cell_type": "markdown",
   "id": "76bfc261-d432-4f12-9341-890e2b06c981",
   "metadata": {},
   "source": [
    "John Tukey was the inventor of the boxplot. He was a working statitician and created the box plot in order to help with data analysis. He chose 1.5 for the interquartile range for outliers through trail and error. He believed that 1 interquartile range was too small becasue it only encompassed 1 standard devaition of data while 2 was too large since it encompassed 2 standard devaitions. He is also responsible for the creation of the Fast Fourier Transform algorithm (which I recall using in a physics class on waves)."
   ]
  }
 ],
 "metadata": {
  "kernelspec": {
   "display_name": "Python 3 (ipykernel)",
   "language": "python",
   "name": "python3"
  },
  "language_info": {
   "codemirror_mode": {
    "name": "ipython",
    "version": 3
   },
   "file_extension": ".py",
   "mimetype": "text/x-python",
   "name": "python",
   "nbconvert_exporter": "python",
   "pygments_lexer": "ipython3",
   "version": "3.8.12"
  }
 },
 "nbformat": 4,
 "nbformat_minor": 5
}
