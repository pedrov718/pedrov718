{
 "cells": [
  {
   "cell_type": "markdown",
   "metadata": {
    "id": "InvAbrtESOZ9"
   },
   "source": [
    "# INFO 2950 Discussion Section and Homework 2"
   ]
  },
  {
   "cell_type": "markdown",
   "metadata": {
    "id": "LwTtHiAHSOZ-"
   },
   "source": [
    "# In Section"
   ]
  },
  {
   "cell_type": "markdown",
   "metadata": {
    "id": "21Wj0J0LSOZ_"
   },
   "source": [
    "## Part 1: Getting Data\n",
    "For your project you will need to collect data. There are many useful datasets freely available; do not try to reinvent the wheel!\n",
    "\n",
    "First and foremost: Cornell Library's [list of databases](https://newcatalog.library.cornell.edu/databases) has a collection of data on likely any subject you are interested. It also has subscriptions available for students to access otherwise unavailable material. There is also [a list of dataset ideas](https://docs.google.com/document/d/1UbrWP8y4R9QgrytLdQz7KRc8bmNGh4csYNdiNnK9nfs/edit#heading=h.rj95q2rlptpz) in the INFO 2950 Student Handbook.\n",
    "\n",
    "You should make an attempt to find pre-collected data relevant to your interests. If this fails, many companies provide open-access to their data via [API](https://www.howtogeek.com/343877/what-is-an-api/)s.\n",
    "\n",
    "If that fails then we can turn to web-scraping. Keep in mind, many companies attempt to prevent web-scraping. If you encounter this issue, it will likely be difficult to succeed and you should consider looking for a different data source, and/or reframing your research question(s)."
   ]
  },
  {
   "cell_type": "markdown",
   "metadata": {
    "id": "2TDfvMq0SOaA",
    "narrative": true
   },
   "source": [
    "The following cell installs two Python packages useful for web scraping. (If you already have them installed, the code will produce a message that \"Requirement already satisfied\".) **If either package is actually installed by the first code cell below, you may need to close Jupyter and restart it in order to actually load the libraries in the second code cell below.**"
   ]
  },
  {
   "cell_type": "code",
   "execution_count": 1,
   "metadata": {
    "id": "P0FyKO4-SOaA"
   },
   "outputs": [
    {
     "name": "stderr",
     "output_type": "stream",
     "text": [
      "Traceback (most recent call last):\n",
      "  File \"C:\\Users\\pedro\\anaconda3\\lib\\site-packages\\conda\\exceptions.py\", line 1079, in __call__\n",
      "    return func(*args, **kwargs)\n",
      "  File \"C:\\Users\\pedro\\anaconda3\\lib\\site-packages\\conda\\cli\\main.py\", line 84, in _main\n",
      "    exit_code = do_call(args, p)\n",
      "  File \"C:\\Users\\pedro\\anaconda3\\lib\\site-packages\\conda\\cli\\conda_argparse.py\", line 81, in do_call\n",
      "    module = import_module(relative_mod, __name__.rsplit('.', 1)[0])\n",
      "  File \"C:\\Users\\pedro\\anaconda3\\lib\\importlib\\__init__.py\", line 127, in import_module\n",
      "    return _bootstrap._gcd_import(name[level:], package, level)\n",
      "  File \"<frozen importlib._bootstrap>\", line 1014, in _gcd_import\n",
      "  File \"<frozen importlib._bootstrap>\", line 991, in _find_and_load\n",
      "  File \"<frozen importlib._bootstrap>\", line 975, in _find_and_load_unlocked\n",
      "  File \"<frozen importlib._bootstrap>\", line 671, in _load_unlocked\n",
      "  File \"<frozen importlib._bootstrap_external>\", line 783, in exec_module\n",
      "  File \"<frozen importlib._bootstrap>\", line 219, in _call_with_frames_removed\n",
      "  File \"C:\\Users\\pedro\\anaconda3\\lib\\site-packages\\conda\\cli\\main_install.py\", line 8, in <module>\n",
      "    from .install import install\n",
      "  File \"C:\\Users\\pedro\\anaconda3\\lib\\site-packages\\conda\\cli\\install.py\", line 19, in <module>\n",
      "    from ..core.index import calculate_channel_urls, get_index\n",
      "  File \"C:\\Users\\pedro\\anaconda3\\lib\\site-packages\\conda\\core\\index.py\", line 15, in <module>\n",
      "    from .subdir_data import SubdirData, make_feature_record\n",
      "  File \"C:\\Users\\pedro\\anaconda3\\lib\\site-packages\\conda\\core\\subdir_data.py\", line 54, in <module>\n",
      "    from conda_content_trust.common import (\n",
      "ValueError: source code string cannot contain null bytes\n",
      "\n",
      "During handling of the above exception, another exception occurred:\n",
      "\n",
      "Traceback (most recent call last):\n",
      "  File \"C:\\Users\\pedro\\anaconda3\\Scripts\\conda-script.py\", line 12, in <module>\n",
      "    sys.exit(main())\n",
      "  File \"C:\\Users\\pedro\\anaconda3\\lib\\site-packages\\conda\\cli\\main.py\", line 152, in main\n",
      "    return conda_exception_handler(_main, *args, **kwargs)\n",
      "  File \"C:\\Users\\pedro\\anaconda3\\lib\\site-packages\\conda\\exceptions.py\", line 1371, in conda_exception_handler\n",
      "    return_value = exception_handler(func, *args, **kwargs)\n",
      "  File \"C:\\Users\\pedro\\anaconda3\\lib\\site-packages\\conda\\exceptions.py\", line 1082, in __call__\n",
      "    return self.handle_exception(exc_val, exc_tb)\n",
      "  File \"C:\\Users\\pedro\\anaconda3\\lib\\site-packages\\conda\\exceptions.py\", line 1126, in handle_exception\n",
      "    return self.handle_unexpected_exception(exc_val, exc_tb)\n",
      "  File \"C:\\Users\\pedro\\anaconda3\\lib\\site-packages\\conda\\exceptions.py\", line 1137, in handle_unexpected_exception\n",
      "    self.print_unexpected_error_report(error_report)\n",
      "  File \"C:\\Users\\pedro\\anaconda3\\lib\\site-packages\\conda\\exceptions.py\", line 1207, in print_unexpected_error_report\n",
      "    from .cli.main_info import get_env_vars_str, get_main_info_str\n",
      "  File \"C:\\Users\\pedro\\anaconda3\\lib\\site-packages\\conda\\cli\\main_info.py\", line 19, in <module>\n",
      "    from ..core.index import _supplement_index_with_system\n",
      "  File \"C:\\Users\\pedro\\anaconda3\\lib\\site-packages\\conda\\core\\index.py\", line 15, in <module>\n",
      "    from .subdir_data import SubdirData, make_feature_record\n",
      "  File \"C:\\Users\\pedro\\anaconda3\\lib\\site-packages\\conda\\core\\subdir_data.py\", line 54, in <module>\n",
      "    from conda_content_trust.common import (\n",
      "ValueError: source code string cannot contain null bytes\n",
      "Traceback (most recent call last):\n",
      "  File \"C:\\Users\\pedro\\anaconda3\\lib\\site-packages\\conda\\exceptions.py\", line 1079, in __call__\n",
      "    return func(*args, **kwargs)\n",
      "  File \"C:\\Users\\pedro\\anaconda3\\lib\\site-packages\\conda\\cli\\main.py\", line 84, in _main\n",
      "    exit_code = do_call(args, p)\n",
      "  File \"C:\\Users\\pedro\\anaconda3\\lib\\site-packages\\conda\\cli\\conda_argparse.py\", line 81, in do_call\n",
      "    module = import_module(relative_mod, __name__.rsplit('.', 1)[0])\n",
      "  File \"C:\\Users\\pedro\\anaconda3\\lib\\importlib\\__init__.py\", line 127, in import_module\n",
      "    return _bootstrap._gcd_import(name[level:], package, level)\n",
      "  File \"<frozen importlib._bootstrap>\", line 1014, in _gcd_import\n",
      "  File \"<frozen importlib._bootstrap>\", line 991, in _find_and_load\n",
      "  File \"<frozen importlib._bootstrap>\", line 975, in _find_and_load_unlocked\n",
      "  File \"<frozen importlib._bootstrap>\", line 671, in _load_unlocked\n",
      "  File \"<frozen importlib._bootstrap_external>\", line 783, in exec_module\n",
      "  File \"<frozen importlib._bootstrap>\", line 219, in _call_with_frames_removed\n",
      "  File \"C:\\Users\\pedro\\anaconda3\\lib\\site-packages\\conda\\cli\\main_install.py\", line 8, in <module>\n",
      "    from .install import install\n",
      "  File \"C:\\Users\\pedro\\anaconda3\\lib\\site-packages\\conda\\cli\\install.py\", line 19, in <module>\n",
      "    from ..core.index import calculate_channel_urls, get_index\n",
      "  File \"C:\\Users\\pedro\\anaconda3\\lib\\site-packages\\conda\\core\\index.py\", line 15, in <module>\n",
      "    from .subdir_data import SubdirData, make_feature_record\n",
      "  File \"C:\\Users\\pedro\\anaconda3\\lib\\site-packages\\conda\\core\\subdir_data.py\", line 54, in <module>\n",
      "    from conda_content_trust.common import (\n",
      "ValueError: source code string cannot contain null bytes\n",
      "\n",
      "During handling of the above exception, another exception occurred:\n",
      "\n",
      "Traceback (most recent call last):\n",
      "  File \"C:\\Users\\pedro\\anaconda3\\Scripts\\conda-script.py\", line 12, in <module>\n",
      "    sys.exit(main())\n",
      "  File \"C:\\Users\\pedro\\anaconda3\\lib\\site-packages\\conda\\cli\\main.py\", line 152, in main\n",
      "    return conda_exception_handler(_main, *args, **kwargs)\n",
      "  File \"C:\\Users\\pedro\\anaconda3\\lib\\site-packages\\conda\\exceptions.py\", line 1371, in conda_exception_handler\n",
      "    return_value = exception_handler(func, *args, **kwargs)\n",
      "  File \"C:\\Users\\pedro\\anaconda3\\lib\\site-packages\\conda\\exceptions.py\", line 1082, in __call__\n",
      "    return self.handle_exception(exc_val, exc_tb)\n",
      "  File \"C:\\Users\\pedro\\anaconda3\\lib\\site-packages\\conda\\exceptions.py\", line 1126, in handle_exception\n",
      "    return self.handle_unexpected_exception(exc_val, exc_tb)\n",
      "  File \"C:\\Users\\pedro\\anaconda3\\lib\\site-packages\\conda\\exceptions.py\", line 1137, in handle_unexpected_exception\n",
      "    self.print_unexpected_error_report(error_report)\n",
      "  File \"C:\\Users\\pedro\\anaconda3\\lib\\site-packages\\conda\\exceptions.py\", line 1207, in print_unexpected_error_report\n",
      "    from .cli.main_info import get_env_vars_str, get_main_info_str\n",
      "  File \"C:\\Users\\pedro\\anaconda3\\lib\\site-packages\\conda\\cli\\main_info.py\", line 19, in <module>\n",
      "    from ..core.index import _supplement_index_with_system\n",
      "  File \"C:\\Users\\pedro\\anaconda3\\lib\\site-packages\\conda\\core\\index.py\", line 15, in <module>\n",
      "    from .subdir_data import SubdirData, make_feature_record\n",
      "  File \"C:\\Users\\pedro\\anaconda3\\lib\\site-packages\\conda\\core\\subdir_data.py\", line 54, in <module>\n",
      "    from conda_content_trust.common import (\n",
      "ValueError: source code string cannot contain null bytes\n"
     ]
    }
   ],
   "source": [
    "# install requests and beautiful soup \n",
    "import sys\n",
    "!conda install --yes --prefix {sys.prefix} requests\n",
    "!conda install --yes --prefix {sys.prefix} bs4"
   ]
  },
  {
   "cell_type": "markdown",
   "metadata": {
    "id": "gsXddxM0SOaE"
   },
   "source": [
    "Now let's load all of the packages we will need for this assignment:"
   ]
  },
  {
   "cell_type": "code",
   "execution_count": 2,
   "metadata": {
    "id": "m--6G0zoSOaE"
   },
   "outputs": [],
   "source": [
    "import requests #package for http requests\n",
    "import bs4 # package for html parsing\n",
    "import numpy as np\n",
    "import matplotlib.pyplot as plt\n",
    "import pandas as pd"
   ]
  },
  {
   "cell_type": "markdown",
   "metadata": {
    "id": "EukGEfyNSOaG"
   },
   "source": [
    "Let's illustrate an example of web-scraping by downloading the [Wikipedia article for Web Scraping](https://en.wikipedia.org/wiki/Web_scraping) using the Python [requests](https://requests.readthedocs.io/en/master/) package."
   ]
  },
  {
   "cell_type": "code",
   "execution_count": 3,
   "metadata": {
    "colab": {
     "base_uri": "https://localhost:8080/"
    },
    "executionInfo": {
     "elapsed": 1606,
     "status": "ok",
     "timestamp": 1615138655808,
     "user": {
      "displayName": "Chloe Kanders",
      "photoUrl": "",
      "userId": "07431873523441922402"
     },
     "user_tz": 300
    },
    "id": "iHK8sZ2HSOaH",
    "outputId": "aa266c2d-8e44-46f9-e09f-597d3424db4d"
   },
   "outputs": [
    {
     "data": {
      "text/plain": [
       "<Response [200]>"
      ]
     },
     "execution_count": 3,
     "metadata": {},
     "output_type": "execute_result"
    }
   ],
   "source": [
    "wikipedia_web_scraping = 'https://en.wikipedia.org/wiki/Web_scraping'\n",
    "requests.get(wikipedia_web_scraping)"
   ]
  },
  {
   "cell_type": "markdown",
   "metadata": {
    "id": "nHXXs6QTSOaJ"
   },
   "source": [
    "A response of `<Response [200]>` indicates that we have received what we have asked for. If there is another number (such as `404`), then there was likely an error. A list of http response codes can be found [here](https://en.wikipedia.org/wiki/List_of_HTTP_status_codes). "
   ]
  },
  {
   "cell_type": "markdown",
   "metadata": {
    "id": "5bR3aQzuSOaK"
   },
   "source": [
    "The response Python object contains all the data the server would normally send a browser, including the contents of the website. Here we are interested in the data containted within the text attribute:"
   ]
  },
  {
   "cell_type": "code",
   "execution_count": 4,
   "metadata": {
    "colab": {
     "base_uri": "https://localhost:8080/",
     "height": 256
    },
    "executionInfo": {
     "elapsed": 2031,
     "status": "ok",
     "timestamp": 1615138656248,
     "user": {
      "displayName": "Chloe Kanders",
      "photoUrl": "",
      "userId": "07431873523441922402"
     },
     "user_tz": 300
    },
    "id": "ZPZ6y6nJSOaK",
    "outputId": "430a5f22-68ce-4cbe-d656-60f4587567a7"
   },
   "outputs": [
    {
     "data": {
      "text/plain": [
       "'<!DOCTYPE html>\\n<html class=\"client-nojs\" lang=\"en\" dir=\"ltr\">\\n<head>\\n<meta charset=\"UTF-8\"/>\\n<title>Web scraping - Wikipedia</title>\\n<script>document.documentElement.className=\"client-js\";RLCONF={\"wgBreakFrames\":!1,\"wgSeparatorTransformTable\":[\"\",\"\"],\"wgDigitTransformTable\":[\"\",\"\"],\"wgDefaultDateFormat\":\"dmy\",\"wgMonthNames\":[\"\",\"January\",\"February\",\"March\",\"April\",\"May\",\"June\",\"July\",\"August\",\"September\",\"October\",\"November\",\"December\"],\"wgRequestId\":\"100fde85-7cc0-4829-83d3-13926aabe10a\",\"wgCSPNonce\":!1,\"wgCanonicalNamespace\":\"\",\"wgCanonicalSpecialPageName\":!1,\"wgNamespaceNumber\":0,\"wgPageName\":\"Web_scraping\",\"wgTitle\":\"Web scraping\",\"wgCurRevisionId\":1038247165,\"wgRevisionId\":1038247165,\"wgArticleId\":2696619,\"wgIsArticle\":!0,\"wgIsRedirect\":!1,\"wgAction\":\"view\",\"wgUserName\":null,\"wgUserGroups\":[\"*\"],\"wgCategories\":[\"CS1 Danish-language sources (da)\",\"CS1 French-language sources (fr)\",\"Articles with short description\",\"Short description matches Wikidata\",\"Articles needing additional references from June 2017\",\"All articles needing additional references\",\\n\"Articles needing additional references from October 2018\",\"Articles with limited geographic scope from October 2015\",\"United States-centric\",\"Web scraping\"],\"wgPageContentLanguage\":\"en\",\"wgPageContentModel\":\"wikitext\",\"wgRelevantPageName\":\"Web_scraping\",\"wgRelevantArticleId\":2696619,\"wgIsProbablyEditable\":!0,\"wgRelevantPageIsProbablyEditable\":!0,\"wgRestrictionEdit\":[],\"wgRestrictionMove\":[],\"wgFlaggedRevsParams\":{\"tags\":{\"status\":{\"levels\":-1}}},\"wgMediaViewerOnClick\":!0,\"wgMediaViewerEnabledByDefault\":!0,\"wgPopupsFlags\":10,\"wgVisualEditor\":{\"pageLanguageCode\":\"en\",\"pageLanguageDir\":\"ltr\",\"pageVariantFallbacks\":\"en\"},\"wgMFDisplayWikibaseDescriptions\":{\"search\":!0,\"nearby\":!0,\"watchlist\":!0,\"tagline\":!1},\"wgWMESchemaEditAttemptStepOversample\":!1,\"wgULSCurrentAutonym\":\"English\",\"wgNoticeProject\":\"wikipedia\",\"wgEditSubmitButtonLabelPublish\":!0,\"wgULSPosition\":\"interlanguage\",\"wgULSisCompactLinksEnabled\":!0,\"wgGENewco'"
      ]
     },
     "execution_count": 4,
     "metadata": {},
     "output_type": "execute_result"
    }
   ],
   "source": [
    "wikiResponse = requests.get(wikipedia_web_scraping)\n",
    "wikiResponse.text[:2000]"
   ]
  },
  {
   "cell_type": "markdown",
   "metadata": {
    "id": "utTXj5-fSOaN"
   },
   "source": [
    "This data is not exactly what we were looking for. It includes raw HTML, which is meant to be read by computers; we want to parse out human-readible text. For this, we use the Python package [Beautiful Soup](https://www.crummy.com/software/BeautifulSoup/)."
   ]
  },
  {
   "cell_type": "code",
   "execution_count": 5,
   "metadata": {
    "colab": {
     "base_uri": "https://localhost:8080/"
    },
    "executionInfo": {
     "elapsed": 2018,
     "status": "ok",
     "timestamp": 1615138656249,
     "user": {
      "displayName": "Chloe Kanders",
      "photoUrl": "",
      "userId": "07431873523441922402"
     },
     "user_tz": 300
    },
    "id": "XMs5F9ikSOaN",
    "outputId": "2d7f26bb-1522-4f83-c1c0-6f72dfb1cf10",
    "scrolled": false
   },
   "outputs": [
    {
     "name": "stdout",
     "output_type": "stream",
     "text": [
      "\n",
      "\n",
      "\n",
      "\n",
      "Web scraping - Wikipedia\n",
      "\n",
      "\n",
      "\n",
      "\n",
      "\n",
      "\n",
      "\n",
      "\n",
      "\n",
      "\n",
      "\n",
      "\n",
      "\n",
      "\n",
      "\n",
      "\n",
      "\n",
      "\n",
      "\n",
      "\n",
      "\n",
      "\n",
      "\n",
      "\n",
      "\n",
      "\n",
      "\n",
      "\n",
      "\n",
      "\n",
      "\n",
      "\n",
      "\n",
      "Web scraping\n",
      "\n",
      "From Wikipedia, the free encyclopedia\n",
      "\n",
      "\n",
      "\n",
      "Jump to navigation\n",
      "Jump to search\n",
      "Data scraping used for extracting data from websites\n",
      "This article needs additional citations for verification. Please help improve this article by adding citations to reliable sources. Unsourced material may be challenged and removed.Find sources: \"Web scraping\" – news · newspapers · books · scholar · JSTOR (June 2017) (Learn how and when to remove this template message)\n",
      "For broader coverage of this topic, see Data scraping.\n",
      "Web scraping, web harvesting, or web data extraction is data scraping used for extracting data from websites. The web scraping software may directly access the World Wide Web using the Hypertext Transfer Protocol or a web browser. While web scraping can be done manually by a software user, the term typically refers to automated processes implemented using a bot or web crawler. It is a form of copying in which specific data is gathered and copied from the web, typically into a central local database or spreadsheet, for later retrieval or analysis.\n",
      "Web scraping a web page involves fetching it and extracting from it. Fetching is the downloading of a page (which a browser does when a user views a page). Therefore, web crawling is a main component of web scraping, to fetch pages for later processing. Once fetched, then extraction can take place. The content of a page may be parsed, searched, reformatted, its data copied into a spreadsheet or loaded into a database. Web scrapers typically take something out of a page, to make use of it for another purpose somewhere else. An example would be to find and copy names and telephone numbers, or companies and their URLs, or e-mail addresses to a list (contact scraping).\n",
      "Web scraping is used for contact scraping, and as a component of applications used for web indexing, web mining and data mining, online price change monitoring and price comparison, product review scraping (to watch the competition), gathering real estate listings, weather data monitoring, website change detection, research, tracking online presence and reputation, web mashup and, web data integration.\n",
      "Web pages are built using text-based mark-up languages (HTML and XHTML), and frequently contain a wealth of useful data in text form. However, most web pages are designed for human end-users and not for ease of automated use. As a result, specialized tools and software have been developed to facilitate the scraping of web pages.\n",
      "Newer forms of web scraping involve monitoring data feeds from web servers.  For example, JSON is commonly used as a transport storage mechanism between the client and the web server.\n",
      "There are methods that some websites use to prevent web scraping, such as detecting and disallowing bots from crawling (viewing) their pages. In response, there are web scraping systems that rely on using techniques in  DOM parsing, computer vision and natural language processing to simulate human browsing to enable gathering web page content for offline parsing.\n",
      "\n",
      "Contents\n",
      "\n",
      "1 History\n",
      "2 Techniques\n",
      "\n",
      "2.1 Human copy-and-paste\n",
      "2.2 Text pattern matching\n",
      "2.3 HTTP programming\n",
      "2.4 HTML parsing\n",
      "2.5 DOM parsing\n",
      "2.6 Vertical aggregation\n",
      "2.7 Semantic annotation recognizing\n",
      "2.8 Computer vision web-page analysis\n",
      "\n",
      "\n",
      "3 Software\n",
      "4 Legal issues\n",
      "\n",
      "4.1 United States\n",
      "4.2 European Union\n",
      "4.3 Australia\n",
      "4.4 India\n",
      "\n",
      "\n",
      "5 Methods to prevent web scraping\n",
      "6 See also\n",
      "7 References\n",
      "\n",
      "\n",
      "History[edit]\n",
      "This section does not cite any sources. Please help improve this section by adding citations to reliable sources. Unsourced material may be challenged and removed. (October 2018) (Learn how and when to remove this template message)\n",
      "The history of the web scraping dates back nearly to the time when the World Wide Web was born.\n",
      "\n",
      "After the birth of World Wide Web in 1989, the first web robot,[1] World Wide Web Wanderer, was created in June 1993, which was intended only to measure the size of the web.\n",
      "In December 1993, the first crawler-based web search engine, JumpStation, was launched. As there were not so many websites available on the web, search engines at that time used to rely on their human website administrators to collect and edit the links into a particular format. In comparison, JumpStation brought a new leap, being the first WWW search engine that relied on a web robot.\n",
      "In 2000, the first Web API and API crawler came. API stands for Application Programming Interface. It is an interface that makes it much easier to develop a program by providing the building blocks. In 2000, Salesforce and eBay launched their own API, with which programmers were enabled to access and download some of the data available to the public. Since then, many websites offer web APIs for people to access their public database.\n",
      "Techniques[edit]\n",
      "Web scraping is the process of automatically mining data or collecting information from the World Wide Web. It is a field with active developments sharing a common goal with the semantic web vision, an ambitious initiative that still requires breakthroughs in text processing, semantic understanding, artificial intelligence and human-computer interactions. Current web scraping solutions range from the ad-hoc, requiring human effort, to fully automated systems that are able to convert entire web sites into structured information, with limitations.\n",
      "\n",
      "Human copy-and-paste[edit]\n",
      "The simplest form of web scraping is manually copying and pasting data from a web page into a text file or spreadsheet. Sometimes even the best web-scraping technology cannot replace a human's manual examination and copy-and-paste, and sometimes this may be the only workable solution when the websites for scraping explicitly set up barriers to prevent machine automation.\n",
      "\n",
      "Text pattern matching[edit]\n",
      "A simple yet powerful approach to extract information from web pages can be based on the UNIX grep command or regular expression-matching facilities of programming languages (for instance Perl or Python).\n",
      "\n",
      "HTTP programming[edit]\n",
      "Static and dynamic web pages can be retrieved by posting HTTP requests to the remote web server using socket programming.\n",
      "\n",
      "HTML parsing[edit]\n",
      "Many websites have large collections of pages generated dynamically from an underlying structured source like a database. Data of the same category are typically encoded into similar pages by a common script or template. In data mining, a program that detects such templates in a particular information source, extracts its content and translates it into a relational form, is called a wrapper. Wrapper generation algorithms assume that input pages of a wrapper induction system conform to a common template and that they can be easily identified in terms of a URL common scheme.[2] Moreover, some semi-structured data query languages, such as XQuery and the HTQL, can be used to parse HTML pages and to retrieve and transform page content.\n",
      "\n",
      "DOM parsing[edit]\n",
      "Further information: Document Object Model\n",
      "By embedding a full-fledged web browser, such as the Internet Explorer or the Mozilla browser control, programs can retrieve the dynamic content generated by client-side scripts. These browser controls also parse web pages into a DOM tree, based on which programs can retrieve parts of the pages. Languages such as Xpath can be used to parse the resulting DOM tree.\n",
      "\n",
      "Vertical aggregation[edit]\n",
      "There are several companies that have developed vertical specific harvesting platforms. These platforms create and monitor a multitude of \"bots\" for specific verticals with no \"man in the loop\" (no direct human involvement), and no work related to a specific target site. The preparation involves establishing the knowledge base for the entire vertical and then the platform creates the bots automatically. The platform's robustness is measured by the quality of the information it retrieves (usually number of fields) and its scalability (how quick it can scale up to hundreds or thousands of sites). This scalability is mostly used to target the Long Tail of sites that common aggregators find complicated or too labor-intensive to harvest content from.\n",
      "\n",
      "Semantic annotation recognizing[edit]\n",
      "The pages being scraped may embrace metadata or semantic markups and annotations, which can be used to locate specific data snippets. If the annotations are embedded in the pages, as Microformat does, this technique can be viewed as a special case of DOM parsing. In another case, the annotations, organized into a semantic layer,[3] are stored and managed separately from the web pages, so the scrapers can retrieve data schema and instructions from this layer before scraping the pages.\n",
      "\n",
      "Computer vision web-page analysis[edit]\n",
      "There are efforts using machine learning and computer vision that attempt to identify and extract information from web pages by interpreting pages visually as a human being might.[4]\n",
      "\n",
      "Software[edit]\n",
      "There are many software tools available that can be used to customize web-scraping solutions. This software may attempt to automatically recognize the data structure of a page or provide a recording interface that removes the necessity to manually write web-scraping code, or some scripting functions that can be used to extract and transform content, and database interfaces that can store the scraped data in local databases. Some web scraping software can also be used to extract data from an API directly.\n",
      "\n",
      "Legal issues[edit]\n",
      "The examples and perspective in this section deal primarily with the United States and do not represent a worldwide view of the subject. You may improve this section, discuss the issue on the talk page, or create a new section, as appropriate. (October 2015) (Learn how and when to remove this template message)\n",
      "The legality of web scraping varies across the world. In general, web scraping may be against the terms of use of some websites, but the enforceability of these terms is unclear.[5]\n",
      "\n",
      "United States[edit]\n",
      "In the United States, website owners can use three major legal claims to prevent undesired web scraping: (1) copyright infringement (compilation), (2) violation of the Computer Fraud and Abuse Act (\"CFAA\"), and (3) trespass to chattel.[6] However, the effectiveness of these claims relies upon meeting various criteria, and the case law is still evolving. For example, with regard to copyright, while outright duplication of original expression will in many cases be illegal, in the United States the courts ruled in Feist Publications v. Rural Telephone Service that duplication of facts is allowable.\n",
      "U.S. courts have acknowledged that users of \"scrapers\" or \"robots\" may be held liable for committing trespass to chattels,[7][8] which involves a computer system itself being considered personal property upon which the user of a scraper is trespassing. The best known of these cases, eBay v. Bidder's Edge, resulted in an injunction ordering Bidder's Edge to stop accessing, collecting, and indexing auctions from the eBay web site. This case involved automatic placing of bids, known as auction sniping. However, in order to succeed on a claim of trespass to chattels, the plaintiff must demonstrate that the defendant intentionally and without authorization interfered with the plaintiff's possessory interest in the computer system and that the defendant's unauthorized use caused damage to the plaintiff. Not all cases of web spidering brought before the courts have been considered trespass to chattels.[9]\n",
      "One of the first major tests of screen scraping involved American Airlines (AA), and a firm called FareChase.[10] AA successfully obtained an injunction from a Texas trial court, stopping FareChase from selling software that enables users to compare online fares if the software also searches AA's website. The airline argued that FareChase's websearch software trespassed on AA's servers when it collected the publicly available data. FareChase filed an appeal in March 2003. By June, FareChase and AA agreed to settle and the appeal was dropped.[11]\n",
      "Southwest Airlines has also challenged screen-scraping practices, and has involved both FareChase and another firm, Outtask, in a legal claim. Southwest Airlines charged that the screen-scraping is Illegal since it is an example of \"Computer Fraud and Abuse\" and has led to \"Damage and Loss\" and \"Unauthorized Access\" of Southwest's site. It also constitutes \"Interference with Business Relations\", \"Trespass\", and \"Harmful Access by Computer\". They also claimed that screen-scraping constitutes what is legally known as \"Misappropriation and Unjust Enrichment\", as well as being a breach of the web site's user agreement. Outtask denied all these claims, claiming that the prevailing law, in this case, should be US Copyright law and that under copyright, the pieces of information being scraped would not be subject to copyright protection. Although the cases were never resolved in the Supreme Court of the United States, FareChase was eventually shuttered by parent company Yahoo!, and Outtask was purchased by travel expense company Concur.[12]\n",
      "In 2012, a startup called 3Taps scraped classified housing ads from Craigslist. Craigslist sent 3Taps a cease-and-desist letter and blocked their IP addresses and later sued, in Craigslist v. 3Taps. The court held that the cease-and-desist letter and IP blocking was sufficient for Craigslist to properly claim that 3Taps had violated the Computer Fraud and Abuse Act.\n",
      "Although these are early scraping decisions, and the theories of liability are not uniform, it is difficult to ignore a pattern emerging that the courts are prepared to protect proprietary content on commercial sites from uses which are undesirable to the owners of such sites. However, the degree of protection for such content is not settled and will depend on the type of access made by the scraper, the amount of information accessed and copied, the degree to which the access adversely affects the site owner's system and the types and manner of prohibitions on such conduct.[13]\n",
      "While the law in this area becomes more settled, entities contemplating using scraping programs to access a public web site should also consider whether such action is authorized by reviewing the terms of use and other terms or notices posted on or made available through the site. In a 2010 ruling in the Cvent, Inc. v. Eventbrite, Inc. In the United States district court for the eastern district of Virginia, the court ruled that the terms of use should be brought to the users' attention In order for a browse wrap contract or license to be enforced.[14] In a 2014 case, filed in the United States District Court for the Eastern District of Pennsylvania,[15] e-commerce site QVC objected to the Pinterest-like shopping aggregator Resultly's 'scraping of QVC's site for real-time pricing data. QVC alleges that Resultly \"excessively crawled\" QVC's retail site (allegedly sending 200-300 search requests to QVC's website per minute, sometimes to up to 36,000 requests per minute) which caused QVC's site to crash for two days, resulting in lost sales for QVC.[16] QVC's complaint alleges that the defendant disguised its web crawler to mask its source IP address and thus prevented QVC from quickly repairing the problem. This is a particularly interesting scraping case because QVC is seeking damages for the unavailability of their website, which QVC claims was caused by Resultly.\n",
      "In the plaintiff's web site during the period of this trial, the terms of use link are displayed among all the links of the site, at the bottom of the page as most sites on the internet. This ruling contradicts the Irish ruling described below. The court also rejected the plaintiff's argument that the browse-wrap restrictions were enforceable in view of Virginia's adoption of the Uniform Computer Information Transactions Act (UCITA)—a uniform law that many believed was in favor on common browse-wrap contracting practices.[17]\n",
      "In Facebook, Inc. v. Power Ventures, Inc., a district court ruled in 2012 that Power Ventures could not scrape Facebook pages on behalf of a Facebook user. The case is on appeal, and the Electronic Frontier Foundation filed a brief in 2015 asking that it be overturned.[18][19] In Associated Press v. Meltwater U.S. Holdings, Inc., a court in the US held Meltwater liable for scraping and republishing news information from the Associated Press, but a court in the United Kingdom held in favor of Meltwater.\n",
      "Internet Archive collects and distributes a significant number of publicly available web pages without being considered to be in violation of copyright laws.\n",
      "\n",
      "European Union[edit]\n",
      "In February 2006, the Danish Maritime and Commercial Court (Copenhagen) ruled that systematic crawling, indexing, and deep linking by portal site ofir.dk of estate site Home.dk does not conflict with Danish law or the database directive of the European Union.[20]\n",
      "In a February 2010 case complicated by matters of jurisdiction, Ireland's High Court delivered a verdict that illustrates the inchoate state of developing case law. In the case of Ryanair Ltd v Billigfluege.de GmbH, Ireland's High Court ruled Ryanair's \"click-wrap\" agreement to be legally binding. In contrast to the findings of the United States District Court Eastern District of Virginia and those of the Danish Maritime and Commercial Court, Justice Michael Hanna ruled that the hyperlink to Ryanair's terms and conditions was plainly visible, and that placing the onus on the user to agree to terms and conditions in order to gain access to online services is sufficient to comprise a contractual relationship.\n",
      "[21] The decision is under appeal in Ireland's Supreme Court.[22]\n",
      "On April 30, 2020, the French Data Protection Authority (CNIL) released new guidelines on web scraping.[23] The CNIL guidelines made it clear that publicly available data is still personal data and cannot be repurposed without the knowledge of the person to whom that data belongs.[24]\n",
      "\n",
      "Australia[edit]\n",
      "In Australia, the Spam Act 2003 outlaws some forms of web harvesting, although this only applies to email addresses.[25][26]\n",
      "\n",
      "India[edit]\n",
      "Leaving a few cases dealing with IPR infringement, Indian courts have not expressly ruled on the legality of web scraping. However, since all common forms of electronic contracts are enforceable in India, violating the terms of use prohibiting data scraping will be a violation of the contract law. It will also violate the Information Technology Act, 2000, which penalizes unauthorized access to a computer resource or extracting data from a computer resource.\n",
      "\n",
      "Methods to prevent web scraping[edit]\n",
      "The administrator of a website can use various measures to stop or slow a bot. Some techniques include:\n",
      "\n",
      "Blocking an IP address either manually or based on criteria such as geolocation and DNSRBL. This will also block all browsing from that address.\n",
      "Disabling any web service API that the website's system might expose.\n",
      "Bots sometimes declare who they are (using user agent strings) and can be blocked on that basis using robots.txt; 'googlebot' is an example. Other bots make no distinction between themselves and a human using a browser.\n",
      "Bots can be blocked by monitoring excess traffic\n",
      "Bots can sometimes be blocked with tools to verify that it is a real person accessing the site, like a CAPTCHA. Bots are sometimes coded to explicitly break specific CAPTCHA patterns or may employ third-party services that utilize human labor to read and respond in real-time to CAPTCHA challenges.\n",
      "Commercial anti-bot services: Companies offer anti-bot and anti-scraping services for websites. A few web application firewalls have limited bot detection capabilities as well. However, many such solutions are not very effective.[27]\n",
      "Locating bots with a honeypot or other method to identify the IP addresses of automated crawlers.\n",
      "Obfuscation using CSS sprites to display such data as telephone numbers or email addresses, at the cost of accessibility to screen reader users.\n",
      "Because bots rely on consistency in the front-end code of a target website, adding small variations to the HTML/CSS surrounding important data and navigation elements would require more human involvement in the initial set up of a bot and if done effectively may render the target website too difficult to scrape due to the diminished ability to automate the scraping process.\n",
      "Websites can declare if crawling is allowed or not in the robots.txt file and allow partial access, limit the crawl rate, specify the optimal time to crawl and more.\n",
      "See also[edit]\n",
      "\n",
      "Archive.today\n",
      "Comparison of feed aggregators\n",
      "Data scraping\n",
      "Data wrangling\n",
      "Importer\n",
      "Job wrapping\n",
      "Knowledge extraction\n",
      "OpenSocial\n",
      "Scraper site\n",
      "Fake news website\n",
      "Blog scraping\n",
      "Spamdexing\n",
      "Domain name drop list\n",
      "Text corpus\n",
      "Web archiving\n",
      "Web crawler\n",
      "Offline reader\n",
      "Link farm (blog network)\n",
      "Search engine scraping\n",
      "Web crawlers\n",
      "\n",
      "References[edit]\n",
      "\n",
      "\n",
      "^ \"Search Engine History.com\". Search Engine History. Retrieved November 26, 2019.\n",
      "\n",
      "^ Song, Ruihua; Microsoft Research (Sep 14, 2007). \"Joint Optimization of Wrapper Generation and Template Detection\" (PDF). The 13th International Conference on Knowledge Discovery and Data Mining: 894. doi:10.1145/1281192.1281287. ISBN 9781595936097. S2CID 833565. Archived from the original (PDF) on October 11, 2016.\n",
      "\n",
      "^ Semantic annotation based web scraping\n",
      "\n",
      "^ Roush, Wade (2012-07-25). \"Diffbot Is Using Computer Vision to Reinvent the Semantic Web\". www.xconomy.com. Retrieved 2013-03-15.\n",
      "\n",
      "^ \"FAQ about linking – Are website terms of use binding contracts?\". www.chillingeffects.org. 2007-08-20. Archived from the original on 2002-03-08. Retrieved 2007-08-20.\n",
      "\n",
      "^ Kenneth, Hirschey, Jeffrey (2014-01-01). \"Symbiotic Relationships: Pragmatic Acceptance of Data Scraping\". Berkeley Technology Law Journal. 29 (4). doi:10.15779/Z38B39B. ISSN 1086-3818.\n",
      "\n",
      "^ \"Internet Law, Ch. 06: Trespass to Chattels\". www.tomwbell.com. 2007-08-20. Retrieved 2007-08-20.\n",
      "\n",
      "^ \"What are the \"trespass to chattels\" claims some companies or website owners have brought?\". www.chillingeffects.org. 2007-08-20. Archived from the original on 2002-03-08. Retrieved 2007-08-20.\n",
      "\n",
      "^ \"Ticketmaster Corp. v. Tickets.com, Inc\". 2007-08-20. Retrieved 2007-08-20.\n",
      "\n",
      "^ \"American Airlines v. FareChase\" (PDF). 2007-08-20. Archived from the original (PDF) on 2011-07-23. Retrieved 2007-08-20.\n",
      "\n",
      "^ \"American Airlines, FareChase Settle Suit\". The Free Library. 2003-06-13. Retrieved 2012-02-26.\n",
      "\n",
      "^ Imperva (2011). Detecting and Blocking Site Scraping Attacks. Imperva white paper..\n",
      "\n",
      "^ Adler, Kenneth A. (2003-07-29). \"Controversy Surrounds 'Screen Scrapers': Software Helps Users Access Web Sites But Activity by Competitors Comes Under Scrutiny\". Retrieved 2010-10-27.\n",
      "\n",
      "^ \"QVC Inc. v. Resultly LLC, No. 14-06714 (E.D. Pa. filed Nov. 24, 2014)\" (PDF). 2014-11-24. Retrieved 2015-11-05.\n",
      "\n",
      "^ \"QVC Inc. v. Resultly LLC, No. 14-06714 (E.D. Pa. filed Nov. 24, 2014)\". United States District Court for the Eastern District of Pennsylvania. Retrieved 5 November 2015.\n",
      "\n",
      "^ Neuburger, Jeffrey D (5 December 2014). \"QVC Sues Shopping App for Web Scraping That Allegedly Triggered Site Outage\". The National Law Review. Proskauer Rose LLP. Retrieved 5 November 2015.\n",
      "\n",
      "^ \"Did Iqbal/Twombly Raise the Bar for Browsewrap Claims?\" (PDF). 2010-09-17. Retrieved 2010-10-27.\n",
      "\n",
      "^ \"Can Scraping Non-Infringing Content Become Copyright Infringement... Because Of How Scrapers Work? | Techdirt\". Techdirt. 2009-06-10. Retrieved 2016-05-24.\n",
      "\n",
      "^ \"Facebook v. Power Ventures\". Electronic Frontier Foundation. Retrieved 2016-05-24.\n",
      "\n",
      "^ \"UDSKRIFT AF SØ- & HANDELSRETTENS DOMBOG\" (PDF) (in Danish). bvhd.dk. 2006-02-24. Archived from the original (PDF) on 2007-10-12. Retrieved 2007-05-30.\n",
      "\n",
      "^ \"High Court of Ireland Decisions >> Ryanair Ltd -v- Billigfluege.de GMBH 2010 IEHC 47 (26 February 2010)\". British and Irish Legal Information Institute. 2010-02-26. Retrieved 2012-04-19.\n",
      "\n",
      "^ Matthews, Áine (June 2010). \"Intellectual Property: Website Terms of Use\". Issue 26: June 2010. LK Shields Solicitors Update. p. 03. Retrieved 2012-04-19.\n",
      "\n",
      "^ \"La réutilisation des données publiquement accessibles en ligne à des fins de démarchage commercial | CNIL\". www.cnil.fr (in French). Retrieved 2020-07-05.\n",
      "\n",
      "^ FindDataLab.com (2020-06-09). \"Can You Still Perform Web Scraping With The New CNIL Guidelines?\". Medium. Retrieved 2020-07-05.\n",
      "\n",
      "^ National Office for the Information Economy (February 2004). \"Spam Act 2003: An overview for business\". Australian Communications Authority. p. 6. Retrieved 2017-12-07.\n",
      "\n",
      "^ National Office for the Information Economy (February 2004). \"Spam Act 2003: A practical guide for business\" (PDF). Australian Communications Authority. p. 20. Retrieved 2017-12-07.\n",
      "\n",
      "^ Mayank Dhiman Breaking Fraud & Bot Detection Solutions OWASP AppSec Cali' 2018 Retrieved February 10, 2018.\n",
      "\n",
      "\n",
      "\n",
      "\n",
      "\n",
      "\n",
      "Retrieved from \"https://en.wikipedia.org/w/index.php?title=Web_scraping&oldid=1038247165\"\n",
      "Categories: Web scrapingHidden categories: CS1 Danish-language sources (da)CS1 French-language sources (fr)Articles with short descriptionShort description matches WikidataArticles needing additional references from June 2017All articles needing additional referencesArticles needing additional references from October 2018Articles with limited geographic scope from October 2015United States-centric\n",
      "\n",
      "\n",
      "\n",
      "\n",
      "\n",
      "\n",
      "Navigation menu\n",
      "\n",
      "\n",
      "\n",
      "Personal tools\n",
      "\n",
      "\n",
      "Not logged inTalkContributionsCreate accountLog in\n",
      "\n",
      "\n",
      "\n",
      "\n",
      "\n",
      "Namespaces\n",
      "\n",
      "\n",
      "ArticleTalk\n",
      "\n",
      "\n",
      "\n",
      "\n",
      "\n",
      "Variants\n",
      "expanded\n",
      "collapsed\n",
      "\n",
      "\n",
      "\n",
      "\n",
      "\n",
      "\n",
      "\n",
      "\n",
      "\n",
      "Views\n",
      "\n",
      "\n",
      "ReadEditView history\n",
      "\n",
      "\n",
      "\n",
      "\n",
      "\n",
      "More\n",
      "expanded\n",
      "collapsed\n",
      "\n",
      "\n",
      "\n",
      "\n",
      "\n",
      "\n",
      "\n",
      "\n",
      "Search\n",
      "\n",
      "\n",
      "\n",
      "\n",
      "\n",
      "\n",
      "\n",
      "\n",
      "\n",
      "\n",
      "\n",
      "\n",
      "\n",
      "\n",
      "\n",
      "\n",
      "\n",
      "\n",
      "\n",
      "Navigation\n",
      "\n",
      "\n",
      "Main pageContentsCurrent eventsRandom articleAbout WikipediaContact usDonate\n",
      "\n",
      "\n",
      "\n",
      "\n",
      "Contribute\n",
      "\n",
      "\n",
      "HelpLearn to editCommunity portalRecent changesUpload file\n",
      "\n",
      "\n",
      "\n",
      "\n",
      "Tools\n",
      "\n",
      "\n",
      "What links hereRelated changesUpload fileSpecial pagesPermanent linkPage informationCite this pageWikidata item\n",
      "\n",
      "\n",
      "\n",
      "\n",
      "Print/export\n",
      "\n",
      "\n",
      "Download as PDFPrintable version\n",
      "\n",
      "\n",
      "\n",
      "\n",
      "Languages\n",
      "\n",
      "\n",
      "العربيةCatalàDeutschEspañolEuskaraFrançaisBahasa IndonesiaÍslenskaItalianoLatviešuNederlands日本語PortuguêsРусскийСрпски / srpskiTürkçeУкраїнська中文\n",
      "Edit links\n",
      "\n",
      "\n",
      "\n",
      "\n",
      "\n",
      "\n",
      " This page was last edited on 11 August 2021, at 11:29 (UTC).\n",
      "Text is available under the Creative Commons Attribution-ShareAlike License;\n",
      "additional terms may apply.  By using this site, you agree to the Terms of Use and Privacy Policy. Wikipedia® is a registered trademark of the Wikimedia Foundation, Inc., a non-profit organization.\n",
      "\n",
      "\n",
      "Privacy policy\n",
      "About Wikipedia\n",
      "Disclaimers\n",
      "Contact Wikipedia\n",
      "Mobile view\n",
      "Developers\n",
      "Statistics\n",
      "Cookie statement\n",
      "\n",
      "\n",
      "\n",
      "\n",
      "\n",
      "\n",
      "\n",
      "\n",
      "\n",
      "\n"
     ]
    }
   ],
   "source": [
    "## parse the raw wiki HTML into a BeautifulSoup object\n",
    "soup = bs4.BeautifulSoup(wikiResponse.text, 'html.parser')\n",
    "## let's see what it looks like by looking specifically\n",
    "## at the text attribute of the soup object\n",
    "print(soup.text)"
   ]
  },
  {
   "cell_type": "markdown",
   "metadata": {
    "id": "t4gudS4xSOaQ"
   },
   "source": [
    "The `.text` attribute of our `BeautifulSoup` object has excessive white space and more text than just the article body that we really want. Luckily, HTML has structure that we can take advantage of to isolate the specific information we want. HTML stores the information displayed on the webpage in tags. For instance, hyperlinks are encoded in `a` tags:\n",
    "\n",
    "```\n",
    "<a href=\"www.google.com\">This text will be hyperlinked to the specified URL.</a>\n",
    "```\n",
    "\n",
    "The basic tag is `<a>`. Notice that it has a matching end tag: `</a>`. The text between the tags is what actually displays on the webpage. This tag has an attribute `href`, which defines the URL to which the text links. If you're not very familiar with HTML, here is [a basic guide](https://www.w3schools.com/html/html_basic.asp). This [comprehensive reference of HTML tags](https://www.w3schools.com/tags/) may also be useful.\n",
    "\n",
    "To extract only the specific text we want from the Wikipedia webpage, we need to inspect the raw HTML to figure out how the data we want is being stored (e.g. in which tags or which attributes of tags). One way to do this is to open the page in a web browser, right clicking anywhere on the page, and selecting 'Inspect' or 'View Page Source'. In some web browsers, like Google Chrome, as you mouse over various tags in the raw HTML, the corresponding element will be highlighted in the displayed page. Keep in mind, if the webpage uses Javascript or dynamic programming, then what you view using the browser tool will not be the same data received via the `requests` package. Instead, you'll want to dump the static version of the web page downloaded via `requests` to an `.html` file on your computer, and then inspect it in a browser as above. \n",
    "\n",
    "Let's dump the scraped text into a file that we can open to inspect:"
   ]
  },
  {
   "cell_type": "code",
   "execution_count": 6,
   "metadata": {
    "id": "jCb6p5iVSOaQ"
   },
   "outputs": [],
   "source": [
    "wiki_file = 'wikipedia_web_scrape.html'\n",
    "\n",
    "with open(wiki_file, mode='w', encoding='utf-8') as f:\n",
    "    f.write(wikiResponse.text)"
   ]
  },
  {
   "cell_type": "markdown",
   "metadata": {
    "id": "YKF-cEPhSOaS"
   },
   "source": [
    "You can also open the raw HTML file in a text editor and use the 'Find' tool (CTRL/CMD + F) to help figure out how data of interest is stored.\n",
    "\n",
    "After inspecting this saved file, it looks like the main text of the web page is within paragraph tags (`<p>`) inside the `<body>` tag."
   ]
  },
  {
   "cell_type": "code",
   "execution_count": 7,
   "metadata": {
    "colab": {
     "base_uri": "https://localhost:8080/"
    },
    "executionInfo": {
     "elapsed": 2007,
     "status": "ok",
     "timestamp": 1615138656252,
     "user": {
      "displayName": "Chloe Kanders",
      "photoUrl": "",
      "userId": "07431873523441922402"
     },
     "user_tz": 300
    },
    "id": "_R_o--guSOaT",
    "outputId": "410ced42-ab9f-4d93-ab67-f4e2f4e035ea"
   },
   "outputs": [
    {
     "name": "stdout",
     "output_type": "stream",
     "text": [
      "Web scraping is used for contact scraping, and as a component of applications used for web indexing, web mining and data mining, online price change monitoring and price comparison, product review scraping (to watch the competition), gathering real estate listings, weather data monitoring, website change detection, research, tracking online presence and reputation, web mashup and, web data integration.\n",
      "\n"
     ]
    }
   ],
   "source": [
    "tags = soup.body.findAll('p')\n",
    "for pTag in tags[2:3]:\n",
    "    print(pTag.text)"
   ]
  },
  {
   "cell_type": "markdown",
   "metadata": {
    "id": "D95bGFY-SOaV"
   },
   "source": [
    "We can also save this text as a `pandas` dataframe to make it easier to analyse down the line:"
   ]
  },
  {
   "cell_type": "code",
   "execution_count": 8,
   "metadata": {
    "colab": {
     "base_uri": "https://localhost:8080/",
     "height": 204
    },
    "executionInfo": {
     "elapsed": 1995,
     "status": "ok",
     "timestamp": 1615138656254,
     "user": {
      "displayName": "Chloe Kanders",
      "photoUrl": "",
      "userId": "07431873523441922402"
     },
     "user_tz": 300
    },
    "id": "otP893k4SOaV",
    "outputId": "52aefcb5-1b83-483d-9e29-6da8a9022828"
   },
   "outputs": [
    {
     "data": {
      "text/html": [
       "<div>\n",
       "<style scoped>\n",
       "    .dataframe tbody tr th:only-of-type {\n",
       "        vertical-align: middle;\n",
       "    }\n",
       "\n",
       "    .dataframe tbody tr th {\n",
       "        vertical-align: top;\n",
       "    }\n",
       "\n",
       "    .dataframe thead th {\n",
       "        text-align: right;\n",
       "    }\n",
       "</style>\n",
       "<table border=\"1\" class=\"dataframe\">\n",
       "  <thead>\n",
       "    <tr style=\"text-align: right;\">\n",
       "      <th></th>\n",
       "      <th>paragraph</th>\n",
       "    </tr>\n",
       "  </thead>\n",
       "  <tbody>\n",
       "    <tr>\n",
       "      <th>0</th>\n",
       "      <td>Web scraping, web harvesting, or web data extr...</td>\n",
       "    </tr>\n",
       "    <tr>\n",
       "      <th>1</th>\n",
       "      <td>Web scraping a web page involves fetching it a...</td>\n",
       "    </tr>\n",
       "    <tr>\n",
       "      <th>2</th>\n",
       "      <td>Web scraping is used for contact scraping, and...</td>\n",
       "    </tr>\n",
       "    <tr>\n",
       "      <th>3</th>\n",
       "      <td>Web pages are built using text-based mark-up l...</td>\n",
       "    </tr>\n",
       "    <tr>\n",
       "      <th>4</th>\n",
       "      <td>Newer forms of web scraping involve monitoring...</td>\n",
       "    </tr>\n",
       "  </tbody>\n",
       "</table>\n",
       "</div>"
      ],
      "text/plain": [
       "                                           paragraph\n",
       "0  Web scraping, web harvesting, or web data extr...\n",
       "1  Web scraping a web page involves fetching it a...\n",
       "2  Web scraping is used for contact scraping, and...\n",
       "3  Web pages are built using text-based mark-up l...\n",
       "4  Newer forms of web scraping involve monitoring..."
      ]
     },
     "execution_count": 8,
     "metadata": {},
     "output_type": "execute_result"
    }
   ],
   "source": [
    "paragraphs = []\n",
    "for pTag in tags:\n",
    "    paragraphs.append(pTag.text)\n",
    "## convert the list to pandas\n",
    "df = pd.DataFrame({'paragraph' : paragraphs})\n",
    "df.head()"
   ]
  },
  {
   "cell_type": "markdown",
   "metadata": {
    "id": "Zz06Pp6oSOaX"
   },
   "source": [
    "## Part 2: NumPy Crash Course\n",
    "\n",
    "NumPy is a Python package fundamental for data science. Refer to the [documentation](https://numpy.org/doc/stable/) if you are stuck on any problems and take a look at the the [quickstart tutorial](https://numpy.org/doc/stable/user/quickstart.html) to help develop your skills.\n",
    "\n",
    "The main array object used in NumPy is the `ndarray`. NumPy arrays are stored in a continuous place in memory, which allows your computer to process these objects up to 50x faster than Python Lists. It supports integers, booleans, floats, strings, and more, but unlike Python Lists, all entries of an `ndarray` must have the same data type. \n",
    "\n"
   ]
  },
  {
   "cell_type": "code",
   "execution_count": 9,
   "metadata": {
    "id": "o07K23GPSOaY"
   },
   "outputs": [],
   "source": [
    "arr1 = np.array([1,7,5,2,4])"
   ]
  },
  {
   "cell_type": "code",
   "execution_count": 10,
   "metadata": {
    "colab": {
     "base_uri": "https://localhost:8080/"
    },
    "executionInfo": {
     "elapsed": 1980,
     "status": "ok",
     "timestamp": 1615138656257,
     "user": {
      "displayName": "Chloe Kanders",
      "photoUrl": "",
      "userId": "07431873523441922402"
     },
     "user_tz": 300
    },
    "id": "oXBhrXFoSOaa",
    "outputId": "658985d6-87a0-41c4-dab5-9ac24ddf9625"
   },
   "outputs": [
    {
     "data": {
      "text/plain": [
       "dtype('int32')"
      ]
     },
     "execution_count": 10,
     "metadata": {},
     "output_type": "execute_result"
    }
   ],
   "source": [
    "arr1.dtype"
   ]
  },
  {
   "cell_type": "code",
   "execution_count": 11,
   "metadata": {
    "id": "mF5LJ7zGSOad"
   },
   "outputs": [],
   "source": [
    "arr2 = np.array([2.1,3,4,1,5])"
   ]
  },
  {
   "cell_type": "code",
   "execution_count": 12,
   "metadata": {
    "colab": {
     "base_uri": "https://localhost:8080/"
    },
    "executionInfo": {
     "elapsed": 1970,
     "status": "ok",
     "timestamp": 1615138656260,
     "user": {
      "displayName": "Chloe Kanders",
      "photoUrl": "",
      "userId": "07431873523441922402"
     },
     "user_tz": 300
    },
    "id": "YME9Cb29SOaf",
    "outputId": "806272ad-82f8-4b07-eb97-33580eb1589b"
   },
   "outputs": [
    {
     "data": {
      "text/plain": [
       "dtype('float64')"
      ]
     },
     "execution_count": 12,
     "metadata": {},
     "output_type": "execute_result"
    }
   ],
   "source": [
    "arr2.dtype"
   ]
  },
  {
   "cell_type": "markdown",
   "metadata": {
    "id": "hlMoCYr3SOah"
   },
   "source": [
    "Numpy arrays support broadcasting of certain operations.  Broadcasted operations are applied elementwise to each member of the ndarray, without the need for an explicit for loop:"
   ]
  },
  {
   "cell_type": "code",
   "execution_count": 13,
   "metadata": {
    "colab": {
     "base_uri": "https://localhost:8080/"
    },
    "executionInfo": {
     "elapsed": 1960,
     "status": "ok",
     "timestamp": 1615138656261,
     "user": {
      "displayName": "Chloe Kanders",
      "photoUrl": "",
      "userId": "07431873523441922402"
     },
     "user_tz": 300
    },
    "id": "nRF3kIWXSOah",
    "outputId": "86fe4188-b24d-4e96-ee2c-6215fb036ed8"
   },
   "outputs": [
    {
     "data": {
      "text/plain": [
       "array([ 3.1, 10. ,  9. ,  3. ,  9. ])"
      ]
     },
     "execution_count": 13,
     "metadata": {},
     "output_type": "execute_result"
    }
   ],
   "source": [
    "# elementwise adddition of two ndarrays\n",
    "arr1 + arr2"
   ]
  },
  {
   "cell_type": "code",
   "execution_count": 14,
   "metadata": {
    "colab": {
     "base_uri": "https://localhost:8080/"
    },
    "executionInfo": {
     "elapsed": 1950,
     "status": "ok",
     "timestamp": 1615138656263,
     "user": {
      "displayName": "Chloe Kanders",
      "photoUrl": "",
      "userId": "07431873523441922402"
     },
     "user_tz": 300
    },
    "id": "5PCGKQKvSOaj",
    "outputId": "ad04e90d-f22b-4c6a-feca-886ffa9b8a2f"
   },
   "outputs": [
    {
     "data": {
      "text/plain": [
       "array([ 2, 14, 10,  4,  8])"
      ]
     },
     "execution_count": 14,
     "metadata": {},
     "output_type": "execute_result"
    }
   ],
   "source": [
    "# elementwise multiplication\n",
    "arr1 * 2"
   ]
  },
  {
   "cell_type": "code",
   "execution_count": 15,
   "metadata": {
    "colab": {
     "base_uri": "https://localhost:8080/"
    },
    "executionInfo": {
     "elapsed": 1942,
     "status": "ok",
     "timestamp": 1615138656265,
     "user": {
      "displayName": "Chloe Kanders",
      "photoUrl": "",
      "userId": "07431873523441922402"
     },
     "user_tz": 300
    },
    "id": "db6yc5TySOal",
    "outputId": "78b7eddc-9151-4dc0-e48d-1bcb2e3cb6c3"
   },
   "outputs": [
    {
     "data": {
      "text/plain": [
       "array([ 1, 49, 25,  4, 16], dtype=int32)"
      ]
     },
     "execution_count": 15,
     "metadata": {},
     "output_type": "execute_result"
    }
   ],
   "source": [
    "# elementwise exponentiation\n",
    "arr1 ** 2"
   ]
  },
  {
   "cell_type": "markdown",
   "metadata": {
    "id": "Hu5ueqnsSOao"
   },
   "source": [
    "and conditionals:"
   ]
  },
  {
   "cell_type": "code",
   "execution_count": 16,
   "metadata": {
    "colab": {
     "base_uri": "https://localhost:8080/"
    },
    "executionInfo": {
     "elapsed": 1931,
     "status": "ok",
     "timestamp": 1615138656266,
     "user": {
      "displayName": "Chloe Kanders",
      "photoUrl": "",
      "userId": "07431873523441922402"
     },
     "user_tz": 300
    },
    "id": "JlwWP9i8SOao",
    "outputId": "9f514d46-8a59-49eb-d542-6a00b3749ae7"
   },
   "outputs": [
    {
     "data": {
      "text/plain": [
       "array([False,  True,  True, False, False])"
      ]
     },
     "execution_count": 16,
     "metadata": {},
     "output_type": "execute_result"
    }
   ],
   "source": [
    "arr1 >= 5"
   ]
  },
  {
   "cell_type": "markdown",
   "metadata": {
    "id": "-gmm0h4tSOaq"
   },
   "source": [
    "Passing this boolean array into the original array returns the correct values indexed in the original array:"
   ]
  },
  {
   "cell_type": "code",
   "execution_count": 17,
   "metadata": {
    "colab": {
     "base_uri": "https://localhost:8080/"
    },
    "executionInfo": {
     "elapsed": 1921,
     "status": "ok",
     "timestamp": 1615138656268,
     "user": {
      "displayName": "Chloe Kanders",
      "photoUrl": "",
      "userId": "07431873523441922402"
     },
     "user_tz": 300
    },
    "id": "l-fIoiP1SOaq",
    "outputId": "6a00825a-3823-4192-bd54-98fa122ab7d8"
   },
   "outputs": [
    {
     "data": {
      "text/plain": [
       "array([7, 5])"
      ]
     },
     "execution_count": 17,
     "metadata": {},
     "output_type": "execute_result"
    }
   ],
   "source": [
    "arr1[arr1 >= 5]"
   ]
  },
  {
   "cell_type": "markdown",
   "metadata": {
    "id": "pIWGXPlTSOas"
   },
   "source": [
    "NumPy arrays are multidimensional, and have built in support for common methods used in linear algebra (e.g. matrix multiplication):"
   ]
  },
  {
   "cell_type": "code",
   "execution_count": 18,
   "metadata": {
    "id": "UUBA36gvSOas"
   },
   "outputs": [],
   "source": [
    "arr3 = np.array([[1,1],[0,1]])"
   ]
  },
  {
   "cell_type": "code",
   "execution_count": 19,
   "metadata": {
    "colab": {
     "base_uri": "https://localhost:8080/"
    },
    "executionInfo": {
     "elapsed": 1917,
     "status": "ok",
     "timestamp": 1615138656278,
     "user": {
      "displayName": "Chloe Kanders",
      "photoUrl": "",
      "userId": "07431873523441922402"
     },
     "user_tz": 300
    },
    "id": "0haTjodXSOau",
    "outputId": "00ea54fb-4a06-420e-9c70-747fc2ca73f3"
   },
   "outputs": [
    {
     "data": {
      "text/plain": [
       "array([[1, 1],\n",
       "       [0, 1]])"
      ]
     },
     "execution_count": 19,
     "metadata": {},
     "output_type": "execute_result"
    }
   ],
   "source": [
    "arr3"
   ]
  },
  {
   "cell_type": "code",
   "execution_count": 20,
   "metadata": {
    "colab": {
     "base_uri": "https://localhost:8080/"
    },
    "executionInfo": {
     "elapsed": 1904,
     "status": "ok",
     "timestamp": 1615138656281,
     "user": {
      "displayName": "Chloe Kanders",
      "photoUrl": "",
      "userId": "07431873523441922402"
     },
     "user_tz": 300
    },
    "id": "k7YYIwJzSOaw",
    "outputId": "e86a76cb-a79a-4cfe-f5a7-b69f1572f35d",
    "scrolled": true
   },
   "outputs": [
    {
     "data": {
      "text/plain": [
       "array([[1, 2],\n",
       "       [0, 1]])"
      ]
     },
     "execution_count": 20,
     "metadata": {},
     "output_type": "execute_result"
    }
   ],
   "source": [
    "# matrix multiplication\n",
    "arr3 @ arr3"
   ]
  },
  {
   "cell_type": "code",
   "execution_count": 21,
   "metadata": {
    "colab": {
     "base_uri": "https://localhost:8080/"
    },
    "executionInfo": {
     "elapsed": 1885,
     "status": "ok",
     "timestamp": 1615138656283,
     "user": {
      "displayName": "Chloe Kanders",
      "photoUrl": "",
      "userId": "07431873523441922402"
     },
     "user_tz": 300
    },
    "id": "pdy2eEmgSOay",
    "outputId": "6e6e40df-1a05-4d24-9308-5305e608ac13"
   },
   "outputs": [
    {
     "data": {
      "text/plain": [
       "(2, 2)"
      ]
     },
     "execution_count": 21,
     "metadata": {},
     "output_type": "execute_result"
    }
   ],
   "source": [
    "arr3.shape"
   ]
  },
  {
   "cell_type": "code",
   "execution_count": 22,
   "metadata": {
    "colab": {
     "base_uri": "https://localhost:8080/"
    },
    "executionInfo": {
     "elapsed": 2080,
     "status": "ok",
     "timestamp": 1615138656490,
     "user": {
      "displayName": "Chloe Kanders",
      "photoUrl": "",
      "userId": "07431873523441922402"
     },
     "user_tz": 300
    },
    "id": "CSoAoy77SOa0",
    "outputId": "89dc4ae8-0845-47ab-e64a-1ad61fe9388d"
   },
   "outputs": [
    {
     "data": {
      "text/plain": [
       "4"
      ]
     },
     "execution_count": 22,
     "metadata": {},
     "output_type": "execute_result"
    }
   ],
   "source": [
    "arr3.size"
   ]
  },
  {
   "cell_type": "markdown",
   "metadata": {
    "id": "lYl_M_weSOa2"
   },
   "source": [
    "Numpy arrays can be accessed using an index (keep in mind Python indices start at 0):"
   ]
  },
  {
   "cell_type": "code",
   "execution_count": 23,
   "metadata": {
    "id": "MV5SoDEDSOa3"
   },
   "outputs": [],
   "source": [
    "arr3[1,0] = 4"
   ]
  },
  {
   "cell_type": "code",
   "execution_count": 24,
   "metadata": {
    "colab": {
     "base_uri": "https://localhost:8080/"
    },
    "executionInfo": {
     "elapsed": 2069,
     "status": "ok",
     "timestamp": 1615138656495,
     "user": {
      "displayName": "Chloe Kanders",
      "photoUrl": "",
      "userId": "07431873523441922402"
     },
     "user_tz": 300
    },
    "id": "ky83UphSSOa5",
    "outputId": "d75e5fd2-1c18-40e7-8d19-32667be003a9"
   },
   "outputs": [
    {
     "data": {
      "text/plain": [
       "array([[1, 1],\n",
       "       [4, 1]])"
      ]
     },
     "execution_count": 24,
     "metadata": {},
     "output_type": "execute_result"
    }
   ],
   "source": [
    "arr3"
   ]
  },
  {
   "cell_type": "markdown",
   "metadata": {
    "id": "k5SPERkWSOa7"
   },
   "source": [
    "---\n",
    "\n",
    "# Homework\n",
    "\n",
    "# Part 1: `numpy`"
   ]
  },
  {
   "cell_type": "markdown",
   "metadata": {
    "id": "WwkHVqGVSOa7"
   },
   "source": [
    "#### Problem 1\n",
    "Use a `numpy` function similar to Python's `range()` function to create a numpy array of integers from 0-19. Then use the `numpy.reshape()` command to change the array's shape to 5 rows and 4 columns. The numbers should increment row-wise within the array. Print the final result.\n",
    "\n",
    "*(**Hint:** the `numpy` equivalent to Python's `range()` function can be found in the [quickstart tutorial](https://numpy.org/doc/stable/user/quickstart.html).)*"
   ]
  },
  {
   "cell_type": "code",
   "execution_count": 25,
   "metadata": {
    "id": "ZucWUJjEo3UU",
    "problem": 1,
    "tags": []
   },
   "outputs": [
    {
     "data": {
      "text/plain": [
       "array([[ 0,  1,  2,  3],\n",
       "       [ 4,  5,  6,  7],\n",
       "       [ 8,  9, 10, 11],\n",
       "       [12, 13, 14, 15],\n",
       "       [16, 17, 18, 19]])"
      ]
     },
     "execution_count": 25,
     "metadata": {},
     "output_type": "execute_result"
    }
   ],
   "source": [
    "np.arange(0,20)\n",
    "np.reshape(np.arange(0,20), (5,4), order = \"C\")"
   ]
  },
  {
   "cell_type": "markdown",
   "metadata": {
    "id": "jJJDazBTSObA",
    "problem": 2,
    "tags": []
   },
   "source": [
    "#### Problem 2:\n",
    "Beyond integers, `numpy` can generate a list of evenly spaced values within a specified interval using `numpy.linspace()`. Use this function to create an array of 5 evenly spaced values between 0 and 20. Print the final result."
   ]
  },
  {
   "cell_type": "code",
   "execution_count": 26,
   "metadata": {
    "colab": {
     "base_uri": "https://localhost:8080/"
    },
    "executionInfo": {
     "elapsed": 2052,
     "status": "ok",
     "timestamp": 1615138656499,
     "user": {
      "displayName": "Chloe Kanders",
      "photoUrl": "",
      "userId": "07431873523441922402"
     },
     "user_tz": 300
    },
    "id": "6lfgXCT0SObC",
    "outputId": "ecae1377-6780-4af2-d437-49fc55a8ba8f"
   },
   "outputs": [
    {
     "data": {
      "text/plain": [
       "array([ 0.,  5., 10., 15., 20.])"
      ]
     },
     "execution_count": 26,
     "metadata": {},
     "output_type": "execute_result"
    }
   ],
   "source": [
    "np.linspace(0,20,5)\n",
    "#help(np.linspace)"
   ]
  },
  {
   "cell_type": "markdown",
   "metadata": {
    "problem": 3,
    "tags": []
   },
   "source": [
    "#### Problem 3:\n",
    "`numpy.zeros()` is a function to instantiate an numpy array of zeros. Use this function to create a new array of zeros with 2 rows and 4 columns with an integer datatype. Then use a nested for loop to iterate over the row and column indices, filling the entries row-wise with the integers from 30 to 37.\n",
    "\n",
    "Print the final array, as well as the data type of the first entry in the array (using the `numpy.dtype` function)."
   ]
  },
  {
   "cell_type": "code",
   "execution_count": 27,
   "metadata": {},
   "outputs": [
    {
     "name": "stdout",
     "output_type": "stream",
     "text": [
      "[[0 0 0 0]\n",
      " [0 0 0 0]]\n",
      "[0, 1]\n"
     ]
    },
    {
     "data": {
      "text/plain": [
       "array([0, 0, 0, 0])"
      ]
     },
     "execution_count": 27,
     "metadata": {},
     "output_type": "execute_result"
    }
   ],
   "source": [
    "zero_array = np.zeros((2,4), int)\n",
    "print(zero_array)\n",
    "print([*range(len(zero_array))])\n",
    "\n",
    "zero_array[1]"
   ]
  },
  {
   "cell_type": "code",
   "execution_count": 28,
   "metadata": {
    "colab": {
     "base_uri": "https://localhost:8080/"
    },
    "executionInfo": {
     "elapsed": 2044,
     "status": "ok",
     "timestamp": 1615138656500,
     "user": {
      "displayName": "Chloe Kanders",
      "photoUrl": "",
      "userId": "07431873523441922402"
     },
     "user_tz": 300
    },
    "id": "9tlqBZp9SObD",
    "outputId": "e92608b6-41da-4ee0-cbcc-a34e095d00d6",
    "scrolled": true
   },
   "outputs": [
    {
     "name": "stdout",
     "output_type": "stream",
     "text": [
      "[[37 37 37 37]\n",
      " [37 37 37 37]]\n",
      "int32\n"
     ]
    }
   ],
   "source": [
    "zero_array = np.zeros((2,4), int)\n",
    "for row in [*range(len(zero_array))]:\n",
    "     for col in [*range(len(zero_array[row]))]:\n",
    "        for num in range(30,38):\n",
    "            zero_array[row,col] = num\n",
    "\n",
    "print(zero_array)\n",
    "print(np.dtype(zero_array[0,0]))"
   ]
  },
  {
   "cell_type": "markdown",
   "metadata": {
    "id": "JxbSyX72SObG"
   },
   "source": [
    "---\n",
    "\n",
    "# Part 2: Exploratory data analysis"
   ]
  },
  {
   "cell_type": "markdown",
   "metadata": {
    "id": "3IgnZ4D8SObG",
    "problem": 4,
    "tags": []
   },
   "source": [
    "Our overarching goal in this course is to **explain variation** observed in data, which may be complex, with many observations *(rows)* and variables *(columns)*. Explaining variation involves finding the most plausible process(es) *(properties of and relationships between columns)* that generated the observations *(rows)*. To do so, we poke and prod the data in various ways to uncover patterns; this is often referred to as **exploratory data analysis**.\n",
    "\n",
    "Histograms are a good first step in exploratory data analysis as they only involve information about **one variable**. Before moving on to modelling the relationship between two or more variables, it's good to know more about each individual variable.\n",
    "\n",
    "We can easily make histograms in Python using the function `hist()` from the submodule `matplotlib.pyplot` (here's the [documentation](https://matplotlib.org/api/_as_gen/matplotlib.pyplot.hist.html), as well [a nice overview](https://jakevdp.github.io/PythonDataScienceHandbook/04.05-histograms-and-binnings.html) about how to create histograms in Python).\n",
    "\n",
    "---\n",
    "\n",
    "#### Problem 4\n",
    "Import the submodule `matplotlib.pyplot` as `plt`. Load the file `books.csv` as a `pandas DataFrame` called `books`. Plot a histogram for the `price` column using `plt.hist()`. Label the $x-$ and $y-$axes with \"book price\" and \"count\", respectively. Explain why the histogram is not useful."
   ]
  },
  {
   "cell_type": "code",
   "execution_count": 29,
   "metadata": {
    "colab": {
     "base_uri": "https://localhost:8080/",
     "height": 279
    },
    "executionInfo": {
     "elapsed": 2033,
     "status": "ok",
     "timestamp": 1615138656501,
     "user": {
      "displayName": "Chloe Kanders",
      "photoUrl": "",
      "userId": "07431873523441922402"
     },
     "user_tz": 300
    },
    "id": "XR6fyYHrSObG",
    "outputId": "b1d4f331-5019-4749-c69c-03b79e5d43ca"
   },
   "outputs": [
    {
     "data": {
      "text/plain": [
       "Text(0, 0.5, 'count')"
      ]
     },
     "execution_count": 29,
     "metadata": {},
     "output_type": "execute_result"
    },
    {
     "data": {
      "image/png": "[encoded data removed]",
      "text/plain": [
       "<Figure size 432x288 with 1 Axes>"
      ]
     },
     "metadata": {
      "needs_background": "light"
     },
     "output_type": "display_data"
    }
   ],
   "source": [
    "import matplotlib.pyplot as plt\n",
    "books = pd.read_csv(\"books.csv\")\n",
    "plt.hist(books[\"price\"])\n",
    "plt.xlabel('book price')\n",
    "plt.ylabel('count')\n"
   ]
  },
  {
   "cell_type": "markdown",
   "metadata": {
    "id": "LPNjRpMFSObI"
   },
   "source": [
    "This histogram is not useful because it includes at least one book with a very large price, so the majority of the data is depicted in one bin. As a result, the histogram does not give us a lot of information about the distribution of the price of most books in the dataset."
   ]
  },
  {
   "cell_type": "markdown",
   "metadata": {
    "id": "O8niKAe1SObI",
    "problem": 5,
    "tags": []
   },
   "source": [
    "#### Problem 5: \n",
    "\n",
    "Update the `books` dataframe to exclude the observation with the largest book price and re-make the histogram from problem 4 with the updated dataframe. \n",
    "\n",
    "**Note:** all subsequent problems should use the updated `books` data frame, which excludes the row corresponding to the largest book price in the original data."
   ]
  },
  {
   "cell_type": "code",
   "execution_count": 30,
   "metadata": {
    "colab": {
     "base_uri": "https://localhost:8080/",
     "height": 279
    },
    "executionInfo": {
     "elapsed": 2250,
     "status": "ok",
     "timestamp": 1615138656730,
     "user": {
      "displayName": "Chloe Kanders",
      "photoUrl": "",
      "userId": "07431873523441922402"
     },
     "user_tz": 300
    },
    "id": "KONzOA5YSObJ",
    "outputId": "6e13f43c-daaa-4765-c53b-d4efd20fa43d"
   },
   "outputs": [
    {
     "data": {
      "text/plain": [
       "Text(0, 0.5, 'count')"
      ]
     },
     "execution_count": 30,
     "metadata": {},
     "output_type": "execute_result"
    },
    {
     "data": {
      "image/png": "[encoded data removed]",
      "text/plain": [
       "<Figure size 432x288 with 1 Axes>"
      ]
     },
     "metadata": {
      "needs_background": "light"
     },
     "output_type": "display_data"
    }
   ],
   "source": [
    "over_priced = books.loc[books.price.idxmax()]\n",
    "books = books.drop(books.price.idxmax())\n",
    "plt.hist(books[\"price\"], bins = 100)\n",
    "plt.xlabel('book price')\n",
    "plt.ylabel('count')"
   ]
  },
  {
   "cell_type": "markdown",
   "metadata": {
    "id": "60fR6R70SObK"
   },
   "source": [
    "---\n",
    "\n",
    "This distribution has two peaks: one around fifteen dollars and one around twenty-seven. Why might this distribution have two peaks...? (See [here](https://www.slj.com/?detailStory=sljs-average-book-prices-2018) for a hint.) Knowing that the distribution of book prices has two peaks (and having an idea of what might drive this pattern) could affect modelling choices we make down the line.\n",
    "\n",
    "A small group of observations that are significantly far from the bulk of the data are called **outliers**. Outliers may be interesting points to investigate further, or they may result from data entry errors. In this case, notice that the maximum book price in the original data set is about 100x larger than the rest of the prices. This likely resulted from this price being entered without a decimal point, and so is probably a simple data entry error.\n",
    "\n",
    "Histograms are one way to detect outliers. In general, histograms can allow us to **detect outliers** within single variables of our data. We can usually correct for these outliers, but only if we know about them! Consider experimenting with the `range` and `bin` parameters within the `hist()` function (ex: hist(bins=100)) to familiarize yourself with different ways of visualizing data and accounting for outliers."
   ]
  },
  {
   "cell_type": "markdown",
   "metadata": {},
   "source": [
    "\n",
    "\n",
    "#### Problem 6:\n",
    "Lets examine how the price of a book might vary as a function of its publication year (Perhaps older, rarer, books command a premium?). Loop over the publication years listed in books, and produce a plot of the average price of books as a function of year. When iterating through each publication year, use a list comprehension rather than a groupby or for loop.  (Please note that in general, groupby is preferred for this operation, use a list comprehension for pedagogical reasons).  Be sure to approriately label your axes.  Do you see any discernible trend?\n",
    "\n",
    "*Hint: You may find it useful to [subset your dataframe](https://pandas.pydata.org/pandas-docs/stable/user_guide/indexing.html#the-where-method-and-masking) for each year and the use the `.mean()` on the price column.  You will also want to sort your years to produce a nice graph, look up np.sort.*"
   ]
  },
  {
   "cell_type": "code",
   "execution_count": 31,
   "metadata": {},
   "outputs": [
    {
     "data": {
      "text/plain": [
       "Text(0, 0.5, 'average price')"
      ]
     },
     "execution_count": 31,
     "metadata": {},
     "output_type": "execute_result"
    },
    {
     "data": {
      "image/png": "[encoded data removed]",
      "text/plain": [
       "<Figure size 432x288 with 1 Axes>"
      ]
     },
     "metadata": {
      "needs_background": "light"
     },
     "output_type": "display_data"
    }
   ],
   "source": [
    "books.sort_values(\"publication_year\", ascending = True)\n",
    "mean_by_year = [books.loc[books.publication_year == year].price.mean() for year in books.publication_year]\n",
    "plt.hist(mean_by_year)\n",
    "plt.xlabel('year')\n",
    "plt.ylabel(\"average price\")"
   ]
  },
  {
   "cell_type": "markdown",
   "metadata": {
    "id": "vgJkyVWfSObN",
    "problem": 7,
    "tags": []
   },
   "source": [
    "#### Problem 7\n",
    "Create a histogram of the number of books published ($y-$axis) per genre ($x-$axis). Be sure to clearly label each axis and give the chart an appropriate title. "
   ]
  },
  {
   "cell_type": "code",
   "execution_count": 32,
   "metadata": {
    "colab": {
     "base_uri": "https://localhost:8080/",
     "height": 295
    },
    "executionInfo": {
     "elapsed": 3058,
     "status": "ok",
     "timestamp": 1615138657548,
     "user": {
      "displayName": "Chloe Kanders",
      "photoUrl": "",
      "userId": "07431873523441922402"
     },
     "user_tz": 300
    },
    "id": "YkRUIVZ7SObN",
    "outputId": "c931f793-c20d-4ff7-e622-765cbe993815"
   },
   "outputs": [
    {
     "data": {
      "text/plain": [
       "Text(0.5, 1.0, 'Books Published By Genre')"
      ]
     },
     "execution_count": 32,
     "metadata": {},
     "output_type": "execute_result"
    },
    {
     "data": {
      "image/png": "[encoded data removed]",
      "text/plain": [
       "<Figure size 432x288 with 1 Axes>"
      ]
     },
     "metadata": {
      "needs_background": "light"
     },
     "output_type": "display_data"
    }
   ],
   "source": [
    "#books.head(4)\n",
    "plt.hist(books[\"genre\"])\n",
    "plt.xlabel('year')\n",
    "plt.ylabel(\"Number of Books\")\n",
    "plt.title(\"Books Published By Genre\")"
   ]
  },
  {
   "cell_type": "markdown",
   "metadata": {
    "id": "UuRcpAGpSObP",
    "problem": 8,
    "tags": []
   },
   "source": [
    "#### Problem 8\n",
    "\n",
    "For each genre, calculate the mean and standard deviation for book prices within that genre and print the results. Do this with a regular for loop, later we'll use a groupby.\n",
    "\n",
    "**When printing numbers throughout this notebook, please round to two decimal places and provide context for the number.** \n",
    "\n",
    "*(**Hint:** A pandas column is usually accessed as a `pandas.Series` (a one-dimensional array). These arrays have methods to calculate summary statistics, like the mean, median, variance, and standard deviation.)*"
   ]
  },
  {
   "cell_type": "code",
   "execution_count": 33,
   "metadata": {},
   "outputs": [
    {
     "name": "stdout",
     "output_type": "stream",
     "text": [
      "The mean by genre is: genre\n",
      "Fantasy            20.97\n",
      "Horror             21.33\n",
      "Mystery Fiction    20.71\n",
      "Romance            22.53\n",
      "Young Adult        21.55\n",
      "Name: price, dtype: float64\n",
      "The std by genre is: genre\n",
      "Fantasy            5.89\n",
      "Horror             5.96\n",
      "Mystery Fiction    6.28\n",
      "Romance            5.91\n",
      "Young Adult        7.19\n",
      "Name: price, dtype: float64\n",
      "The variance by genre is: genre\n",
      "Fantasy            34.71\n",
      "Horror             35.53\n",
      "Mystery Fiction    39.40\n",
      "Romance            34.92\n",
      "Young Adult        51.65\n",
      "Name: price, dtype: float64\n"
     ]
    }
   ],
   "source": [
    "# for genre in books.genre:\n",
    "#     prices = []\n",
    "#     for price in books.price:\n",
    "#         prices.append(price)\n",
    "#         mean = sum(prices)/len(prices)\n",
    "# print(mean)\n",
    "\n",
    "mean_books_by_genre = books.groupby(['genre'])['price'].mean().round(2)\n",
    "std_books_by_genre = books.groupby(['genre'])['price'].std().round(2)\n",
    "var_books_by_genre = books.groupby(['genre'])['price'].var().round(2)\n",
    "print(f\"The mean by genre is: {mean_books_by_genre}\")\n",
    "print(f\"The std by genre is: {std_books_by_genre}\")\n",
    "print(f\"The variance by genre is: {var_books_by_genre}\")"
   ]
  },
  {
   "cell_type": "markdown",
   "metadata": {
    "id": "jpVIBDg1SObS",
    "problem": 9,
    "tags": []
   },
   "source": [
    "#### Problem 9\n",
    "Normalization is a technique which is often applied to data for purposes of hypothesis testing and for ease of analysis.  Divide all Fantasy book prices by the corresponding standard deviation calculated above, and then recalculate the variance and standard deviation of this newly scaled data and print the results.  Give a comment explaining why your new results make sense."
   ]
  },
  {
   "cell_type": "code",
   "execution_count": 34,
   "metadata": {
    "colab": {
     "base_uri": "https://localhost:8080/"
    },
    "executionInfo": {
     "elapsed": 3055,
     "status": "ok",
     "timestamp": 1615138657552,
     "user": {
      "displayName": "Chloe Kanders",
      "photoUrl": "",
      "userId": "07431873523441922402"
     },
     "user_tz": 300
    },
    "id": "wS8fBss5SObT",
    "outputId": "b0aa37c5-5cf9-4995-cd72-56c2f64c8ef5"
   },
   "outputs": [
    {
     "name": "stdout",
     "output_type": "stream",
     "text": [
      "The new standard deviation is 1.0002256168361807.\n",
      "The new variance is 1.0004512845753182.\n"
     ]
    },
    {
     "name": "stderr",
     "output_type": "stream",
     "text": [
      "<ipython-input-34-f0841a1b3362>:2: SettingWithCopyWarning: \n",
      "A value is trying to be set on a copy of a slice from a DataFrame.\n",
      "Try using .loc[row_indexer,col_indexer] = value instead\n",
      "\n",
      "See the caveats in the documentation: https://pandas.pydata.org/pandas-docs/stable/user_guide/indexing.html#returning-a-view-versus-a-copy\n",
      "  fantasy_books['normalized_price'] = [price/std_books_by_genre.loc[\"Fantasy\"] for price in fantasy_books.price]\n"
     ]
    }
   ],
   "source": [
    "fantasy_books = books.loc[books['genre'] == \"Fantasy\"]\n",
    "fantasy_books['normalized_price'] = [price/std_books_by_genre.loc[\"Fantasy\"] for price in fantasy_books.price]\n",
    "new_fantasy_books_std = fantasy_books['normalized_price'].std()\n",
    "new_fantasy_books_var = fantasy_books['normalized_price'].var()\n",
    "\n",
    "print(f\"The new standard deviation is {new_fantasy_books_std}.\")\n",
    "print(f\"The new variance is {new_fantasy_books_var}.\")"
   ]
  },
  {
   "cell_type": "markdown",
   "metadata": {
    "id": "LPsJh65PSObX",
    "problem": 10,
    "tags": []
   },
   "source": [
    "#### Problem 10\n",
    "Now, multiply the unnormalized fantasy book price data by 2, and compute both the standard deviation and variance of this data. How does it compare to the standard deviation and variance computed in problem 8?  Specifically, compute the ratio of these standard deviations and variances, and briefly explain how scaling the data by a factor of two changed these quantities.  When comparing the ratio of variances to ratio of standard deviations, why would this finding make sense?"
   ]
  },
  {
   "cell_type": "code",
   "execution_count": 35,
   "metadata": {
    "colab": {
     "base_uri": "https://localhost:8080/"
    },
    "executionInfo": {
     "elapsed": 3052,
     "status": "ok",
     "timestamp": 1615138657555,
     "user": {
      "displayName": "Chloe Kanders",
      "photoUrl": "",
      "userId": "07431873523441922402"
     },
     "user_tz": 300
    },
    "id": "wDYNnp2tSObY",
    "outputId": "b97e65b0-8ca1-4c1d-eb64-a997f2723cc1"
   },
   "outputs": [
    {
     "name": "stdout",
     "output_type": "stream",
     "text": [
      "The new std is 11.78 and the new variance is 138.83. Here we can see that the std increased by a ratio of 2.0, and the variance increased by a ratio of 4.0. This finding makes sense, since variance is the squareroot of the std.\n"
     ]
    }
   ],
   "source": [
    "new_price = fantasy_books.price * 2\n",
    "big_std = round(new_price.std(), 2)\n",
    "big_var = round(new_price.var(), 2)\n",
    "\n",
    "std_ratio = big_std/ std_books_by_genre.loc[\"Fantasy\"]\n",
    "std_ratio = std_ratio.round(2)\n",
    "var_ratio = big_var/var_books_by_genre.loc[\"Fantasy\"]\n",
    "var_ratio = var_ratio.round(2)\n",
    "\n",
    "print(f\"The new std is {big_std} and the new variance is {big_var}. \\\n",
    "Here we can see that the std increased by a ratio of {std_ratio}, and the variance \\\n",
    "increased by a ratio of {var_ratio}. This finding makes sense, since variance is the squareroot \\\n",
    "of the std.\")"
   ]
  },
  {
   "cell_type": "markdown",
   "metadata": {
    "id": "A8AgjGxzSObe",
    "problem": 11,
    "tags": []
   },
   "source": [
    "#### Problem 11\n",
    "\n",
    "A [box plot](https://pandas.pydata.org/pandas-docs/stable/reference/api/pandas.DataFrame.boxplot.html) depicts the distribution of a numerical variable based on different categorical groups. The box edges are defined by the first and third quartiles of the data, with a line at the median (the second quartile). The whiskers extend from the edges of box to show the range of (most of) the data. Some boxplot methods use the whiskers to show the *entire* range of the data, while others go to some multiple of the standard deviation (usually 1.5$\\sigma$ or 2$\\sigma$) and represent data beyond that (outliers) by single points.\n",
    "\n",
    "Use `pandas` to create a box plot of our price data grouped by genre. Which genre has the largest price range? Which has the largest median?"
   ]
  },
  {
   "cell_type": "code",
   "execution_count": 36,
   "metadata": {
    "colab": {
     "base_uri": "https://localhost:8080/",
     "height": 355
    },
    "executionInfo": {
     "elapsed": 3198,
     "status": "ok",
     "timestamp": 1615138657706,
     "user": {
      "displayName": "Chloe Kanders",
      "photoUrl": "",
      "userId": "07431873523441922402"
     },
     "user_tz": 300
    },
    "id": "kpaMvQI-SObe",
    "outputId": "a1c9a89c-41ab-4a0a-e7c4-d3025374007d"
   },
   "outputs": [
    {
     "name": "stdout",
     "output_type": "stream",
     "text": [
      "Here we can see that the yound adult genre has the largest price range.\n"
     ]
    },
    {
     "data": {
      "image/png": "[encoded data removed]",
      "text/plain": [
       "<Figure size 432x288 with 1 Axes>"
      ]
     },
     "metadata": {
      "needs_background": "light"
     },
     "output_type": "display_data"
    }
   ],
   "source": [
    "#price_by_genre = books.groupby(['genre'])['price']\n",
    "books.boxplot('price', by='genre')\n",
    "plt.tight_layout()\n",
    "print(\"Here we can see that the yound adult genre has the largest price range.\")"
   ]
  },
  {
   "cell_type": "markdown",
   "metadata": {
    "id": "z3K-yqYQSObg"
   },
   "source": [
    "#### Problem 12\n",
    "Calculate the mean and standard deviation of the price of all books published from 2010 on (inclusive).\n",
    "\n",
    "**Remember to print your answer with context and rounded to two decimal places.**\n",
    "\n",
    "*(**Hint:** you may find the the `pandas` `DataFrame` method [`.describe()`](https://pandas.pydata.org/pandas-docs/stable/reference/api/pandas.DataFrame.describe.html) useful.)*"
   ]
  },
  {
   "cell_type": "code",
   "execution_count": 37,
   "metadata": {
    "colab": {
     "base_uri": "https://localhost:8080/"
    },
    "executionInfo": {
     "elapsed": 3197,
     "status": "ok",
     "timestamp": 1615138657708,
     "user": {
      "displayName": "Chloe Kanders",
      "photoUrl": "",
      "userId": "07431873523441922402"
     },
     "user_tz": 300
    },
    "id": "MIqc-qfaSObh",
    "outputId": "51bbee3e-9d6d-46f8-e97c-b13355d29ff1"
   },
   "outputs": [
    {
     "name": "stdout",
     "output_type": "stream",
     "text": [
      "The mean price for books published on or after 2010 is 21.05, and the standard deviation for these years is 6.2.\n"
     ]
    }
   ],
   "source": [
    "\n",
    "books_after_2010 = books.loc[books['publication_year'] >= 2010]\n",
    "mean_price_2010 = round( books_after_2010[\"price\"].mean(), 2)\n",
    "std_price_2010 = round( books_after_2010[\"price\"].std(), 2)\n",
    "\n",
    "print(f\"The mean price for books published on or after 2010 is {mean_price_2010}, and the \\\n",
    "standard deviation for these years is {std_price_2010}.\")\n",
    "\n"
   ]
  },
  {
   "cell_type": "markdown",
   "metadata": {
    "id": "_DIAPHwESObm",
    "problem": 13,
    "tags": []
   },
   "source": [
    "#### Problem 13\n",
    "In part 8, we used a for loop to compute mean price as a function of genre.  Now, use the `pandas` `DataFrame` `.groupby()` method to group the data by genre and calculate the mean price for each group, your results should match those earlier computed.\n",
    "\n",
    "**Print your answer with context, rounded to two decimal places**\n",
    "\n",
    "*(**Hint:** `pandas` `DataFrame` objects have a `.mean()` method.)*"
   ]
  },
  {
   "cell_type": "code",
   "execution_count": 38,
   "metadata": {
    "colab": {
     "base_uri": "https://localhost:8080/"
    },
    "executionInfo": {
     "elapsed": 3196,
     "status": "ok",
     "timestamp": 1615138657711,
     "user": {
      "displayName": "Chloe Kanders",
      "photoUrl": "",
      "userId": "07431873523441922402"
     },
     "user_tz": 300
    },
    "id": "LsLwJCZHSObm",
    "outputId": "3dd005e7-9407-468f-c7ce-41694cbe6928"
   },
   "outputs": [
    {
     "name": "stdout",
     "output_type": "stream",
     "text": [
      "The mean by genre is: genre\n",
      "Fantasy            20.97\n",
      "Horror             21.33\n",
      "Mystery Fiction    20.71\n",
      "Romance            22.53\n",
      "Young Adult        21.55\n",
      "Name: price, dtype: float64\n"
     ]
    }
   ],
   "source": [
    "mean_books_by_genre = books.groupby(['genre'])['price'].mean().round(2)\n",
    "print(f\"The mean by genre is: {mean_books_by_genre}\")"
   ]
  },
  {
   "cell_type": "markdown",
   "metadata": {
    "id": "KGpjJudeSObo",
    "problem": 14,
    "tags": []
   },
   "source": [
    "---\n",
    "\n",
    "## Part 3: From web scraping to web crawling\n",
    "\n",
    "#### Problem 14\n",
    "The web scraping example from discussion section using the `requests` and`BeautifulSoup` packages demonstrated how to extract paragraphs from a Wikipedia page. What if we were interested in all the content related to that topic, which may span several articles, stored on different web pages? Wikipedia conveniently includes hyperlinks to other Wikipedia pages for related content within the body of an article's web page.\n",
    "\n",
    "For this problem use `requests` and`BeautifulSoup` to extract a list of all the `<a>` tags within the text body of the [Data Science](https://en.wikipedia.org/wiki/Data_science) page. These `<a>` tags define a hyperlink and contain an href attribute, which contain the hyperlink's destination. \n",
    "\n",
    "_(**Hint:** the provided example already demonstrates how to find all the HTML `<p>` tags. Within those paragraphs is another element to identify hyperlinks, the `<a>` tag, which can be found using the `.findAll()` method for `BeautifulSoup` objects.)_\n",
    "\n",
    "**Confidence check: this list should contain the first ten elements:\n",
    "```\n",
    "[<a class=\"mw-redirect\" href=\"/wiki/Inter-disciplinary\" title=\"Inter-disciplinary\">inter-disciplinary</a>,\n",
    " <a href=\"/wiki/Knowledge\" title=\"Knowledge\">knowledge</a>,\n",
    " <a href=\"/wiki/Unstructured_data\" title=\"Unstructured data\">unstructured data</a>,\n",
    " <a href=\"#cite_note-1\">[1]</a>,\n",
    " <a href=\"#cite_note-2\">[2]</a>,\n",
    " <a href=\"/wiki/Data_mining\" title=\"Data mining\">data mining</a>,\n",
    " <a href=\"/wiki/Machine_learning\" title=\"Machine learning\">machine learning</a>,\n",
    " <a href=\"/wiki/Big_data\" title=\"Big data\">big data</a>,\n",
    " <a href=\"/wiki/Statistics\" title=\"Statistics\">statistics</a>,\n",
    " <a href=\"/wiki/Data_analysis\" title=\"Data analysis\">data analysis</a>]\n",
    " ```\n",
    "\n"
   ]
  },
  {
   "cell_type": "code",
   "execution_count": 39,
   "metadata": {
    "colab": {
     "base_uri": "https://localhost:8080/"
    },
    "executionInfo": {
     "elapsed": 3187,
     "status": "ok",
     "timestamp": 1615138657712,
     "user": {
      "displayName": "Chloe Kanders",
      "photoUrl": "",
      "userId": "07431873523441922402"
     },
     "user_tz": 300
    },
    "id": "U_NnDYJYSObp",
    "outputId": "e5c5d008-7851-4004-89de-c323861dce82"
   },
   "outputs": [
    {
     "name": "stdout",
     "output_type": "stream",
     "text": [
      "<a href=\"/wiki/Wikipedia:Verifiability\" title=\"Wikipedia:Verifiability\">verification</a>\n",
      "<a class=\"external text\" href=\"https://en.wikipedia.org/w/index.php?title=Web_scraping&amp;action=edit\">improve this article</a>\n",
      "<a href=\"/wiki/Help:Referencing_for_beginners\" title=\"Help:Referencing for beginners\">adding citations to reliable sources</a>\n",
      "<a class=\"external text\" href=\"//www.google.com/search?as_eq=wikipedia&amp;q=%22Web+scraping%22\" rel=\"nofollow\">\"Web scraping\"</a>\n",
      "<a class=\"external text\" href=\"//www.google.com/search?tbm=nws&amp;q=%22Web+scraping%22+-wikipedia\" rel=\"nofollow\">news</a>\n",
      "<a class=\"external text\" href=\"//www.google.com/search?&amp;q=%22Web+scraping%22&amp;tbs=bkt:s&amp;tbm=bks\" rel=\"nofollow\">newspapers</a>\n",
      "<a class=\"external text\" href=\"//www.google.com/search?tbs=bks:1&amp;q=%22Web+scraping%22+-wikipedia\" rel=\"nofollow\">books</a>\n",
      "<a class=\"external text\" href=\"//scholar.google.com/scholar?q=%22Web+scraping%22\" rel=\"nofollow\">scholar</a>\n",
      "<a class=\"external text\" href=\"https://www.jstor.org/action/doBasicSearch?Query=%22Web+scraping%22&amp;acc=on&amp;wc=on\" rel=\"nofollow\">JSTOR</a>\n",
      "<a href=\"/wiki/Help:Maintenance_template_removal\" title=\"Help:Maintenance template removal\">Learn how and when to remove this template message</a>\n",
      "<a href=\"/wiki/Data_scraping\" title=\"Data scraping\">Data scraping</a>\n",
      "<a href=\"/wiki/Data_scraping\" title=\"Data scraping\">data scraping</a>\n",
      "<a href=\"/wiki/Data_extraction\" title=\"Data extraction\">extracting data</a>\n",
      "<a href=\"/wiki/Website\" title=\"Website\">websites</a>\n",
      "<a href=\"/wiki/World_Wide_Web\" title=\"World Wide Web\">World Wide Web</a>\n",
      "<a href=\"/wiki/Hypertext_Transfer_Protocol\" title=\"Hypertext Transfer Protocol\">Hypertext Transfer Protocol</a>\n",
      "<a href=\"/wiki/Internet_bot\" title=\"Internet bot\">bot</a>\n",
      "<a href=\"/wiki/Web_crawler\" title=\"Web crawler\">web crawler</a>\n",
      "<a href=\"/wiki/Database\" title=\"Database\">database</a>\n",
      "<a href=\"/wiki/Data_retrieval\" title=\"Data retrieval\">retrieval</a>\n",
      "<a href=\"/wiki/Data_analysis\" title=\"Data analysis\">analysis</a>\n",
      "<a href=\"/wiki/Parsing\" title=\"Parsing\">parsed</a>\n",
      "<a href=\"/wiki/Contact_scraping\" title=\"Contact scraping\">contact scraping</a>\n",
      "<a href=\"/wiki/Web_indexing\" title=\"Web indexing\">web indexing</a>\n",
      "<a href=\"/wiki/Web_mining\" title=\"Web mining\">web mining</a>\n",
      "<a href=\"/wiki/Data_mining\" title=\"Data mining\">data mining</a>\n",
      "<a href=\"/wiki/Comparison_shopping_website\" title=\"Comparison shopping website\">price comparison</a>\n",
      "<a href=\"/wiki/Change_detection_and_notification\" title=\"Change detection and notification\">website change detection</a>\n",
      "<a class=\"mw-redirect\" href=\"/wiki/Web_mashup\" title=\"Web mashup\">web mashup</a>\n",
      "<a href=\"/wiki/Web_data_integration\" title=\"Web data integration\">web data integration</a>\n",
      "<a href=\"/wiki/Web_page\" title=\"Web page\">Web pages</a>\n",
      "<a href=\"/wiki/HTML\" title=\"HTML\">HTML</a>\n",
      "<a href=\"/wiki/XHTML\" title=\"XHTML\">XHTML</a>\n",
      "<a class=\"mw-redirect\" href=\"/wiki/End-user_(computer_science)\" title=\"End-user (computer science)\">end-users</a>\n",
      "<a href=\"/wiki/JSON\" title=\"JSON\">JSON</a>\n",
      "<a href=\"/wiki/Document_Object_Model\" title=\"Document Object Model\">DOM</a>\n",
      "<a href=\"/wiki/Computer_vision\" title=\"Computer vision\">computer vision</a>\n",
      "<a href=\"/wiki/Natural_language_processing\" title=\"Natural language processing\">natural language processing</a>\n",
      "<a href=\"#History\"><span class=\"tocnumber\">1</span> <span class=\"toctext\">History</span></a>\n",
      "<a href=\"#Techniques\"><span class=\"tocnumber\">2</span> <span class=\"toctext\">Techniques</span></a>\n",
      "<a href=\"#Human_copy-and-paste\"><span class=\"tocnumber\">2.1</span> <span class=\"toctext\">Human copy-and-paste</span></a>\n",
      "<a href=\"#Text_pattern_matching\"><span class=\"tocnumber\">2.2</span> <span class=\"toctext\">Text pattern matching</span></a>\n",
      "<a href=\"#HTTP_programming\"><span class=\"tocnumber\">2.3</span> <span class=\"toctext\">HTTP programming</span></a>\n",
      "<a href=\"#HTML_parsing\"><span class=\"tocnumber\">2.4</span> <span class=\"toctext\">HTML parsing</span></a>\n",
      "<a href=\"#DOM_parsing\"><span class=\"tocnumber\">2.5</span> <span class=\"toctext\">DOM parsing</span></a>\n",
      "<a href=\"#Vertical_aggregation\"><span class=\"tocnumber\">2.6</span> <span class=\"toctext\">Vertical aggregation</span></a>\n",
      "<a href=\"#Semantic_annotation_recognizing\"><span class=\"tocnumber\">2.7</span> <span class=\"toctext\">Semantic annotation recognizing</span></a>\n",
      "<a href=\"#Computer_vision_web-page_analysis\"><span class=\"tocnumber\">2.8</span> <span class=\"toctext\">Computer vision web-page analysis</span></a>\n",
      "<a href=\"#Software\"><span class=\"tocnumber\">3</span> <span class=\"toctext\">Software</span></a>\n",
      "<a href=\"#Legal_issues\"><span class=\"tocnumber\">4</span> <span class=\"toctext\">Legal issues</span></a>\n",
      "<a href=\"#United_States\"><span class=\"tocnumber\">4.1</span> <span class=\"toctext\">United States</span></a>\n",
      "<a href=\"#European_Union\"><span class=\"tocnumber\">4.2</span> <span class=\"toctext\">European Union</span></a>\n",
      "<a href=\"#Australia\"><span class=\"tocnumber\">4.3</span> <span class=\"toctext\">Australia</span></a>\n",
      "<a href=\"#India\"><span class=\"tocnumber\">4.4</span> <span class=\"toctext\">India</span></a>\n",
      "<a href=\"#Methods_to_prevent_web_scraping\"><span class=\"tocnumber\">5</span> <span class=\"toctext\">Methods to prevent web scraping</span></a>\n",
      "<a href=\"#See_also\"><span class=\"tocnumber\">6</span> <span class=\"toctext\">See also</span></a>\n",
      "<a href=\"#References\"><span class=\"tocnumber\">7</span> <span class=\"toctext\">References</span></a>\n",
      "<a href=\"/w/index.php?title=Web_scraping&amp;action=edit&amp;section=1\" title=\"Edit section: History\">edit</a>\n",
      "<a class=\"image\" href=\"/wiki/File:Question_book-new.svg\"><img alt=\"\" data-file-height=\"399\" data-file-width=\"512\" decoding=\"async\" height=\"39\" src=\"//upload.wikimedia.org/wikipedia/en/thumb/9/99/Question_book-new.svg/50px-Question_book-new.svg.png\" srcset=\"//upload.wikimedia.org/wikipedia/en/thumb/9/99/Question_book-new.svg/75px-Question_book-new.svg.png 1.5x, //upload.wikimedia.org/wikipedia/en/thumb/9/99/Question_book-new.svg/100px-Question_book-new.svg.png 2x\" width=\"50\"/></a>\n",
      "<a href=\"/wiki/Wikipedia:Citing_sources\" title=\"Wikipedia:Citing sources\">cite</a>\n",
      "<a href=\"/wiki/Wikipedia:Verifiability\" title=\"Wikipedia:Verifiability\">sources</a>\n",
      "<a class=\"external text\" href=\"https://en.wikipedia.org/w/index.php?title=Web_scraping&amp;action=edit\">improve this section</a>\n",
      "<a href=\"/wiki/Help:Referencing_for_beginners\" title=\"Help:Referencing for beginners\">adding citations to reliable sources</a>\n",
      "<a href=\"/wiki/Wikipedia:Verifiability#Burden_of_evidence\" title=\"Wikipedia:Verifiability\">removed</a>\n",
      "<a href=\"/wiki/Help:Maintenance_template_removal\" title=\"Help:Maintenance template removal\">Learn how and when to remove this template message</a>\n",
      "<a href=\"/wiki/History_of_the_World_Wide_Web\" title=\"History of the World Wide Web\"><b>World Wide Web</b></a>\n",
      "<a href=\"#cite_note-1\">[1]</a>\n",
      "<a href=\"/wiki/World_Wide_Web_Wanderer\" title=\"World Wide Web Wanderer\">World Wide Web Wanderer</a>\n",
      "<a href=\"/wiki/JumpStation\" title=\"JumpStation\">JumpStation</a>\n",
      "<a class=\"mw-redirect\" href=\"/wiki/Application_programming_interface\" title=\"Application programming interface\">API</a>\n",
      "<a class=\"mw-redirect\" href=\"/wiki/Salesforce.com\" title=\"Salesforce.com\">Salesforce</a>\n",
      "<a href=\"/wiki/EBay\" title=\"EBay\">eBay</a>\n",
      "<a href=\"/w/index.php?title=Web_scraping&amp;action=edit&amp;section=2\" title=\"Edit section: Techniques\">edit</a>\n",
      "<a class=\"mw-redirect\" href=\"/wiki/Semantic_web\" title=\"Semantic web\">semantic web</a>\n",
      "<a class=\"mw-redirect\" href=\"/wiki/Human-computer_interaction\" title=\"Human-computer interaction\">human-computer interactions</a>\n",
      "<a href=\"/w/index.php?title=Web_scraping&amp;action=edit&amp;section=3\" title=\"Edit section: Human copy-and-paste\">edit</a>\n",
      "<a href=\"/w/index.php?title=Web_scraping&amp;action=edit&amp;section=4\" title=\"Edit section: Text pattern matching\">edit</a>\n",
      "<a href=\"/wiki/Grep\" title=\"Grep\">grep</a>\n",
      "<a href=\"/wiki/Regular_expression\" title=\"Regular expression\">regular expression</a>\n",
      "<a href=\"/wiki/Perl\" title=\"Perl\">Perl</a>\n",
      "<a href=\"/wiki/Python_(programming_language)\" title=\"Python (programming language)\">Python</a>\n",
      "<a href=\"/w/index.php?title=Web_scraping&amp;action=edit&amp;section=5\" title=\"Edit section: HTTP programming\">edit</a>\n",
      "<a href=\"/wiki/Static_web_page\" title=\"Static web page\">Static</a>\n",
      "<a href=\"/wiki/Dynamic_web_page\" title=\"Dynamic web page\">dynamic web pages</a>\n",
      "<a class=\"mw-redirect\" href=\"/wiki/Socket_programming\" title=\"Socket programming\">socket programming</a>\n",
      "<a href=\"/w/index.php?title=Web_scraping&amp;action=edit&amp;section=6\" title=\"Edit section: HTML parsing\">edit</a>\n",
      "<a href=\"/wiki/Wrapper_(data_mining)\" title=\"Wrapper (data mining)\">wrapper</a>\n",
      "<a href=\"#cite_note-2\">[2]</a>\n",
      "<a href=\"/wiki/Semi-structured_data\" title=\"Semi-structured data\">semi-structured data</a>\n",
      "<a href=\"/wiki/XQuery\" title=\"XQuery\">XQuery</a>\n",
      "<a href=\"/w/index.php?title=Web_scraping&amp;action=edit&amp;section=7\" title=\"Edit section: DOM parsing\">edit</a>\n",
      "<a href=\"/wiki/Document_Object_Model\" title=\"Document Object Model\">Document Object Model</a>\n",
      "<a href=\"/wiki/Internet_Explorer\" title=\"Internet Explorer\">Internet Explorer</a>\n",
      "<a href=\"/wiki/Mozilla\" title=\"Mozilla\">Mozilla</a>\n",
      "<a href=\"/wiki/XPath\" title=\"XPath\">Xpath</a>\n",
      "<a href=\"/w/index.php?title=Web_scraping&amp;action=edit&amp;section=8\" title=\"Edit section: Vertical aggregation\">edit</a>\n",
      "<a class=\"mw-redirect\" href=\"/wiki/Long_Tail\" title=\"Long Tail\">Long Tail</a>\n",
      "<a href=\"/w/index.php?title=Web_scraping&amp;action=edit&amp;section=9\" title=\"Edit section: Semantic annotation recognizing\">edit</a>\n",
      "<a href=\"/wiki/Metadata\" title=\"Metadata\">metadata</a>\n",
      "<a href=\"/wiki/Microformat\" title=\"Microformat\">Microformat</a>\n",
      "<a href=\"#cite_note-3\">[3]</a>\n",
      "<a href=\"/w/index.php?title=Web_scraping&amp;action=edit&amp;section=10\" title=\"Edit section: Computer vision web-page analysis\">edit</a>\n",
      "<a href=\"/wiki/Machine_learning\" title=\"Machine learning\">machine learning</a>\n",
      "<a href=\"/wiki/Computer_vision\" title=\"Computer vision\">computer vision</a>\n",
      "<a href=\"#cite_note-4\">[4]</a>\n",
      "<a href=\"/w/index.php?title=Web_scraping&amp;action=edit&amp;section=11\" title=\"Edit section: Software\">edit</a>\n",
      "<a href=\"/w/index.php?title=Web_scraping&amp;action=edit&amp;section=12\" title=\"Edit section: Legal issues\">edit</a>\n",
      "<a href=\"/wiki/Wikipedia:WikiProject_Countering_systemic_bias\" title=\"Wikipedia:WikiProject Countering systemic bias\">worldwide view</a>\n",
      "<a class=\"external text\" href=\"https://en.wikipedia.org/w/index.php?title=Web_scraping&amp;action=edit\">improve this section</a>\n",
      "<a href=\"/wiki/Talk:Web_scraping\" title=\"Talk:Web scraping\">talk page</a>\n",
      "<a href=\"/wiki/Help:Maintenance_template_removal\" title=\"Help:Maintenance template removal\">Learn how and when to remove this template message</a>\n",
      "<a class=\"mw-redirect\" href=\"/wiki/Terms_of_use\" title=\"Terms of use\">terms of use</a>\n",
      "<a href=\"#cite_note-5\">[5]</a>\n",
      "<a href=\"/w/index.php?title=Web_scraping&amp;action=edit&amp;section=13\" title=\"Edit section: United States\">edit</a>\n",
      "<a href=\"/wiki/Cause_of_action\" title=\"Cause of action\">legal claims</a>\n",
      "<a href=\"/wiki/Computer_Fraud_and_Abuse_Act\" title=\"Computer Fraud and Abuse Act\">Computer Fraud and Abuse Act</a>\n",
      "<a href=\"/wiki/Trespass_to_chattels\" title=\"Trespass to chattels\">trespass to chattel</a>\n",
      "<a href=\"#cite_note-6\">[6]</a>\n",
      "<a href=\"/wiki/Feist_Publications,_Inc.,_v._Rural_Telephone_Service_Co.\" title=\"Feist Publications, Inc., v. Rural Telephone Service Co.\"><i>Feist Publications v. Rural Telephone Service</i></a>\n",
      "<a href=\"/wiki/Trespass_to_chattels\" title=\"Trespass to chattels\">trespass to chattels</a>\n",
      "<a href=\"#cite_note-7\">[7]</a>\n",
      "<a href=\"#cite_note-8\">[8]</a>\n",
      "<a href=\"/wiki/EBay_v._Bidder%27s_Edge\" title=\"EBay v. Bidder's Edge\">eBay v. Bidder's Edge</a>\n",
      "<a href=\"/wiki/Auction_sniping\" title=\"Auction sniping\">auction sniping</a>\n",
      "<a href=\"/wiki/Personal_property\" title=\"Personal property\">chattels</a>\n",
      "<a href=\"/wiki/Plaintiff\" title=\"Plaintiff\">plaintiff</a>\n",
      "<a href=\"/wiki/Defendant\" title=\"Defendant\">defendant</a>\n",
      "<a href=\"#cite_note-9\">[9]</a>\n",
      "<a class=\"mw-redirect\" href=\"/wiki/Screen_scraping\" title=\"Screen scraping\">screen scraping</a>\n",
      "<a href=\"/wiki/American_Airlines\" title=\"American Airlines\">American Airlines</a>\n",
      "<a href=\"#cite_note-10\">[10]</a>\n",
      "<a href=\"/wiki/Injunction\" title=\"Injunction\">injunction</a>\n",
      "<a href=\"#cite_note-11\">[11]</a>\n",
      "<a href=\"/wiki/Southwest_Airlines\" title=\"Southwest Airlines\">Southwest Airlines</a>\n",
      "<a class=\"mw-redirect\" href=\"/wiki/US_Copyright_law\" title=\"US Copyright law\">US Copyright law</a>\n",
      "<a href=\"/wiki/Supreme_Court_of_the_United_States\" title=\"Supreme Court of the United States\">Supreme Court of the United States</a>\n",
      "<a href=\"/wiki/Yahoo!\" title=\"Yahoo!\">Yahoo!</a>\n",
      "<a href=\"#cite_note-impervawp2011-12\">[12]</a>\n",
      "<a class=\"mw-redirect\" href=\"/wiki/Craigslist_v._3Taps\" title=\"Craigslist v. 3Taps\">Craigslist v. 3Taps</a>\n",
      "<a href=\"/wiki/Computer_Fraud_and_Abuse_Act\" title=\"Computer Fraud and Abuse Act\">Computer Fraud and Abuse Act</a>\n",
      "<a href=\"#cite_note-13\">[13]</a>\n",
      "<a class=\"mw-redirect\" href=\"/wiki/Cvent,_Inc.\" title=\"Cvent, Inc.\">Cvent, Inc.</a>\n",
      "<a href=\"/wiki/Eventbrite\" title=\"Eventbrite\">Eventbrite, Inc.</a>\n",
      "<a href=\"/wiki/Browse_wrap\" title=\"Browse wrap\">browse wrap</a>\n",
      "<a href=\"#cite_note-14\">[14]</a>\n",
      "<a href=\"/wiki/United_States_District_Court_for_the_Eastern_District_of_Pennsylvania\" title=\"United States District Court for the Eastern District of Pennsylvania\">United States District Court for the Eastern District of Pennsylvania</a>\n",
      "<a href=\"#cite_note-15\">[15]</a>\n",
      "<a href=\"/wiki/QVC\" title=\"QVC\">QVC</a>\n",
      "<a href=\"#cite_note-16\">[16]</a>\n",
      "<a href=\"#cite_note-17\">[17]</a>\n",
      "<a href=\"/wiki/Facebook,_Inc._v._Power_Ventures,_Inc.\" title=\"Facebook, Inc. v. Power Ventures, Inc.\">Facebook, Inc. v. Power Ventures, Inc.</a>\n",
      "<a href=\"/wiki/Electronic_Frontier_Foundation\" title=\"Electronic Frontier Foundation\">Electronic Frontier Foundation</a>\n",
      "<a href=\"#cite_note-18\">[18]</a>\n",
      "<a href=\"#cite_note-19\">[19]</a>\n",
      "<a href=\"/wiki/Associated_Press_v._Meltwater_U.S._Holdings,_Inc.\" title=\"Associated Press v. Meltwater U.S. Holdings, Inc.\">Associated Press v. Meltwater U.S. Holdings, Inc.</a>\n",
      "<a href=\"/wiki/Internet_Archive\" title=\"Internet Archive\">Internet Archive</a>\n",
      "<a href=\"/w/index.php?title=Web_scraping&amp;action=edit&amp;section=14\" title=\"Edit section: European Union\">edit</a>\n",
      "<a href=\"#cite_note-20\">[20]</a>\n",
      "<a href=\"/wiki/Inchoate_offense\" title=\"Inchoate offense\">inchoate</a>\n",
      "<a href=\"/wiki/Ryanair\" title=\"Ryanair\">Ryanair's</a>\n",
      "<a href=\"/wiki/Clickwrap\" title=\"Clickwrap\">click-wrap</a>\n",
      "<a href=\"/wiki/Michael_Hanna_(judge)\" title=\"Michael Hanna (judge)\">Michael Hanna</a>\n",
      "<a href=\"#cite_note-21\">[21]</a>\n",
      "<a href=\"#cite_note-22\">[22]</a>\n",
      "<a href=\"#cite_note-23\">[23]</a>\n",
      "<a href=\"#cite_note-24\">[24]</a>\n",
      "<a href=\"/w/index.php?title=Web_scraping&amp;action=edit&amp;section=15\" title=\"Edit section: Australia\">edit</a>\n",
      "<a href=\"/wiki/Spam_Act_2003\" title=\"Spam Act 2003\">Spam Act 2003</a>\n",
      "<a href=\"#cite_note-25\">[25]</a>\n",
      "<a href=\"#cite_note-26\">[26]</a>\n",
      "<a href=\"/w/index.php?title=Web_scraping&amp;action=edit&amp;section=16\" title=\"Edit section: India\">edit</a>\n",
      "<a href=\"/wiki/Information_Technology_Act,_2000#:~:text=From_Wikipedia,_the_free_encyclopedia_The_Information_Technology,in_India_dealing_with_cybercrime_and_electronic_commerce.\" title=\"Information Technology Act, 2000\">Information Technology Act, 2000</a>\n",
      "<a href=\"/w/index.php?title=Web_scraping&amp;action=edit&amp;section=17\" title=\"Edit section: Methods to prevent web scraping\">edit</a>\n",
      "<a href=\"/wiki/IP_address\" title=\"IP address\">IP address</a>\n",
      "<a class=\"mw-redirect\" href=\"/wiki/Geolocation\" title=\"Geolocation\">geolocation</a>\n",
      "<a class=\"mw-redirect\" href=\"/wiki/DNSBL\" title=\"DNSBL\">DNSRBL</a>\n",
      "<a href=\"/wiki/Web_service\" title=\"Web service\">web service</a>\n",
      "<a class=\"mw-redirect\" href=\"/wiki/Application_programming_interface\" title=\"Application programming interface\">API</a>\n",
      "<a href=\"/wiki/User_agent\" title=\"User agent\">user agent</a>\n",
      "<a href=\"/wiki/String_(computer_science)\" title=\"String (computer science)\">strings</a>\n",
      "<a href=\"/wiki/Robots_exclusion_standard\" title=\"Robots exclusion standard\">robots.txt</a>\n",
      "<a href=\"/wiki/Googlebot\" title=\"Googlebot\">googlebot</a>\n",
      "<a href=\"/wiki/CAPTCHA\" title=\"CAPTCHA\">CAPTCHA</a>\n",
      "<a href=\"/wiki/Application_firewall\" title=\"Application firewall\">application firewalls</a>\n",
      "<a href=\"#cite_note-27\">[27]</a>\n",
      "<a href=\"/wiki/Honeypot_(computing)\" title=\"Honeypot (computing)\">honeypot</a>\n",
      "<a href=\"/wiki/Obfuscation\" title=\"Obfuscation\">Obfuscation</a>\n",
      "<a class=\"mw-redirect\" href=\"/wiki/CSS_sprite\" title=\"CSS sprite\">CSS sprites</a>\n",
      "<a href=\"/wiki/Web_accessibility\" title=\"Web accessibility\">accessibility</a>\n",
      "<a href=\"/wiki/Screen_reader\" title=\"Screen reader\">screen reader</a>\n",
      "<a href=\"/wiki/Robots_exclusion_standard\" title=\"Robots exclusion standard\">robots.txt</a>\n",
      "<a href=\"/w/index.php?title=Web_scraping&amp;action=edit&amp;section=18\" title=\"Edit section: See also\">edit</a>\n",
      "<a href=\"/wiki/Archive.today\" title=\"Archive.today\">Archive.today</a>\n",
      "<a href=\"/wiki/Comparison_of_feed_aggregators\" title=\"Comparison of feed aggregators\">Comparison of feed aggregators</a>\n",
      "<a href=\"/wiki/Data_scraping\" title=\"Data scraping\">Data scraping</a>\n",
      "<a href=\"/wiki/Data_wrangling\" title=\"Data wrangling\">Data wrangling</a>\n",
      "<a href=\"/wiki/Importer_(computing)\" title=\"Importer (computing)\">Importer</a>\n",
      "<a href=\"/wiki/Job_wrapping\" title=\"Job wrapping\">Job wrapping</a>\n",
      "<a href=\"/wiki/Knowledge_extraction\" title=\"Knowledge extraction\">Knowledge extraction</a>\n",
      "<a href=\"/wiki/OpenSocial\" title=\"OpenSocial\">OpenSocial</a>\n",
      "<a href=\"/wiki/Scraper_site\" title=\"Scraper site\">Scraper site</a>\n",
      "<a href=\"/wiki/Fake_news_website\" title=\"Fake news website\">Fake news website</a>\n",
      "<a href=\"/wiki/Blog_scraping\" title=\"Blog scraping\">Blog scraping</a>\n",
      "<a href=\"/wiki/Spamdexing\" title=\"Spamdexing\">Spamdexing</a>\n",
      "<a href=\"/wiki/Domain_name_drop_list\" title=\"Domain name drop list\">Domain name drop list</a>\n",
      "<a href=\"/wiki/Text_corpus\" title=\"Text corpus\">Text corpus</a>\n",
      "<a href=\"/wiki/Web_archiving\" title=\"Web archiving\">Web archiving</a>\n",
      "<a href=\"/wiki/Web_crawler\" title=\"Web crawler\">Web crawler</a>\n",
      "<a href=\"/wiki/Offline_reader\" title=\"Offline reader\">Offline reader</a>\n",
      "<a href=\"/wiki/Link_farm\" title=\"Link farm\">Link farm</a>\n",
      "<a href=\"/wiki/Search_engine_scraping\" title=\"Search engine scraping\">Search engine scraping</a>\n",
      "<a href=\"/wiki/Category:Web_crawlers\" title=\"Category:Web crawlers\">Web crawlers</a>\n",
      "<a href=\"/w/index.php?title=Web_scraping&amp;action=edit&amp;section=19\" title=\"Edit section: References\">edit</a>\n",
      "<a href=\"#cite_ref-1\">^</a>\n",
      "<a class=\"external text\" href=\"http://www.searchenginehistory.com/\" rel=\"nofollow\">\"Search Engine History.com\"</a>\n",
      "<a href=\"#cite_ref-2\">^</a>\n",
      "<a class=\"external text\" href=\"https://web.archive.org/web/20161011080619/https://pdfs.semanticscholar.org/4fb4/3c5a212df751e84c3b2f8d29fabfe56c3616.pdf\" rel=\"nofollow\">\"Joint Optimization of Wrapper Generation and Template Detection\"</a>\n",
      "<a class=\"mw-redirect\" href=\"/wiki/Doi_(identifier)\" title=\"Doi (identifier)\">doi</a>\n",
      "<a class=\"external text\" href=\"https://doi.org/10.1145%2F1281192.1281287\" rel=\"nofollow\">10.1145/1281192.1281287</a>\n",
      "<a class=\"mw-redirect\" href=\"/wiki/ISBN_(identifier)\" title=\"ISBN (identifier)\">ISBN</a>\n",
      "<a href=\"/wiki/Special:BookSources/9781595936097\" title=\"Special:BookSources/9781595936097\"><bdi>9781595936097</bdi></a>\n",
      "<a class=\"mw-redirect\" href=\"/wiki/S2CID_(identifier)\" title=\"S2CID (identifier)\">S2CID</a>\n",
      "<a class=\"external text\" href=\"https://api.semanticscholar.org/CorpusID:833565\" rel=\"nofollow\">833565</a>\n",
      "<a class=\"external text\" href=\"https://pdfs.semanticscholar.org/4fb4/3c5a212df751e84c3b2f8d29fabfe56c3616.pdf\" rel=\"nofollow\">the original</a>\n",
      "<a href=\"#cite_ref-3\">^</a>\n",
      "<a class=\"external text\" href=\"http://www.gooseeker.com/en/node/knowledgebase/freeformat\" rel=\"nofollow\">Semantic annotation based web scraping</a>\n",
      "<a href=\"#cite_ref-4\">^</a>\n",
      "<a class=\"external text\" href=\"http://www.xconomy.com/san-francisco/2012/07/25/diffbot-is-using-computer-vision-to-reinvent-the-semantic-web/\" rel=\"nofollow\">\"Diffbot Is Using Computer Vision to Reinvent the Semantic Web\"</a>\n",
      "<a href=\"#cite_ref-5\">^</a>\n",
      "<a class=\"external text\" href=\"https://web.archive.org/web/20020308222536/http://www.chillingeffects.org/linking/faq.cgi#QID596\" rel=\"nofollow\">\"FAQ about linking – Are website terms of use binding contracts?\"</a>\n",
      "<a class=\"external text\" href=\"http://www.chillingeffects.org/linking/faq.cgi#QID596\" rel=\"nofollow\">the original</a>\n",
      "<a href=\"#cite_ref-6\">^</a>\n",
      "<a class=\"external text\" href=\"http://scholarship.law.berkeley.edu/btlj/vol29/iss4/16/\" rel=\"nofollow\">\"Symbiotic Relationships: Pragmatic Acceptance of Data Scraping\"</a>\n",
      "<a class=\"mw-redirect\" href=\"/wiki/Doi_(identifier)\" title=\"Doi (identifier)\">doi</a>\n",
      "<a class=\"external text\" href=\"https://doi.org/10.15779%2FZ38B39B\" rel=\"nofollow\">10.15779/Z38B39B</a>\n",
      "<a class=\"mw-redirect\" href=\"/wiki/ISSN_(identifier)\" title=\"ISSN (identifier)\">ISSN</a>\n",
      "<a class=\"external text\" href=\"//www.worldcat.org/issn/1086-3818\" rel=\"nofollow\">1086-3818</a>\n",
      "<a href=\"#cite_ref-7\">^</a>\n",
      "<a class=\"external text\" href=\"http://www.tomwbell.com/NetLaw/Ch06.html\" rel=\"nofollow\">\"Internet Law, Ch. 06: Trespass to Chattels\"</a>\n",
      "<a href=\"#cite_ref-8\">^</a>\n",
      "<a class=\"external text\" href=\"https://web.archive.org/web/20020308222536/http://www.chillingeffects.org/linking/faq.cgi#QID460\" rel=\"nofollow\">\"What are the \"trespass to chattels\" claims some companies or website owners have brought?\"</a>\n",
      "<a class=\"external text\" href=\"http://www.chillingeffects.org/linking/faq.cgi#QID460\" rel=\"nofollow\">the original</a>\n",
      "<a href=\"#cite_ref-9\">^</a>\n",
      "<a class=\"external text\" href=\"http://www.tomwbell.com/NetLaw/Ch07/Ticketmaster.html\" rel=\"nofollow\">\"Ticketmaster Corp. v. Tickets.com, Inc\"</a>\n",
      "<a href=\"#cite_ref-10\">^</a>\n",
      "<a class=\"external text\" href=\"https://web.archive.org/web/20110723131832/http://www.fornova.net/documents/AAFareChase.pdf\" rel=\"nofollow\">\"American Airlines v. FareChase\"</a>\n",
      "<a class=\"external text\" href=\"http://www.fornova.net/documents/AAFareChase.pdf\" rel=\"nofollow\">the original</a>\n",
      "<a href=\"#cite_ref-11\">^</a>\n",
      "<a class=\"external text\" href=\"http://www.thefreelibrary.com/American+Airlines,+FareChase+Settle+Suit.-a0103213546\" rel=\"nofollow\">\"American Airlines, FareChase Settle Suit\"</a>\n",
      "<a href=\"#cite_ref-impervawp2011_12-0\">^</a>\n",
      "<a class=\"external text\" href=\"http://www.imperva.com/docs/WP_Detecting_and_Blocking_Site_Scraping_Attacks.pdf\" rel=\"nofollow\">Detecting and Blocking Site Scraping Attacks</a>\n",
      "<a href=\"#cite_ref-13\">^</a>\n",
      "<a class=\"external text\" href=\"http://library.findlaw.com/2003/Jul/29/132944.html\" rel=\"nofollow\">\"Controversy Surrounds 'Screen Scrapers': Software Helps Users Access Web Sites But Activity by Competitors Comes Under Scrutiny\"</a>\n",
      "<a href=\"#cite_ref-14\">^</a>\n",
      "<a class=\"external text\" href=\"http://www.fornova.net/documents/Cvent.pdf\" rel=\"nofollow\">\"QVC Inc. v. Resultly LLC, No. 14-06714 (E.D. Pa. filed Nov. 24, 2014)\"</a>\n",
      "<a href=\"#cite_ref-15\">^</a>\n",
      "<a class=\"external text\" href=\"https://www.scribd.com/doc/249068700/LinkedIn-v-Resultly-LLC-Complaint?secret_password=pEVKDbnvhQL52oKfdrmT\" rel=\"nofollow\">\"QVC Inc. v. Resultly LLC, No. 14-06714 (E.D. Pa. filed Nov. 24, 2014)\"</a>\n",
      "<a href=\"#cite_ref-16\">^</a>\n",
      "<a class=\"external text\" href=\"http://newmedialaw.proskauer.com/2014/12/05/qvc-sues-shopping-app-for-web-scraping-that-allegedly-triggered-site-outage/\" rel=\"nofollow\">\"QVC Sues Shopping App for Web Scraping That Allegedly Triggered Site Outage\"</a>\n",
      "<a href=\"#cite_ref-17\">^</a>\n",
      "<a class=\"external text\" href=\"http://www.fornova.net/documents/pblog-bna-com.pdf\" rel=\"nofollow\">\"Did Iqbal/Twombly Raise the Bar for Browsewrap Claims?\"</a>\n",
      "<a href=\"#cite_ref-18\">^</a>\n",
      "<a class=\"external text\" href=\"https://www.techdirt.com/articles/20090605/2228205147.shtml\" rel=\"nofollow\">\"Can Scraping Non-Infringing Content Become Copyright Infringement... Because Of How Scrapers Work? | Techdirt\"</a>\n",
      "<a href=\"#cite_ref-19\">^</a>\n",
      "<a class=\"external text\" href=\"https://www.eff.org/cases/facebook-v-power-ventures\" rel=\"nofollow\">\"Facebook v. Power Ventures\"</a>\n",
      "<a href=\"#cite_ref-20\">^</a>\n",
      "<a class=\"external text\" href=\"https://web.archive.org/web/20071012005033/http://www.bvhd.dk/uploads/tx_mocarticles/S_-_og_Handelsrettens_afg_relse_i_Ofir-sagen.pdf\" rel=\"nofollow\">\"UDSKRIFT AF SØ- &amp; HANDELSRETTENS DOMBOG\"</a>\n",
      "<a class=\"external text\" href=\"http://www.bvhd.dk/uploads/tx_mocarticles/S_-_og_Handelsrettens_afg_relse_i_Ofir-sagen.pdf\" rel=\"nofollow\">the original</a>\n",
      "<a href=\"#cite_ref-21\">^</a>\n",
      "<a class=\"external text\" href=\"http://www.bailii.org/ie/cases/IEHC/2010/H47.html\" rel=\"nofollow\">\"High Court of Ireland Decisions &gt;&gt; Ryanair Ltd -v- Billigfluege.de GMBH 2010 IEHC 47 (26 February 2010)\"</a>\n",
      "<a href=\"#cite_ref-22\">^</a>\n",
      "<a class=\"external text\" href=\"http://www.lkshields.ie/htmdocs/publications/newsletters/update26/update26_03.htm\" rel=\"nofollow\">\"Intellectual Property: Website Terms of Use\"</a>\n",
      "<a href=\"#cite_ref-23\">^</a>\n",
      "<a class=\"external text\" href=\"https://www.cnil.fr/fr/la-reutilisation-des-donnees-publiquement-accessibles-en-ligne-des-fins-de-demarchage-commercial\" rel=\"nofollow\">\"La réutilisation des données publiquement accessibles en ligne à des fins de démarchage commercial | CNIL\"</a>\n",
      "<a href=\"#cite_ref-24\">^</a>\n",
      "<a class=\"external text\" href=\"https://medium.com/@finddatalab/can-you-still-perform-web-scraping-with-the-new-cnil-guidelines-bf3e20d0edc2\" rel=\"nofollow\">\"Can You Still Perform Web Scraping With The New CNIL Guidelines?\"</a>\n",
      "<a href=\"#cite_ref-25\">^</a>\n",
      "<a class=\"external text\" href=\"https://www.lloyds.com/~/media/5880dae185914b2487bed7bd63b96286.ashx\" rel=\"nofollow\">\"Spam Act 2003: An overview for business\"</a>\n",
      "<a href=\"#cite_ref-26\">^</a>\n",
      "<a class=\"external text\" href=\"http://www.webstartdesign.com.au/spam_business_practical_guide.pdf\" rel=\"nofollow\">\"Spam Act 2003: A practical guide for business\"</a>\n",
      "<a href=\"#cite_ref-27\">^</a>\n",
      "<a class=\"external text\" href=\"https://s3.us-west-2.amazonaws.com/research-papers-mynk/Breaking-Fraud-And-Bot-Detection-Solutions.pdf\" rel=\"nofollow\">Breaking Fraud &amp; Bot Detection Solutions</a>\n",
      "<a dir=\"ltr\" href=\"https://en.wikipedia.org/w/index.php?title=Web_scraping&amp;oldid=1038247165\">https://en.wikipedia.org/w/index.php?title=Web_scraping&amp;oldid=1038247165</a>\n",
      "<a href=\"/wiki/Help:Category\" title=\"Help:Category\">Categories</a>\n",
      "<a href=\"/wiki/Category:Web_scraping\" title=\"Category:Web scraping\">Web scraping</a>\n",
      "<a href=\"/wiki/Category:CS1_Danish-language_sources_(da)\" title=\"Category:CS1 Danish-language sources (da)\">CS1 Danish-language sources (da)</a>\n",
      "<a href=\"/wiki/Category:CS1_French-language_sources_(fr)\" title=\"Category:CS1 French-language sources (fr)\">CS1 French-language sources (fr)</a>\n",
      "<a href=\"/wiki/Category:Articles_with_short_description\" title=\"Category:Articles with short description\">Articles with short description</a>\n",
      "<a href=\"/wiki/Category:Short_description_matches_Wikidata\" title=\"Category:Short description matches Wikidata\">Short description matches Wikidata</a>\n",
      "<a href=\"/wiki/Category:Articles_needing_additional_references_from_June_2017\" title=\"Category:Articles needing additional references from June 2017\">Articles needing additional references from June 2017</a>\n",
      "<a href=\"/wiki/Category:All_articles_needing_additional_references\" title=\"Category:All articles needing additional references\">All articles needing additional references</a>\n",
      "<a href=\"/wiki/Category:Articles_needing_additional_references_from_October_2018\" title=\"Category:Articles needing additional references from October 2018\">Articles needing additional references from October 2018</a>\n",
      "<a href=\"/wiki/Category:Articles_with_limited_geographic_scope_from_October_2015\" title=\"Category:Articles with limited geographic scope from October 2015\">Articles with limited geographic scope from October 2015</a>\n",
      "<a href=\"/wiki/Category:United_States-centric\" title=\"Category:United States-centric\">United States-centric</a>\n",
      "<a accesskey=\"n\" href=\"/wiki/Special:MyTalk\" title=\"Discussion about edits from this IP address [n]\">Talk</a>\n",
      "<a accesskey=\"y\" href=\"/wiki/Special:MyContributions\" title=\"A list of edits made from this IP address [y]\">Contributions</a>\n",
      "<a href=\"/w/index.php?title=Special:CreateAccount&amp;returnto=Web+scraping\" title=\"You are encouraged to create an account and log in; however, it is not mandatory\">Create account</a>\n",
      "<a accesskey=\"o\" href=\"/w/index.php?title=Special:UserLogin&amp;returnto=Web+scraping\" title=\"You're encouraged to log in; however, it's not mandatory. [o]\">Log in</a>\n",
      "<a accesskey=\"c\" href=\"/wiki/Web_scraping\" title=\"View the content page [c]\">Article</a>\n",
      "<a accesskey=\"t\" href=\"/wiki/Talk:Web_scraping\" rel=\"discussion\" title=\"Discuss improvements to the content page [t]\">Talk</a>\n",
      "<a href=\"/wiki/Web_scraping\">Read</a>\n",
      "<a accesskey=\"e\" href=\"/w/index.php?title=Web_scraping&amp;action=edit\" title=\"Edit this page [e]\">Edit</a>\n",
      "<a accesskey=\"h\" href=\"/w/index.php?title=Web_scraping&amp;action=history\" title=\"Past revisions of this page [h]\">View history</a>\n",
      "<a class=\"mw-wiki-logo\" href=\"/wiki/Main_Page\" title=\"Visit the main page\"></a>\n",
      "<a accesskey=\"z\" href=\"/wiki/Main_Page\" title=\"Visit the main page [z]\">Main page</a>\n",
      "<a href=\"/wiki/Wikipedia:Contents\" title=\"Guides to browsing Wikipedia\">Contents</a>\n",
      "<a href=\"/wiki/Portal:Current_events\" title=\"Articles related to current events\">Current events</a>\n",
      "<a accesskey=\"x\" href=\"/wiki/Special:Random\" title=\"Visit a randomly selected article [x]\">Random article</a>\n",
      "<a href=\"/wiki/Wikipedia:About\" title=\"Learn about Wikipedia and how it works\">About Wikipedia</a>\n",
      "<a href=\"//en.wikipedia.org/wiki/Wikipedia:Contact_us\" title=\"How to contact Wikipedia\">Contact us</a>\n",
      "<a href=\"https://donate.wikimedia.org/wiki/Special:FundraiserRedirector?utm_source=donate&amp;utm_medium=sidebar&amp;utm_campaign=C13_en.wikipedia.org&amp;uselang=en\" title=\"Support us by donating to the Wikimedia Foundation\">Donate</a>\n",
      "<a href=\"/wiki/Help:Contents\" title=\"Guidance on how to use and edit Wikipedia\">Help</a>\n",
      "<a href=\"/wiki/Help:Introduction\" title=\"Learn how to edit Wikipedia\">Learn to edit</a>\n",
      "<a href=\"/wiki/Wikipedia:Community_portal\" title=\"The hub for editors\">Community portal</a>\n",
      "<a accesskey=\"r\" href=\"/wiki/Special:RecentChanges\" title=\"A list of recent changes to Wikipedia [r]\">Recent changes</a>\n",
      "<a href=\"/wiki/Wikipedia:File_Upload_Wizard\" title=\"Add images or other media for use on Wikipedia\">Upload file</a>\n",
      "<a accesskey=\"j\" href=\"/wiki/Special:WhatLinksHere/Web_scraping\" title=\"List of all English Wikipedia pages containing links to this page [j]\">What links here</a>\n",
      "<a accesskey=\"k\" href=\"/wiki/Special:RecentChangesLinked/Web_scraping\" rel=\"nofollow\" title=\"Recent changes in pages linked from this page [k]\">Related changes</a>\n",
      "<a accesskey=\"u\" href=\"/wiki/Wikipedia:File_Upload_Wizard\" title=\"Upload files [u]\">Upload file</a>\n",
      "<a accesskey=\"q\" href=\"/wiki/Special:SpecialPages\" title=\"A list of all special pages [q]\">Special pages</a>\n",
      "<a href=\"/w/index.php?title=Web_scraping&amp;oldid=1038247165\" title=\"Permanent link to this revision of this page\">Permanent link</a>\n",
      "<a href=\"/w/index.php?title=Web_scraping&amp;action=info\" title=\"More information about this page\">Page information</a>\n",
      "<a href=\"/w/index.php?title=Special:CiteThisPage&amp;page=Web_scraping&amp;id=1038247165&amp;wpFormIdentifier=titleform\" title=\"Information on how to cite this page\">Cite this page</a>\n",
      "<a accesskey=\"g\" href=\"https://www.wikidata.org/wiki/Special:EntityPage/Q665452\" title=\"Structured data on this page hosted by Wikidata [g]\">Wikidata item</a>\n",
      "<a href=\"/w/index.php?title=Special:DownloadAsPdf&amp;page=Web_scraping&amp;action=show-download-screen\" title=\"Download this page as a PDF file\">Download as PDF</a>\n",
      "<a accesskey=\"p\" href=\"/w/index.php?title=Web_scraping&amp;printable=yes\" title=\"Printable version of this page [p]\">Printable version</a>\n",
      "<a class=\"interlanguage-link-target\" href=\"https://ar.wikipedia.org/wiki/%D8%A7%D8%B3%D8%AA%D8%AE%D9%84%D8%A7%D8%B5_%D8%A7%D9%84%D9%85%D9%88%D8%A7%D9%82%D8%B9\" hreflang=\"ar\" lang=\"ar\" title=\"استخلاص المواقع – Arabic\">العربية</a>\n",
      "<a class=\"interlanguage-link-target\" href=\"https://ca.wikipedia.org/wiki/Web_scraping\" hreflang=\"ca\" lang=\"ca\" title=\"Web scraping – Catalan\">Català</a>\n",
      "<a class=\"interlanguage-link-target\" href=\"https://de.wikipedia.org/wiki/Screen_Scraping\" hreflang=\"de\" lang=\"de\" title=\"Screen Scraping – German\">Deutsch</a>\n",
      "<a class=\"interlanguage-link-target\" href=\"https://es.wikipedia.org/wiki/Web_scraping\" hreflang=\"es\" lang=\"es\" title=\"Web scraping – Spanish\">Español</a>\n",
      "<a class=\"interlanguage-link-target\" href=\"https://eu.wikipedia.org/wiki/Web_scraping\" hreflang=\"eu\" lang=\"eu\" title=\"Web scraping – Basque\">Euskara</a>\n",
      "<a class=\"interlanguage-link-target\" href=\"https://fr.wikipedia.org/wiki/Web_scraping\" hreflang=\"fr\" lang=\"fr\" title=\"Web scraping – French\">Français</a>\n",
      "<a class=\"interlanguage-link-target\" href=\"https://id.wikipedia.org/wiki/Web_scraping\" hreflang=\"id\" lang=\"id\" title=\"Web scraping – Indonesian\">Bahasa Indonesia</a>\n",
      "<a class=\"interlanguage-link-target\" href=\"https://is.wikipedia.org/wiki/Vefs%C3%B6fnun\" hreflang=\"is\" lang=\"is\" title=\"Vefsöfnun – Icelandic\">Íslenska</a>\n",
      "<a class=\"interlanguage-link-target\" href=\"https://it.wikipedia.org/wiki/Web_scraping\" hreflang=\"it\" lang=\"it\" title=\"Web scraping – Italian\">Italiano</a>\n",
      "<a class=\"interlanguage-link-target\" href=\"https://lv.wikipedia.org/wiki/Rasmo%C5%A1ana\" hreflang=\"lv\" lang=\"lv\" title=\"Rasmošana – Latvian\">Latviešu</a>\n",
      "<a class=\"interlanguage-link-target\" href=\"https://nl.wikipedia.org/wiki/Scrapen\" hreflang=\"nl\" lang=\"nl\" title=\"Scrapen – Dutch\">Nederlands</a>\n",
      "<a class=\"interlanguage-link-target\" href=\"https://ja.wikipedia.org/wiki/%E3%82%A6%E3%82%A7%E3%83%96%E3%82%B9%E3%82%AF%E3%83%AC%E3%82%A4%E3%83%94%E3%83%B3%E3%82%B0\" hreflang=\"ja\" lang=\"ja\" title=\"ウェブスクレイピング – Japanese\">日本語</a>\n",
      "<a class=\"interlanguage-link-target\" href=\"https://pt.wikipedia.org/wiki/Coleta_de_dados_web\" hreflang=\"pt\" lang=\"pt\" title=\"Coleta de dados web – Portuguese\">Português</a>\n",
      "<a class=\"interlanguage-link-target\" href=\"https://ru.wikipedia.org/wiki/%D0%92%D0%B5%D0%B1-%D1%81%D0%BA%D1%80%D0%B5%D0%B9%D0%BF%D0%B8%D0%BD%D0%B3\" hreflang=\"ru\" lang=\"ru\" title=\"Веб-скрейпинг – Russian\">Русский</a>\n",
      "<a class=\"interlanguage-link-target\" href=\"https://sr.wikipedia.org/wiki/Web_scraping\" hreflang=\"sr\" lang=\"sr\" title=\"Web scraping – Serbian\">Српски / srpski</a>\n",
      "<a class=\"interlanguage-link-target\" href=\"https://tr.wikipedia.org/wiki/Web_kaz%C4%B1ma\" hreflang=\"tr\" lang=\"tr\" title=\"Web kazıma – Turkish\">Türkçe</a>\n",
      "<a class=\"interlanguage-link-target\" href=\"https://uk.wikipedia.org/wiki/Web_scraping\" hreflang=\"uk\" lang=\"uk\" title=\"Web scraping – Ukrainian\">Українська</a>\n",
      "<a class=\"interlanguage-link-target\" href=\"https://zh.wikipedia.org/wiki/%E7%BD%91%E9%A1%B5%E6%8A%93%E5%8F%96\" hreflang=\"zh\" lang=\"zh\" title=\"网页抓取 – Chinese\">中文</a>\n",
      "<a class=\"wbc-editpage\" href=\"https://www.wikidata.org/wiki/Special:EntityPage/Q665452#sitelinks-wikipedia\" title=\"Edit interlanguage links\">Edit links</a>\n",
      "<a href=\"//en.wikipedia.org/wiki/Wikipedia:Text_of_Creative_Commons_Attribution-ShareAlike_3.0_Unported_License\" rel=\"license\">Creative Commons Attribution-ShareAlike License</a>\n",
      "<a href=\"//creativecommons.org/licenses/by-sa/3.0/\" rel=\"license\" style=\"display:none;\"></a>\n",
      "<a href=\"//foundation.wikimedia.org/wiki/Terms_of_Use\">Terms of Use</a>\n",
      "<a href=\"//foundation.wikimedia.org/wiki/Privacy_policy\">Privacy Policy</a>\n",
      "<a href=\"//www.wikimediafoundation.org/\">Wikimedia Foundation, Inc.</a>\n",
      "<a class=\"extiw\" href=\"https://foundation.wikimedia.org/wiki/Privacy_policy\" title=\"wmf:Privacy policy\">Privacy policy</a>\n",
      "<a href=\"/wiki/Wikipedia:About\" title=\"Wikipedia:About\">About Wikipedia</a>\n",
      "<a href=\"/wiki/Wikipedia:General_disclaimer\" title=\"Wikipedia:General disclaimer\">Disclaimers</a>\n",
      "<a href=\"//en.wikipedia.org/wiki/Wikipedia:Contact_us\">Contact Wikipedia</a>\n",
      "<a class=\"noprint stopMobileRedirectToggle\" href=\"//en.m.wikipedia.org/w/index.php?title=Web_scraping&amp;mobileaction=toggle_view_mobile\">Mobile view</a>\n",
      "<a href=\"https://www.mediawiki.org/wiki/Special:MyLanguage/How_to_contribute\">Developers</a>\n",
      "<a href=\"https://stats.wikimedia.org/#/en.wikipedia.org\">Statistics</a>\n",
      "<a href=\"https://foundation.wikimedia.org/wiki/Cookie_statement\">Cookie statement</a>\n",
      "<a href=\"https://wikimediafoundation.org/\"><img alt=\"Wikimedia Foundation\" height=\"31\" loading=\"lazy\" src=\"/static/images/footer/wikimedia-button.png\" srcset=\"/static/images/footer/wikimedia-button-1.5x.png 1.5x, /static/images/footer/wikimedia-button-2x.png 2x\" width=\"88\"/></a>\n",
      "<a href=\"https://www.mediawiki.org/\"><img alt=\"Powered by MediaWiki\" height=\"31\" loading=\"lazy\" src=\"/static/images/footer/poweredby_mediawiki_88x31.png\" srcset=\"/static/images/footer/poweredby_mediawiki_132x47.png 1.5x, /static/images/footer/poweredby_mediawiki_176x62.png 2x\" width=\"88\"/></a>\n"
     ]
    }
   ],
   "source": [
    "tags = soup.body.findAll('a', href = True)\n",
    "for aTag in tags[3:]:\n",
    "    print(aTag)\n",
    "paragraphs = []\n",
    "for ATag in tags:\n",
    "    paragraphs.append(aTag.text)"
   ]
  },
  {
   "cell_type": "markdown",
   "metadata": {
    "id": "rACcJNFNcl1V",
    "problem": 15,
    "tags": []
   },
   "source": [
    "#### Problem 15\n",
    "Remember, each `<a>` tag element contains an `href` attribute, which indicate's the hyperlink's destination. From the list you created in problem 14 create a new list of only the Wikipedia URLS. Keep only the `href` attributes that include the string \"/wiki/\" then append each of these to the end of the Wikipedia URL: \"https://en.wikipedia.org\".\n",
    "\n",
    "Put the list in alphabetical order.\n",
    "\n",
    "_**Confidence check:** The final list should start with:_\n",
    "\n",
    "```\n",
    "'https://en.wikipedia.org/wiki/American_Statistical_Association'\n",
    " ```"
   ]
  },
  {
   "cell_type": "code",
   "execution_count": 40,
   "metadata": {
    "id": "kdRynNSoSObr"
   },
   "outputs": [
    {
     "name": "stdout",
     "output_type": "stream",
     "text": [
      "['https://en.wikipedia.org/wiki/File:Question_book-new.svg', 'https://en.wikipedia.org/wiki/Wikipedia:Verifiability', 'https://en.wikipedia.org/wiki/Help:Referencing_for_beginners', 'https://en.wikipedia.org/wiki/Help:Maintenance_template_removal', 'https://en.wikipedia.org/wiki/Data_scraping', 'https://en.wikipedia.org/wiki/Data_scraping', 'https://en.wikipedia.org/wiki/Data_extraction', 'https://en.wikipedia.org/wiki/Website', 'https://en.wikipedia.org/wiki/World_Wide_Web', 'https://en.wikipedia.org/wiki/Hypertext_Transfer_Protocol', 'https://en.wikipedia.org/wiki/Internet_bot', 'https://en.wikipedia.org/wiki/Web_crawler', 'https://en.wikipedia.org/wiki/Database', 'https://en.wikipedia.org/wiki/Data_retrieval', 'https://en.wikipedia.org/wiki/Data_analysis', 'https://en.wikipedia.org/wiki/Parsing', 'https://en.wikipedia.org/wiki/Contact_scraping', 'https://en.wikipedia.org/wiki/Web_indexing', 'https://en.wikipedia.org/wiki/Web_mining', 'https://en.wikipedia.org/wiki/Data_mining', 'https://en.wikipedia.org/wiki/Comparison_shopping_website', 'https://en.wikipedia.org/wiki/Change_detection_and_notification', 'https://en.wikipedia.org/wiki/Web_mashup', 'https://en.wikipedia.org/wiki/Web_data_integration', 'https://en.wikipedia.org/wiki/Web_page', 'https://en.wikipedia.org/wiki/HTML', 'https://en.wikipedia.org/wiki/XHTML', 'https://en.wikipedia.org/wiki/End-user_(computer_science)', 'https://en.wikipedia.org/wiki/JSON', 'https://en.wikipedia.org/wiki/Document_Object_Model', 'https://en.wikipedia.org/wiki/Computer_vision', 'https://en.wikipedia.org/wiki/Natural_language_processing', 'https://en.wikipedia.org/wiki/File:Question_book-new.svg', 'https://en.wikipedia.org/wiki/Wikipedia:Citing_sources', 'https://en.wikipedia.org/wiki/Wikipedia:Verifiability', 'https://en.wikipedia.org/wiki/Help:Referencing_for_beginners', 'https://en.wikipedia.org/wiki/Wikipedia:Verifiability#Burden_of_evidence', 'https://en.wikipedia.org/wiki/Help:Maintenance_template_removal', 'https://en.wikipedia.org/wiki/History_of_the_World_Wide_Web', 'https://en.wikipedia.org/wiki/World_Wide_Web_Wanderer', 'https://en.wikipedia.org/wiki/JumpStation', 'https://en.wikipedia.org/wiki/Application_programming_interface', 'https://en.wikipedia.org/wiki/Salesforce.com', 'https://en.wikipedia.org/wiki/EBay', 'https://en.wikipedia.org/wiki/Semantic_web', 'https://en.wikipedia.org/wiki/Human-computer_interaction', 'https://en.wikipedia.org/wiki/Grep', 'https://en.wikipedia.org/wiki/Regular_expression', 'https://en.wikipedia.org/wiki/Perl', 'https://en.wikipedia.org/wiki/Python_(programming_language)', 'https://en.wikipedia.org/wiki/Static_web_page', 'https://en.wikipedia.org/wiki/Dynamic_web_page', 'https://en.wikipedia.org/wiki/Socket_programming', 'https://en.wikipedia.org/wiki/Wrapper_(data_mining)', 'https://en.wikipedia.org/wiki/Semi-structured_data', 'https://en.wikipedia.org/wiki/XQuery', 'https://en.wikipedia.org/wiki/Document_Object_Model', 'https://en.wikipedia.org/wiki/Internet_Explorer', 'https://en.wikipedia.org/wiki/Mozilla', 'https://en.wikipedia.org/wiki/XPath', 'https://en.wikipedia.org/wiki/Long_Tail', 'https://en.wikipedia.org/wiki/Metadata', 'https://en.wikipedia.org/wiki/Microformat', 'https://en.wikipedia.org/wiki/Machine_learning', 'https://en.wikipedia.org/wiki/Computer_vision', 'https://en.wikipedia.org/wiki/Wikipedia:WikiProject_Countering_systemic_bias', 'https://en.wikipedia.org/wiki/Talk:Web_scraping', 'https://en.wikipedia.org/wiki/Help:Maintenance_template_removal', 'https://en.wikipedia.org/wiki/Terms_of_use', 'https://en.wikipedia.org/wiki/Cause_of_action', 'https://en.wikipedia.org/wiki/Computer_Fraud_and_Abuse_Act', 'https://en.wikipedia.org/wiki/Trespass_to_chattels', 'https://en.wikipedia.org/wiki/Feist_Publications,_Inc.,_v._Rural_Telephone_Service_Co.', 'https://en.wikipedia.org/wiki/Trespass_to_chattels', 'https://en.wikipedia.org/wiki/EBay_v._Bidder%27s_Edge', 'https://en.wikipedia.org/wiki/Auction_sniping', 'https://en.wikipedia.org/wiki/Personal_property', 'https://en.wikipedia.org/wiki/Plaintiff', 'https://en.wikipedia.org/wiki/Defendant', 'https://en.wikipedia.org/wiki/Screen_scraping', 'https://en.wikipedia.org/wiki/American_Airlines', 'https://en.wikipedia.org/wiki/Injunction', 'https://en.wikipedia.org/wiki/Southwest_Airlines', 'https://en.wikipedia.org/wiki/US_Copyright_law', 'https://en.wikipedia.org/wiki/Supreme_Court_of_the_United_States', 'https://en.wikipedia.org/wiki/Yahoo!', 'https://en.wikipedia.org/wiki/Craigslist_v._3Taps', 'https://en.wikipedia.org/wiki/Computer_Fraud_and_Abuse_Act', 'https://en.wikipedia.org/wiki/Cvent,_Inc.', 'https://en.wikipedia.org/wiki/Eventbrite', 'https://en.wikipedia.org/wiki/Browse_wrap', 'https://en.wikipedia.org/wiki/United_States_District_Court_for_the_Eastern_District_of_Pennsylvania', 'https://en.wikipedia.org/wiki/QVC', 'https://en.wikipedia.org/wiki/Facebook,_Inc._v._Power_Ventures,_Inc.', 'https://en.wikipedia.org/wiki/Electronic_Frontier_Foundation', 'https://en.wikipedia.org/wiki/Associated_Press_v._Meltwater_U.S._Holdings,_Inc.', 'https://en.wikipedia.org/wiki/Internet_Archive', 'https://en.wikipedia.org/wiki/Inchoate_offense', 'https://en.wikipedia.org/wiki/Ryanair', 'https://en.wikipedia.org/wiki/Clickwrap', 'https://en.wikipedia.org/wiki/Michael_Hanna_(judge)', 'https://en.wikipedia.org/wiki/Spam_Act_2003', 'https://en.wikipedia.org/wiki/Information_Technology_Act,_2000#:~:text=From_Wikipedia,_the_free_encyclopedia_The_Information_Technology,in_India_dealing_with_cybercrime_and_electronic_commerce.', 'https://en.wikipedia.org/wiki/IP_address', 'https://en.wikipedia.org/wiki/Geolocation', 'https://en.wikipedia.org/wiki/DNSBL', 'https://en.wikipedia.org/wiki/Web_service', 'https://en.wikipedia.org/wiki/Application_programming_interface', 'https://en.wikipedia.org/wiki/User_agent', 'https://en.wikipedia.org/wiki/String_(computer_science)', 'https://en.wikipedia.org/wiki/Robots_exclusion_standard', 'https://en.wikipedia.org/wiki/Googlebot', 'https://en.wikipedia.org/wiki/CAPTCHA', 'https://en.wikipedia.org/wiki/Application_firewall', 'https://en.wikipedia.org/wiki/Honeypot_(computing)', 'https://en.wikipedia.org/wiki/Obfuscation', 'https://en.wikipedia.org/wiki/CSS_sprite', 'https://en.wikipedia.org/wiki/Web_accessibility', 'https://en.wikipedia.org/wiki/Screen_reader', 'https://en.wikipedia.org/wiki/Robots_exclusion_standard', 'https://en.wikipedia.org/wiki/Archive.today', 'https://en.wikipedia.org/wiki/Comparison_of_feed_aggregators', 'https://en.wikipedia.org/wiki/Data_scraping', 'https://en.wikipedia.org/wiki/Data_wrangling', 'https://en.wikipedia.org/wiki/Importer_(computing)', 'https://en.wikipedia.org/wiki/Job_wrapping', 'https://en.wikipedia.org/wiki/Knowledge_extraction', 'https://en.wikipedia.org/wiki/OpenSocial', 'https://en.wikipedia.org/wiki/Scraper_site', 'https://en.wikipedia.org/wiki/Fake_news_website', 'https://en.wikipedia.org/wiki/Blog_scraping', 'https://en.wikipedia.org/wiki/Spamdexing', 'https://en.wikipedia.org/wiki/Domain_name_drop_list', 'https://en.wikipedia.org/wiki/Text_corpus', 'https://en.wikipedia.org/wiki/Web_archiving', 'https://en.wikipedia.org/wiki/Web_crawler', 'https://en.wikipedia.org/wiki/Offline_reader', 'https://en.wikipedia.org/wiki/Link_farm', 'https://en.wikipedia.org/wiki/Search_engine_scraping', 'https://en.wikipedia.org/wiki/Category:Web_crawlers', 'https://en.wikipedia.org/wiki/Doi_(identifier)', 'https://en.wikipedia.org/wiki/ISBN_(identifier)', 'https://en.wikipedia.org/wiki/Special:BookSources/9781595936097', 'https://en.wikipedia.org/wiki/S2CID_(identifier)', 'https://en.wikipedia.org/wiki/Doi_(identifier)', 'https://en.wikipedia.org/wiki/ISSN_(identifier)', 'https://en.wikipedia.org/wiki/Help:Category', 'https://en.wikipedia.org/wiki/Category:Web_scraping', 'https://en.wikipedia.org/wiki/Category:CS1_Danish-language_sources_(da)', 'https://en.wikipedia.org/wiki/Category:CS1_French-language_sources_(fr)', 'https://en.wikipedia.org/wiki/Category:Articles_with_short_description', 'https://en.wikipedia.org/wiki/Category:Short_description_matches_Wikidata', 'https://en.wikipedia.org/wiki/Category:Articles_needing_additional_references_from_June_2017', 'https://en.wikipedia.org/wiki/Category:All_articles_needing_additional_references', 'https://en.wikipedia.org/wiki/Category:Articles_needing_additional_references_from_October_2018', 'https://en.wikipedia.org/wiki/Category:Articles_with_limited_geographic_scope_from_October_2015', 'https://en.wikipedia.org/wiki/Category:United_States-centric', 'https://en.wikipedia.org/wiki/Special:MyTalk', 'https://en.wikipedia.org/wiki/Special:MyContributions', 'https://en.wikipedia.org/wiki/Web_scraping', 'https://en.wikipedia.org/wiki/Talk:Web_scraping', 'https://en.wikipedia.org/wiki/Web_scraping', 'https://en.wikipedia.org/wiki/Main_Page', 'https://en.wikipedia.org/wiki/Main_Page', 'https://en.wikipedia.org/wiki/Wikipedia:Contents', 'https://en.wikipedia.org/wiki/Portal:Current_events', 'https://en.wikipedia.org/wiki/Special:Random', 'https://en.wikipedia.org/wiki/Wikipedia:About', 'https://en.wikipedia.org//en.wikipedia.org/wiki/Wikipedia:Contact_us', 'https://en.wikipedia.orghttps://donate.wikimedia.org/wiki/Special:FundraiserRedirector?utm_source=donate&utm_medium=sidebar&utm_campaign=C13_en.wikipedia.org&uselang=en', 'https://en.wikipedia.org/wiki/Help:Contents', 'https://en.wikipedia.org/wiki/Help:Introduction', 'https://en.wikipedia.org/wiki/Wikipedia:Community_portal', 'https://en.wikipedia.org/wiki/Special:RecentChanges', 'https://en.wikipedia.org/wiki/Wikipedia:File_Upload_Wizard', 'https://en.wikipedia.org/wiki/Special:WhatLinksHere/Web_scraping', 'https://en.wikipedia.org/wiki/Special:RecentChangesLinked/Web_scraping', 'https://en.wikipedia.org/wiki/Wikipedia:File_Upload_Wizard', 'https://en.wikipedia.org/wiki/Special:SpecialPages', 'https://en.wikipedia.orghttps://www.wikidata.org/wiki/Special:EntityPage/Q665452', 'https://en.wikipedia.orghttps://ar.wikipedia.org/wiki/%D8%A7%D8%B3%D8%AA%D8%AE%D9%84%D8%A7%D8%B5_%D8%A7%D9%84%D9%85%D9%88%D8%A7%D9%82%D8%B9', 'https://en.wikipedia.orghttps://ca.wikipedia.org/wiki/Web_scraping', 'https://en.wikipedia.orghttps://de.wikipedia.org/wiki/Screen_Scraping', 'https://en.wikipedia.orghttps://es.wikipedia.org/wiki/Web_scraping', 'https://en.wikipedia.orghttps://eu.wikipedia.org/wiki/Web_scraping', 'https://en.wikipedia.orghttps://fr.wikipedia.org/wiki/Web_scraping', 'https://en.wikipedia.orghttps://id.wikipedia.org/wiki/Web_scraping', 'https://en.wikipedia.orghttps://is.wikipedia.org/wiki/Vefs%C3%B6fnun', 'https://en.wikipedia.orghttps://it.wikipedia.org/wiki/Web_scraping', 'https://en.wikipedia.orghttps://lv.wikipedia.org/wiki/Rasmo%C5%A1ana', 'https://en.wikipedia.orghttps://nl.wikipedia.org/wiki/Scrapen', 'https://en.wikipedia.orghttps://ja.wikipedia.org/wiki/%E3%82%A6%E3%82%A7%E3%83%96%E3%82%B9%E3%82%AF%E3%83%AC%E3%82%A4%E3%83%94%E3%83%B3%E3%82%B0', 'https://en.wikipedia.orghttps://pt.wikipedia.org/wiki/Coleta_de_dados_web', 'https://en.wikipedia.orghttps://ru.wikipedia.org/wiki/%D0%92%D0%B5%D0%B1-%D1%81%D0%BA%D1%80%D0%B5%D0%B9%D0%BF%D0%B8%D0%BD%D0%B3', 'https://en.wikipedia.orghttps://sr.wikipedia.org/wiki/Web_scraping', 'https://en.wikipedia.orghttps://tr.wikipedia.org/wiki/Web_kaz%C4%B1ma', 'https://en.wikipedia.orghttps://uk.wikipedia.org/wiki/Web_scraping', 'https://en.wikipedia.orghttps://zh.wikipedia.org/wiki/%E7%BD%91%E9%A1%B5%E6%8A%93%E5%8F%96', 'https://en.wikipedia.orghttps://www.wikidata.org/wiki/Special:EntityPage/Q665452#sitelinks-wikipedia', 'https://en.wikipedia.org//en.wikipedia.org/wiki/Wikipedia:Text_of_Creative_Commons_Attribution-ShareAlike_3.0_Unported_License', 'https://en.wikipedia.org//foundation.wikimedia.org/wiki/Terms_of_Use', 'https://en.wikipedia.org//foundation.wikimedia.org/wiki/Privacy_policy', 'https://en.wikipedia.orghttps://foundation.wikimedia.org/wiki/Privacy_policy', 'https://en.wikipedia.org/wiki/Wikipedia:About', 'https://en.wikipedia.org/wiki/Wikipedia:General_disclaimer', 'https://en.wikipedia.org//en.wikipedia.org/wiki/Wikipedia:Contact_us', 'https://en.wikipedia.orghttps://www.mediawiki.org/wiki/Special:MyLanguage/How_to_contribute', 'https://en.wikipedia.orghttps://foundation.wikimedia.org/wiki/Cookie_statement']\n"
     ]
    }
   ],
   "source": [
    "links = [a.get('href') for a in soup.find_all('a', href=True)] \n",
    "wiki_links = []\n",
    "for link in links:\n",
    "    if \"/wiki/\" in link: \n",
    "        wiki_links.append(\"https://en.wikipedia.org\" + link)\n",
    "print(wiki_links)\n",
    "\n"
   ]
  }
 ],
 "metadata": {
  "colab": {
   "name": "hw2soln.ipynb",
   "provenance": []
  },
  "kernelspec": {
   "display_name": "Python 3",
   "language": "python",
   "name": "python3"
  },
  "language_info": {
   "codemirror_mode": {
    "name": "ipython",
    "version": 3
   },
   "file_extension": ".py",
   "mimetype": "text/x-python",
   "name": "python",
   "nbconvert_exporter": "python",
   "pygments_lexer": "ipython3",
   "version": "3.8.5"
  }
 },
 "nbformat": 4,
 "nbformat_minor": 4
}
